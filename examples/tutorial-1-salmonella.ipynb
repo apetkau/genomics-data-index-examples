{
 "cells": [
  {
   "cell_type": "markdown",
   "id": "f06f558b-d98a-4425-b990-46713f6ed53e",
   "metadata": {},
   "source": [
    "# Tutorial 1: Salmonella dataset\n",
    "\n",
    "# 1. Background\n",
    "\n",
    "This tutorial consists of an index constructed from a *Salmonella enterica* dataset previously published in (https://doi.org/10.1128/jcm.02200-15). To prepare the data, the genomes were downloaded, downsampled (to min 30x coverage) to reduce data size and run through [snippy](https://github.com/tseemann/snippy) to identify SNVs. These files were then loaded into a genomics index using the `gdi load snippy` command.\n",
    "\n",
    "# 2. Getting data\n",
    "\n",
    "Let's first download the data for this tutorial. To do this please run the below commands:\n",
    "\n",
    "*Note: In a Jupyter Python notebook, prepending a command with `!` runs the command in a shell instead of the Python interpreter (e.g., `!unzip` runs the command `unzip`).*"
   ]
  },
  {
   "cell_type": "code",
   "execution_count": null,
   "id": "73c22f2e-0f52-469b-8119-e529f8b2ddff",
   "metadata": {},
   "outputs": [],
   "source": [
    "!wget -O salmonella-project.zip https://ndownloader.figshare.com/files/27771615?private_link=0405199820a13aedca42\n",
    "!unzip -n salmonella-project.zip | head -n 3\n",
    "!echo\n",
    "!ls"
   ]
  },
  {
   "cell_type": "markdown",
   "id": "a315eb4d-ad8f-465b-b4b5-9c9035fbf663",
   "metadata": {},
   "source": [
    "Great. Now that we've got some data (in the `salmonella-project/` directory), let's explore the command-line interface to access this data.\n",
    "\n",
    "# 3. Command-line interface (`gdi`)\n",
    "\n",
    "Let's first print out the version of `gdi` being used."
   ]
  },
  {
   "cell_type": "code",
   "execution_count": null,
   "id": "e5ab20d8-881c-48a4-a4af-353b64cdcd27",
   "metadata": {},
   "outputs": [],
   "source": [
    "!gdi --version"
   ]
  },
  {
   "cell_type": "markdown",
   "id": "a0dec935-0453-4d5a-a643-3c99f09514f9",
   "metadata": {},
   "source": [
    "## 3.1 List samples\n",
    "\n",
    "The below command lists the samples loaded in this index. Note that instead of passing the project with `--project-dir` you can change to the project directory and `gdi` will figure out which project you're in."
   ]
  },
  {
   "cell_type": "code",
   "execution_count": null,
   "id": "0f2e16fb-e012-480c-8978-10788947c1ce",
   "metadata": {},
   "outputs": [],
   "source": [
    "!gdi --project-dir salmonella-project list samples | head -n 5"
   ]
  },
  {
   "cell_type": "markdown",
   "id": "146a37d6-9924-4ec2-ba42-b67ca8840514",
   "metadata": {},
   "source": [
    "## 3.2 List reference genomes\n",
    "\n",
    "This lists all the loaded reference genomes in this genomics index. This can be useful for commands later which require you to pass the name of the reference genome."
   ]
  },
  {
   "cell_type": "code",
   "execution_count": null,
   "id": "613518c9-86a8-4af3-98c9-fdfb777751cf",
   "metadata": {},
   "outputs": [],
   "source": [
    "!gdi --project-dir salmonella-project list genomes"
   ]
  },
  {
   "cell_type": "markdown",
   "id": "b62f3325-abb6-46ef-9de5-8a097f4c1a9b",
   "metadata": {},
   "source": [
    "## 3.3 Query for a particular mutation\n",
    "\n",
    "This searches for a particular mutation (in this case a deletion of a `CG` at position 2865334 and an insertion of a `G`). If you are familiar with the VCF format, this is given in terms of `CHROM:POS:REF:ALT` format."
   ]
  },
  {
   "cell_type": "code",
   "execution_count": null,
   "id": "779c052b-3ec6-4072-a59c-bbb49096136b",
   "metadata": {},
   "outputs": [],
   "source": [
    "!gdi --project-dir salmonella-project query mutation 'NC_011083.1:2865334:CG:C' | column -s$'\\t' -t"
   ]
  },
  {
   "cell_type": "markdown",
   "id": "df9caa41-8842-46f1-ad05-f8089e1e21cb",
   "metadata": {},
   "source": [
    "## 3.4 Build an alignment\n",
    "\n",
    "To build an alignment for use in further phylogenetics software you can do the following."
   ]
  },
  {
   "cell_type": "code",
   "execution_count": null,
   "id": "0beaf381-8b7f-44d4-abb5-1158c5d47d8b",
   "metadata": {},
   "outputs": [],
   "source": [
    "!gdi --project-dir salmonella-project build alignment --reference-name S_HeidelbergSL476 --align-type full --output-file out.aln"
   ]
  },
  {
   "cell_type": "code",
   "execution_count": null,
   "id": "2d8c2412-489a-4077-9399-11bd16142c09",
   "metadata": {},
   "outputs": [],
   "source": [
    "!head -n 2 out.aln"
   ]
  },
  {
   "cell_type": "markdown",
   "id": "2c53b72d-450c-43b8-a083-b3b7fae8a311",
   "metadata": {},
   "source": [
    "This will produce an alignment with length equal to the reference genome, masking any missing data or gaps with `N`, and concatenating individual sequences (contigs) in the alignment together to construct a single, whole-genome alignment.\n",
    "\n",
    "You can pass in specific samples to include with `--sample`."
   ]
  },
  {
   "cell_type": "markdown",
   "id": "51c56e91-3f23-49fc-9c08-8d8966874332",
   "metadata": {},
   "source": [
    "# 4. Python API (Genomics Data Index API)\n",
    "\n",
    "Now let's move on to the Python interface for loading, and querying data in this index. This is a much more powerful (and flexible) way to work with your data which attempts to provide seamless data flow between this index and Python [pandas](https://pandas.pydata.org/).\n",
    "\n",
    "We first start out by connecting to our project through `GenomicsDataIndex`."
   ]
  },
  {
   "cell_type": "code",
   "execution_count": null,
   "id": "cd88d725-228c-490a-922d-4faaaabf86a8",
   "metadata": {},
   "outputs": [],
   "source": [
    "import genomics_data_index.api as gdi\n",
    "\n",
    "db = gdi.GenomicsDataIndex.connect('salmonella-project')\n",
    "db"
   ]
  },
  {
   "cell_type": "markdown",
   "id": "57f9fb8d-4d89-4648-ad9a-da2d38deeaf2",
   "metadata": {},
   "source": [
    "Great. We're connected. The `samples=59` tells us how many samples are in this database.\n",
    "\n",
    "You can run `db.sample_names()` or `db.reference_names()` to list the samples and reference genomes in this database."
   ]
  },
  {
   "cell_type": "code",
   "execution_count": null,
   "id": "b89b0b35-a805-4657-99b6-a2a230813ef4",
   "metadata": {},
   "outputs": [],
   "source": [
    "db.sample_names()[0:5]"
   ]
  },
  {
   "cell_type": "code",
   "execution_count": null,
   "id": "2f7dc469-5a7c-4e2f-b132-a5550b169abc",
   "metadata": {},
   "outputs": [],
   "source": [
    "db.reference_names()"
   ]
  },
  {
   "cell_type": "markdown",
   "id": "ef44c72c-09e1-4bf4-adfa-d3e9f6867e6a",
   "metadata": {},
   "source": [
    "## 4.1 List all features (mutations)\n",
    "\n",
    "To list a summary of all indexed mutations we can do:"
   ]
  },
  {
   "cell_type": "code",
   "execution_count": null,
   "id": "4a4de449-1292-472f-9b42-b3b348cd9bb2",
   "metadata": {},
   "outputs": [],
   "source": [
    "summary_df = db.mutations_summary(reference_genome='S_HeidelbergSL476').sort_values('Count', ascending=False)\n",
    "summary_df"
   ]
  },
  {
   "cell_type": "markdown",
   "id": "7da3832e-266c-42f4-8def-14de4ae88406",
   "metadata": {},
   "source": [
    "This gives us back a DataFrame summarizing the mutations.\n",
    "\n",
    "The **Count**, **Total**, and **Percent** columns tell us how many samples have a particular mutation.\n",
    "\n",
    "The **Annotation** and beyond columns give us detailed information about the mutation's impact (as derived from [snpeff](https://pcingola.github.io/SnpEff/) if this was run on the genomes (VCF files) prior to indexing).\n",
    "\n",
    "Let's look for mutations where less than half of the genomic samples have a particular mutation."
   ]
  },
  {
   "cell_type": "code",
   "execution_count": null,
   "id": "e30bfbe8-8fe2-462d-8f7c-2f19e5bd0d52",
   "metadata": {},
   "outputs": [],
   "source": [
    "summary_df[summary_df['Percent'] < 50].head(5)"
   ]
  },
  {
   "cell_type": "markdown",
   "id": "b3952849-bd62-425d-848d-212669d2eaaa",
   "metadata": {},
   "source": [
    "Let's use this table to select a mutation to search for. We will select `NC_011083.1:1000708:T:C`."
   ]
  },
  {
   "cell_type": "markdown",
   "id": "6b5cfae9-be1c-4151-87e4-889faa2896f4",
   "metadata": {},
   "source": [
    "## 4.2 Search for a particular mutation (`hasa()`)\n",
    "\n",
    "We can search for genomic samples containing particular mutation by starting a query and using the `hasa()` method."
   ]
  },
  {
   "cell_type": "code",
   "execution_count": null,
   "id": "efb66090-6244-4b1a-a3ad-8b25f39429a8",
   "metadata": {},
   "outputs": [],
   "source": [
    "q = db.samples_query().hasa('NC_011083.1:1000708:T:C', kind='mutation')\n",
    "q"
   ]
  },
  {
   "cell_type": "markdown",
   "id": "65f49754-5759-4cae-9683-3ad2539f84af",
   "metadata": {},
   "source": [
    "The `hasa()` method can be read as \"select samples that **have a** particular mutation\". The selected samples are printed above (30/59 have this particular mutation).\n",
    "\n",
    "### 4.2.1. Not including `kind`\n",
    "\n",
    "The default **kind** for `hasa()` is `mutation` so you can leave out `kind='mutation'` if you wish."
   ]
  },
  {
   "cell_type": "code",
   "execution_count": null,
   "id": "3bfa8957-a97a-4965-8a6b-07c742c05999",
   "metadata": {},
   "outputs": [],
   "source": [
    "q = db.samples_query().hasa('NC_011083.1:1000708:T:C')\n",
    "q"
   ]
  },
  {
   "cell_type": "markdown",
   "id": "e381acef-5986-4f06-baf6-51bbee4b65c3",
   "metadata": {},
   "source": [
    "### 4.2.2. Select by HGVS id\n",
    "\n",
    "We can also select samples using the [HGVS](https://varnomen.hgvs.org/) identifier."
   ]
  },
  {
   "cell_type": "code",
   "execution_count": null,
   "id": "c0ed4a5d-d3bb-4d77-98c4-dc2f0407882b",
   "metadata": {},
   "outputs": [],
   "source": [
    "q = db.samples_query().hasa('hgvs:NC_011083.1:SEHA_RS05365:p.L110P')\n",
    "q"
   ]
  },
  {
   "cell_type": "markdown",
   "id": "5cce19c4-2a05-4b94-8d4a-9a1f3e0dab16",
   "metadata": {},
   "source": [
    "The HGVS identifier is given as `hgvs:sequence:gene_locus_id:variant`. You can find the corresponding HGVS identifiers from the `mutations_summary()` table shown above."
   ]
  },
  {
   "cell_type": "code",
   "execution_count": null,
   "id": "6b0b7037-f3b6-4eb9-a8fa-ca1c8b680955",
   "metadata": {},
   "outputs": [],
   "source": [
    "summary_df.loc['NC_011083.1:1000708:T:C'][['ID_HGVS.c', 'ID_HGVS.p']]"
   ]
  },
  {
   "cell_type": "markdown",
   "id": "e7b26996-8b89-4418-8ef6-766fb411eda7",
   "metadata": {},
   "source": [
    "*Note: As of right now, HGVS identifiers are derived when using SnpEff, so this option will only work if SnpEff was run on the VCF files and corresponding HGVS identifiers were stored in the index.*"
   ]
  },
  {
   "cell_type": "markdown",
   "id": "dabceb51-7ec1-4aae-9738-1659747249b0",
   "metadata": {},
   "source": [
    "### 4.2.3. Unknown samples\n",
    "\n",
    "You may notice that in the results of the query we find `unknown=2% (1/59) samples`."
   ]
  },
  {
   "cell_type": "code",
   "execution_count": null,
   "id": "93d96508-0a39-4f71-a10e-d9fff1c904fd",
   "metadata": {},
   "outputs": [],
   "source": [
    "db.samples_query().hasa('hgvs:NC_011083.1:SEHA_RS05365:p.L110P')"
   ]
  },
  {
   "cell_type": "markdown",
   "id": "93cadf9f-0c83-430e-a699-9e5fd208d9e4",
   "metadata": {},
   "source": [
    "This shows us that there exists 1 sample where it is unknown whether or not it has a `hgvs:NC_011083.1:SEHA_RS05365:p.L110P` mutation. This could be either that this particular region of the genome was identified as having gaps (`-`) or ambiguous characters (`N`), hence it cannot be determined whether or not the mutation in question exists.\n",
    "\n",
    "Samples where the result of a query is `unknown` are tracked and can be printed out using the commands shown below on accessing more details about a query."
   ]
  },
  {
   "cell_type": "markdown",
   "id": "ae4debd6-1f39-404d-8df9-9e0b8cd30164",
   "metadata": {},
   "source": [
    "### 4.2.4. Details about query\n",
    "\n",
    "Once we have a query/selection of samples the specific samples can be shown with the `toframe()` method:"
   ]
  },
  {
   "cell_type": "code",
   "execution_count": null,
   "id": "19ee8645-9942-4e6a-8cd8-7d897c16b9d2",
   "metadata": {},
   "outputs": [],
   "source": [
    "q.toframe(include_unknown=True)"
   ]
  },
  {
   "cell_type": "markdown",
   "id": "34b55061-e318-4774-a51e-77f9e423789c",
   "metadata": {},
   "source": [
    "You can use `include_unknown=True` to include samples where the status of the query is **Unknown** (unknown whether it is True or False). By default unknowns are not included.\n",
    "\n",
    "To summarize, you can use `summary()`:"
   ]
  },
  {
   "cell_type": "code",
   "execution_count": null,
   "id": "2fd551c5-4a41-4af3-82cb-1bd45014e3be",
   "metadata": {},
   "outputs": [],
   "source": [
    "q.summary()"
   ]
  },
  {
   "cell_type": "markdown",
   "id": "29f0712c-75ae-4948-9633-b7e9209d09b7",
   "metadata": {},
   "source": [
    "Or you can use `tolist()` (by default unknowns are not included, you can use `include_unknown=True` to include them)."
   ]
  },
  {
   "cell_type": "code",
   "execution_count": null,
   "id": "592958d5-2a3c-4ccd-80ff-5e32e71b9cea",
   "metadata": {},
   "outputs": [],
   "source": [
    "q.tolist()"
   ]
  },
  {
   "cell_type": "markdown",
   "id": "25ee7693-a697-49a0-b48c-59dbc15bf112",
   "metadata": {},
   "source": [
    "## 4.3 Chaining queries\n",
    "\n",
    "Queries can be chained together to select samples that match every criteria given in the `has()` method."
   ]
  },
  {
   "cell_type": "code",
   "execution_count": null,
   "id": "87694b6c-9692-49e0-b1db-b1afe67d01c6",
   "metadata": {},
   "outputs": [],
   "source": [
    "q = db.samples_query() \\\n",
    "    .hasa('hgvs:NC_011083.1:SEHA_RS05365:p.L110P') \\\n",
    "    .hasa('NC_011083.1:3371274:C:A')\n",
    "q"
   ]
  },
  {
   "cell_type": "markdown",
   "id": "7797000c-cf17-4dcd-ad8b-1051439fd570",
   "metadata": {},
   "source": [
    "This can be read as \"select all samples that **have a** `L110P` mutation (amino acid) on gene `SEHA_RS05365` **AND** select all samples that **have a** `C to A` mutation on position `3371274` of sequence `NC_011083.1`\".\n",
    "\n",
    "### 4.3.1. Handling unknowns\n",
    "\n",
    "You may notice that the unknown's have increased to 36%. In the data model used by this software, both ambiguous characters (e.g., `N`) and gaps (e.g., `-`) are considered as unknown (or missing). So, if genomes have a large deletion in a particular region overlapping a mutation being queried, then these would all show up as having an unknown status. I do not know if this is the case here (further investigation is required) but this is something to keep in mind.\n",
    "\n",
    "You can convert all those samples/genomes that have an Unknown status to be considered selected if you wish using some boolean logic on queries and `select_unknown()`. In particular:"
   ]
  },
  {
   "cell_type": "code",
   "execution_count": null,
   "id": "9f2b8ddd-9a06-4876-9439-4a6e183dad35",
   "metadata": {},
   "outputs": [],
   "source": [
    "r = q.or_(q.select_unknown())\n",
    "\n",
    "# Alternatively\n",
    "#r = q | q.select_unknown()\n",
    "\n",
    "r"
   ]
  },
  {
   "cell_type": "markdown",
   "id": "a1a28138-796a-4619-b722-e7d7c4b63586",
   "metadata": {},
   "source": [
    "Here, `q.select_unknown()` selects only the unknown samples and `q.or_()` means select everything that is in `q` OR in `q.select_unknown()`."
   ]
  },
  {
   "cell_type": "markdown",
   "id": "f0ed8d72-56c8-462d-910e-3f86d69b8c0c",
   "metadata": {},
   "source": [
    "## 4.4 Searching for a particular sample (`isa()` and `isin()`)\n",
    "\n",
    "The `isa()` and `isin()` methods let us search for particular samples by name. The difference between the two is that:\n",
    "\n",
    "1. `isa()` is meant to be read \"select samples that **are** (**is a**) type matching the expression.\n",
    "2. `isin()` is meant to be read \"select samples that are **in** a set defined by the passed criteria.\n",
    "\n",
    "The differences between these become more apparent for more advanced queries later on. For now, we can use these to select samples by name."
   ]
  },
  {
   "cell_type": "code",
   "execution_count": null,
   "id": "5752c79a-cd7d-433f-8d5d-37db8a202b1f",
   "metadata": {},
   "outputs": [],
   "source": [
    "q = db.samples_query().isa('SH12-001')\n",
    "q"
   ]
  },
  {
   "cell_type": "code",
   "execution_count": null,
   "id": "449065f1-be1a-455d-bb28-6a956b1b557a",
   "metadata": {},
   "outputs": [],
   "source": [
    "q = db.samples_query().isin(['SH12-001', 'SH13-001'])\n",
    "q"
   ]
  },
  {
   "cell_type": "markdown",
   "id": "a2c1435d-a4a2-41a6-b875-f9b80c117926",
   "metadata": {},
   "source": [
    "## 4.5 Searching within a tree\n",
    "\n",
    "Queries are not limited to what mutations a sample has or by sample name. We can also use `isin()` to select samples that match criteria related to a phylogenetic tree.\n",
    "\n",
    "To do this, we must specify that our query has a tree attached to it. The example data for this tutorial does have such a tree (though it can be built on-the-fly if needed using `build_tree()`, or joined to an existing tree using `join_tree()`)."
   ]
  },
  {
   "cell_type": "code",
   "execution_count": null,
   "id": "e533f99c-c6f9-40aa-b855-998b89f963fd",
   "metadata": {},
   "outputs": [],
   "source": [
    "t = db.samples_query(universe='mutations', reference_name='S_HeidelbergSL476')\n",
    "t"
   ]
  },
  {
   "cell_type": "markdown",
   "id": "96ce9b8a-3545-4de4-b915-30078f0cd918",
   "metadata": {},
   "source": [
    "Here, the type of query is a `MutationTreeSamplesQuery` which means it has a tree attached to it (derived from mutations). You can access the underlying tree with the `tree` property (as an ete3 Tree object)."
   ]
  },
  {
   "cell_type": "code",
   "execution_count": null,
   "id": "3b5a8097-4ad6-4b36-8f01-07af1db6168b",
   "metadata": {},
   "outputs": [],
   "source": [
    "t.tree\n",
    "\n",
    "# Print as newick format\n",
    "#t.tree.write()"
   ]
  },
  {
   "cell_type": "markdown",
   "id": "c042fbb2-9c75-44c3-a49d-42f207c74e0e",
   "metadata": {},
   "source": [
    "You can quickly visualize the tree in-line by using the `tree_styler()` method:"
   ]
  },
  {
   "cell_type": "code",
   "execution_count": null,
   "id": "31a58a80-c7b2-4ee3-9874-031dc3316d3a",
   "metadata": {},
   "outputs": [],
   "source": [
    "t.tree_styler().render(w=300)"
   ]
  },
  {
   "cell_type": "markdown",
   "id": "99e50d53-2862-4f90-b8f5-d1c71d830843",
   "metadata": {},
   "source": [
    "### 4.5.1. Select by distance in a tree\n",
    "\n",
    "Now that we have a phylogenetic tree, we can search using this tree with `isin()`. To do this, let's search for samples within some distance from `SH14-001`."
   ]
  },
  {
   "cell_type": "code",
   "execution_count": null,
   "id": "985f1edb-e773-4ab6-b1b4-59c2c2a90973",
   "metadata": {},
   "outputs": [],
   "source": [
    "tdist = t.isin('SH14-001', kind='distance', distance=3e-7, units='substitutions/site')\n",
    "tdist"
   ]
  },
  {
   "cell_type": "markdown",
   "id": "9454961c-560c-4af5-9c50-88a7eeb2fa2d",
   "metadata": {},
   "source": [
    "This selects a subset of samples within the above distance (given in `'substitutions/site'`, you can also use `units='substitutions'`).\n",
    "\n",
    "It can be hard to see what is going on, so we can combine our query with the tree visualization using the `highlight()` method to highlight the selected samples in the tree.\n",
    "\n",
    "*Note: Selecting by distance to `SH14-001`, won't necessarily select genomes belonging to the same clade.*"
   ]
  },
  {
   "cell_type": "code",
   "execution_count": null,
   "id": "2b8ed3ed-9d16-4d5e-89fa-6a58e2f15f16",
   "metadata": {},
   "outputs": [],
   "source": [
    "t.tree_styler().highlight(tdist).render(w=300)"
   ]
  },
  {
   "cell_type": "markdown",
   "id": "41076d4d-1069-46a2-b9f3-17511466260d",
   "metadata": {},
   "source": [
    "### 4.5.2. Select by most recent common ancestor\n",
    "\n",
    "Another type of query instead of distance is `mrca` which selects samples that all share a particular most recent common ancestor."
   ]
  },
  {
   "cell_type": "code",
   "execution_count": null,
   "id": "23bb9f39-735f-47fa-b511-2732eb844555",
   "metadata": {},
   "outputs": [],
   "source": [
    "tmrca = t.isin(['SH14-001', 'SH14-027'], kind='mrca')\n",
    "t.tree_styler().highlight(tmrca).render(w=300)"
   ]
  },
  {
   "cell_type": "markdown",
   "id": "16486ed2-6701-47df-8451-8045909468a7",
   "metadata": {},
   "source": [
    "### 4.5.3. Select by distance and mrca\n",
    "\n",
    "If you wish to select by distance, but restrict yourself to some particular clade you can chain the above two queries together."
   ]
  },
  {
   "cell_type": "code",
   "execution_count": null,
   "id": "05a4d717-75ea-48a9-80f7-e1672d2c3987",
   "metadata": {},
   "outputs": [],
   "source": [
    "tmrca_and_dist = t.isin(['SH14-001', 'SH14-027'], kind='mrca')\\\n",
    "    .isin('SH14-001', kind='distance', distance=3e-7, units='substitutions/site')\n",
    "\n",
    "t.tree_styler().highlight(tmrca_and_dist).render(w=300)"
   ]
  },
  {
   "cell_type": "markdown",
   "id": "9e6caceb-baca-4f12-84a1-c40ef91fb6e8",
   "metadata": {},
   "source": [
    "## 4.6 Attach external metadata\n",
    "\n",
    "So far we've been looking at only the genomics data. But often times many details insights can be derived from the associated metadata with the genomic samples. External metadata can be attached and tracked by our queries. This also gives us annother method for selecting samples using pandas selection statements (e.g., `metadata['Column'] == 'value'`).\n",
    "\n",
    "To attach external metadata we first must load it up in Python as a DataFrame (note `head(3)` just means only print the first 3 rows, which avoids printing a very large table for this tutorial)."
   ]
  },
  {
   "cell_type": "code",
   "execution_count": null,
   "id": "a30f2d3f-76a0-44bb-b7d1-6d16d08ed262",
   "metadata": {},
   "outputs": [],
   "source": [
    "import pandas as pd\n",
    "\n",
    "metadata_df = pd.read_csv('salmonella-project/metadata.tsv', sep='\\t', dtype=str)\n",
    "metadata_df.head(3)"
   ]
  },
  {
   "cell_type": "markdown",
   "id": "30181c03-3541-4abf-8cc1-3410369a7a65",
   "metadata": {},
   "source": [
    "Now we can attach to our query using the `join()` method:"
   ]
  },
  {
   "cell_type": "code",
   "execution_count": null,
   "id": "e1910c1f-1b53-4976-9832-133864ca6c77",
   "metadata": {},
   "outputs": [],
   "source": [
    "# Setup a new query (you don't have to do this, but this makes sure the results are all as expected in the tutorial)\n",
    "q = db.samples_query().hasa('hgvs:NC_011083.1:SEHA_RS05365:p.L110P')\n",
    "\n",
    "# Join our query with the given data frame\n",
    "q = q.join(metadata_df, sample_names_column='Strain')\n",
    "q"
   ]
  },
  {
   "cell_type": "markdown",
   "id": "79dc9bfd-facb-43ca-bd9f-33a456395571",
   "metadata": {},
   "source": [
    "To join we had to define a column containing the sample names. We now get back a query of type `DataFrameSamplesQuery`."
   ]
  },
  {
   "cell_type": "markdown",
   "id": "909c7750-5866-470d-a40c-5e2e984d6074",
   "metadata": {},
   "source": [
    "## 4.7 Query external metadata\n",
    "\n",
    "We can continue using this to select samples and when we're done use the `toframe()` method to dump out our selected data as a DataFrame (change to `toframe(include_unknown=True)` if you wish to include unknown results)."
   ]
  },
  {
   "cell_type": "code",
   "execution_count": null,
   "id": "b6cd0b7d-f219-45fe-864c-4540acb38c4f",
   "metadata": {},
   "outputs": [],
   "source": [
    "q.hasa('hgvs:NC_011083.1:SEHA_RS17780:c.1080T>C').toframe()"
   ]
  },
  {
   "cell_type": "markdown",
   "id": "f490a58b-ade8-4b1a-91ea-14d904dc6885",
   "metadata": {},
   "source": [
    "Running `toframe()` will add some additional columns to the front of the external data frame defining the genomics query information."
   ]
  },
  {
   "cell_type": "markdown",
   "id": "416004c7-b77e-4fa9-97a6-fefb3c88a1e6",
   "metadata": {},
   "source": [
    "## 4.8 Selecting by column values using `isa()`\n",
    "\n",
    "We can now use the `isa()` method to select samples by values in a particular metadata column. For example, to select all samples with a **Source** of `Food` we can use:"
   ]
  },
  {
   "cell_type": "code",
   "execution_count": null,
   "id": "2781766f-4bb3-4ad9-90a5-55d0ed2388bd",
   "metadata": {},
   "outputs": [],
   "source": [
    "q.isa('Food', isa_column='Source', kind='dataframe').toframe().head(3)"
   ]
  },
  {
   "cell_type": "markdown",
   "id": "65985873-7fc3-48b1-98ef-9485b1ae9f88",
   "metadata": {},
   "source": [
    "To make it easier to write these query expressions, you can set a default column for `isa()` queries when joining to a dataframe:"
   ]
  },
  {
   "cell_type": "code",
   "execution_count": null,
   "id": "af2ee367-4ced-4481-b660-3b2e1a4eb8e3",
   "metadata": {},
   "outputs": [],
   "source": [
    "q = db.samples_query().join(metadata_df, sample_names_column='Strain',\n",
    "                            default_isa_kind='dataframe', default_isa_column='Source')\n",
    "q.isa('Food').toframe().head(3)"
   ]
  },
  {
   "cell_type": "markdown",
   "id": "47ca3495-2faa-4004-bba2-60db5fd8520e",
   "metadata": {},
   "source": [
    "You can also pass `regex=True` to `isa()` to query by a regex."
   ]
  },
  {
   "cell_type": "markdown",
   "id": "4a898e8f-f7ce-43fa-97d5-e97fcda1719e",
   "metadata": {},
   "source": [
    "## 4.9 Selecting by pandas selection expressions\n",
    "\n",
    "You can also select samples using the more powerful pandas selection expressions. You use the `isin()` method for this.\n",
    "\n",
    "For example, an alternative way to select samples where **Source** is `Food` is:"
   ]
  },
  {
   "cell_type": "code",
   "execution_count": null,
   "id": "79f33015-2c73-4d65-b452-397d5b960a83",
   "metadata": {},
   "outputs": [],
   "source": [
    "q.isin(metadata_df['Source'] == 'Food', kind='dataframe').toframe().head(3)"
   ]
  },
  {
   "cell_type": "markdown",
   "id": "79d441fc-9e35-4c04-b62a-fc9202c1981a",
   "metadata": {},
   "source": [
    "# 5. Putting it all together\n",
    "\n",
    "So far we've seen connecting to an index (project), querying by mutations and by relationships in a tree, as well as attaching external metadata. We can put this all together and do some basic visualiations of our selections on the tree (using the `ete3` toolkit)."
   ]
  },
  {
   "cell_type": "markdown",
   "id": "cdea5a2f-8ee9-4b0c-834d-1154f35f4b84",
   "metadata": {},
   "source": [
    "## 5.1. Highlight everything in each outbreak and show a unique mutation mutation"
   ]
  },
  {
   "cell_type": "markdown",
   "id": "87c7ab38-c97a-420b-9afd-4d5759e3a814",
   "metadata": {},
   "source": [
    "### 5.1.1 Load tree and attach data frame"
   ]
  },
  {
   "cell_type": "code",
   "execution_count": null,
   "id": "808d4a81-ffcf-4ab4-950e-bf1be67eefe6",
   "metadata": {},
   "outputs": [],
   "source": [
    "q = db.samples_query(universe='mutations', reference_name='S_HeidelbergSL476')\\\n",
    "    .join(metadata_df, sample_names_column='Strain')\n",
    "q"
   ]
  },
  {
   "cell_type": "markdown",
   "id": "b770d920-7140-4cf9-89e2-38b197e00abc",
   "metadata": {},
   "source": [
    "### 5.1.2 Select samples in outbreak 1 and show mutations"
   ]
  },
  {
   "cell_type": "code",
   "execution_count": null,
   "id": "840e2293-0ee8-47f1-88d2-f43268cf786b",
   "metadata": {},
   "outputs": [],
   "source": [
    "q_o1 = q.isa('1', isa_column='Outbreak number', kind='dataframe')\n",
    "q_o1"
   ]
  },
  {
   "cell_type": "code",
   "execution_count": null,
   "id": "fb551eb2-30a5-46ee-8cf1-be33fa4dff95",
   "metadata": {},
   "outputs": [],
   "source": [
    "q_o1.features_summary(selection='unique').sort_values('Count', ascending=False).head(8)"
   ]
  },
  {
   "cell_type": "markdown",
   "id": "334e2848-3f25-4aa3-bf47-2a2b94d6d900",
   "metadata": {
    "tags": []
   },
   "source": [
    "Passing `selection='unique'` will select only those mutations that are unique to the selected set (useful for searching for lineage-defining mutations or mutations in subsets of the selected samples).\n",
    "\n",
    "Let's pick one of the lineage-defining mutations (i.e., a mutation uniquely found in only **Outbreak 1**). We can detect these by using `selection='unique'` and filtering to mutations where `Count` is equal to `Total` (count of samples with mutation equals total samples in selection)."
   ]
  },
  {
   "cell_type": "code",
   "execution_count": null,
   "id": "5f3fb9a6-84fa-48d9-ab18-505d01f51ca2",
   "metadata": {},
   "outputs": [],
   "source": [
    "o1_df = q_o1.features_summary(selection='unique')\n",
    "o1_df[o1_df['Count'] == o1_df['Total']].head(3)"
   ]
  },
  {
   "cell_type": "markdown",
   "id": "8aede145-e09f-459a-8599-d2a76acb33b6",
   "metadata": {},
   "source": [
    "Let's highlight `hgvs:NC_011083.1:SEHA_RS00825:p.I23F` (`NC_011083.1:58804:T:A`) in the tree."
   ]
  },
  {
   "cell_type": "markdown",
   "id": "6a0612cb-c7e3-4b08-85da-d80c19499fb4",
   "metadata": {},
   "source": [
    "### 5.1.3 Highlight samples in **Outbreak 1** and highlight those with a particular mutation in a different color"
   ]
  },
  {
   "cell_type": "code",
   "execution_count": null,
   "id": "da47b564-e767-4a70-84b3-a1202ef9141f",
   "metadata": {},
   "outputs": [],
   "source": [
    "# Use `highlight()` to highlight Outbreak 1\n",
    "# Chain with other `highlight()` methods to highlight other outbreak samples\n",
    "# Use `annotate()` to add a column indicating the presence/absence of '58804:T:A' mutation\n",
    "# Use `highlight_style` to change the color scheme of the highlights\n",
    "ts = q.tree_styler(highlight_style='pastel', annotate_show_box_label=True, legend_nsize=30, legend_fsize=14)\\\n",
    "        .highlight(q_o1, legend_label='Outbreak 1')\\\n",
    "        .highlight(q.isa('2', isa_column='Outbreak number', kind='dataframe'), legend_label='Outbreak 2')\\\n",
    "        .highlight(q.isa('3', isa_column='Outbreak number', kind='dataframe'), legend_label='Outbreak 3')\\\n",
    "        .annotate(q.hasa('hgvs:NC_011083.1:SEHA_RS00825:p.I23F'), label='SEHA_RS00825:I23F')\n",
    "ts.render(w=400)"
   ]
  },
  {
   "cell_type": "markdown",
   "id": "57315059-a889-4d6a-9d6f-2452b6b5372d",
   "metadata": {},
   "source": [
    "This shows the "
   ]
  },
  {
   "cell_type": "markdown",
   "id": "cbb1c89b-4453-4534-ae88-f241e0333bdd",
   "metadata": {},
   "source": [
    "### 5.1.4: Save the output to a file"
   ]
  },
  {
   "cell_type": "code",
   "execution_count": null,
   "id": "b8558edc-1bac-43ec-a5dc-a0cfc196eb72",
   "metadata": {},
   "outputs": [],
   "source": [
    "# Save this to a PDF file\n",
    "file = 'output1.pdf'\n",
    "x = ts.render(file)\n",
    "print(f'Saved to {file}')\n",
    "# (I assign to x to surpress printing text when saving in Jupyter)"
   ]
  },
  {
   "cell_type": "markdown",
   "id": "2b92246d-29eb-40b2-8371-8fd2d5e15b07",
   "metadata": {},
   "source": [
    "# 5.2: Working with mutations table\n",
    "\n",
    "### 5.2.1 Get mutations for all samples with Outbreak number `2`"
   ]
  },
  {
   "cell_type": "code",
   "execution_count": null,
   "id": "f6f2434a-8fa4-4d64-bae7-26dc5b56c5ab",
   "metadata": {},
   "outputs": [],
   "source": [
    "q = db.samples_query().join(metadata_df, sample_names_column='Strain',\n",
    "                            default_isa_column='Outbreak number', default_isa_kind='dataframe')\n",
    "q.isa('2')"
   ]
  },
  {
   "cell_type": "code",
   "execution_count": null,
   "id": "201722a5-92c4-4b79-b33f-87f02fc6e09e",
   "metadata": {},
   "outputs": [],
   "source": [
    "q.isa('2').features_summary()"
   ]
  },
  {
   "cell_type": "markdown",
   "id": "2f714534-dabe-4aba-aba1-a55d35a6a462",
   "metadata": {},
   "source": [
    "### 5.2.2 Plot distribution of mutations on genome for outbreak `2`"
   ]
  },
  {
   "cell_type": "code",
   "execution_count": null,
   "id": "5a70ea60-803d-473d-94e2-a8daec3894aa",
   "metadata": {},
   "outputs": [],
   "source": [
    "q_o2_positions = q.isa('2').features_summary()\\\n",
    "    .groupby('Position')\\\n",
    "    .agg({'Position': 'first', 'Count': 'sum'})\n",
    "q_o2_positions"
   ]
  },
  {
   "cell_type": "code",
   "execution_count": null,
   "id": "4e79b187-02bf-41a1-908c-050818fbe461",
   "metadata": {},
   "outputs": [],
   "source": [
    "import matplotlib.pyplot as plt\n",
    "\n",
    "reference_genome = db.reference_names()[0]\n",
    "\n",
    "# I'm just showing a histogram of positions, I'm ignoring sample counts\n",
    "q_o2_positions['Position'].hist(bins=100)\n",
    "\n",
    "plt.title('Distribution of mutations for Outbreak 2', fontdict={'size': 16})\n",
    "plt.xlabel(f'Position on {reference_genome} (bp)', fontdict={'size': 14})\n",
    "plt.ylabel('Count of mutation positions', fontdict={'size': 14})"
   ]
  },
  {
   "cell_type": "markdown",
   "id": "016e0052-6bf4-4a6f-9a37-f3e8538b3558",
   "metadata": {},
   "source": [
    "### 5.2.3 Compare to distribution of mutations in outbreak 1 and 3\n",
    "\n",
    "We'll compare to outbreak 1 and 3 using the same histogram."
   ]
  },
  {
   "cell_type": "code",
   "execution_count": null,
   "id": "eaabf33b-db79-4711-bff8-d229326282ee",
   "metadata": {},
   "outputs": [],
   "source": [
    "q_o1_positions = q.isa('1').features_summary()\\\n",
    "    .groupby('Position')\\\n",
    "    .agg({'Position': 'first', 'Count': 'sum'})\n",
    "q_o1_positions"
   ]
  },
  {
   "cell_type": "code",
   "execution_count": null,
   "id": "6f3ddc10-5d51-4067-90c5-1f7f3df01b09",
   "metadata": {},
   "outputs": [],
   "source": [
    "q_o3_positions = q.isa('3').features_summary()\\\n",
    "    .groupby('Position')\\\n",
    "    .agg({'Position': 'first', 'Count': 'sum'})\n",
    "q_o3_positions"
   ]
  },
  {
   "cell_type": "code",
   "execution_count": null,
   "id": "a3ffae8e-e67e-45d2-99c9-5c18a4ae8c45",
   "metadata": {},
   "outputs": [],
   "source": [
    "o1_positions_list = q_o1_positions['Position'].tolist()\n",
    "o2_positions_list = q_o2_positions['Position'].tolist()\n",
    "o3_positions_list = q_o3_positions['Position'].tolist()\n",
    "data = [o1_positions_list, o2_positions_list, o3_positions_list]\n",
    "labels = ['Outbreak 1', 'Outbreak 2', 'Outbreak 3']\n",
    "colors = ['#a6cee3', '#1f78b4', '#b2df8a']\n",
    "\n",
    "# Create histogram\n",
    "plt.figure(figsize=(15,6))\n",
    "plt.hist(data,\n",
    "         label=labels, color=colors, edgecolor='black',\n",
    "         bins=25)\n",
    "\n",
    "plt.legend(prop={'size': 14})\n",
    "plt.title('Distribution of mutations for Outbreaks 1,2, and 3', fontdict={'size': 16})\n",
    "plt.xlabel(f'Position on {reference_genome} (bp)', fontdict={'size': 14})\n",
    "plt.ylabel('Count of mutation positions', fontdict={'size': 14})"
   ]
  },
  {
   "cell_type": "markdown",
   "id": "ff2cc2b1-75c7-4948-9372-2926516f79de",
   "metadata": {},
   "source": [
    "### 5.2.4 (Optional) View distribution of only unique mutations in each outbreak\n",
    "\n",
    "Try replacing `features_summary()` with `features_summary(selection='unique')`. This will change the plot from a distribution of all mutations in each outbreak to only a distribution of the mutations uniquely found in each outbreak."
   ]
  },
  {
   "cell_type": "markdown",
   "id": "e888112a-975c-4b3f-a14d-691f53c05d13",
   "metadata": {},
   "source": [
    "# 6. End\n",
    "\n",
    "You've made it to the end. You are amazing 😀🥳. Way to go. I hope you enjoyed the tutorial."
   ]
  }
 ],
 "metadata": {
  "kernelspec": {
   "display_name": "Python 3 (ipykernel)",
   "language": "python",
   "name": "python3"
  },
  "language_info": {
   "codemirror_mode": {
    "name": "ipython",
    "version": 3
   },
   "file_extension": ".py",
   "mimetype": "text/x-python",
   "name": "python",
   "nbconvert_exporter": "python",
   "pygments_lexer": "ipython3",
   "version": "3.8.10"
  }
 },
 "nbformat": 4,
 "nbformat_minor": 5
}
