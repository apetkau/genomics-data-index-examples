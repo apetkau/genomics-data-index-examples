{
 "cells": [
  {
   "cell_type": "markdown",
   "id": "f06f558b-d98a-4425-b990-46713f6ed53e",
   "metadata": {},
   "source": [
    "# Tutorial 3: Querying Python API overview\n",
    "\n",
    "# 1. Background\n",
    "\n",
    "This tutorial is a brief overview of how to use the Python API for querying. For additional details please see the other tutorials.\n",
    "\n",
    "The data consists of an index constructed from a *Salmonella enterica* dataset previously published in (https://doi.org/10.1128/jcm.02200-15) and prepared as described in **Tutorial 1**.\n",
    "\n",
    "# 2. Getting data\n",
    "\n",
    "Let's first download the data for this tutorial. The data (an example index) is available from <https://figshare.com/s/0405199820a13aedca42>.\n",
    "\n",
    "For this Juptyer tutorial you can run the below commands to download.\n",
    "\n",
    "*Note: In a Jupyter Python notebook, prepending a command with `!` runs the command in a shell instead of the Python interpreter (e.g., `!unzip` runs the command `unzip`).*"
   ]
  },
  {
   "cell_type": "code",
   "execution_count": 1,
   "id": "73c22f2e-0f52-469b-8119-e529f8b2ddff",
   "metadata": {},
   "outputs": [
    {
     "name": "stdout",
     "output_type": "stream",
     "text": [
      "--2021-06-08 15:52:06--  https://ndownloader.figshare.com/files/27771615?private_link=0405199820a13aedca42\n",
      "Resolving ndownloader.figshare.com (ndownloader.figshare.com)... 52.16.102.173, 54.217.124.219, 2a05:d018:1f4:d000:b283:27aa:b939:8ed4, ...\n",
      "Connecting to ndownloader.figshare.com (ndownloader.figshare.com)|52.16.102.173|:443... connected.\n",
      "HTTP request sent, awaiting response... 200 OK\n",
      "Length: 4391727 (4.2M) [application/zip]\n",
      "Saving to: ‘salmonella-project.zip’\n",
      "\n",
      "salmonella-project. 100%[===================>]   4.19M   908KB/s    in 6.9s    \n",
      "\n",
      "2021-06-08 15:52:13 (622 KB/s) - ‘salmonella-project.zip’ saved [4391727/4391727]\n",
      "\n",
      "Archive:  salmonella-project.zip\n",
      "\n",
      "salmonella-project\t     tutorial-2-sars-cov-2.ipynb\n",
      "salmonella-project.zip\t     tutorial-3-querying-overview.ipynb\n",
      "tutorial-1-salmonella.ipynb\n"
     ]
    }
   ],
   "source": [
    "!wget -O salmonella-project.zip https://ndownloader.figshare.com/files/27771615?private_link=0405199820a13aedca42\n",
    "!unzip -n salmonella-project.zip | head -n 3\n",
    "!echo\n",
    "!ls"
   ]
  },
  {
   "cell_type": "markdown",
   "id": "a315eb4d-ad8f-465b-b4b5-9c9035fbf663",
   "metadata": {},
   "source": [
    "Great. Now that we've got some data (in the `salmonella-project/` directory), let's explore querying the data using the Python API.\n",
    "\n"
   ]
  },
  {
   "cell_type": "markdown",
   "id": "51c56e91-3f23-49fc-9c08-8d8966874332",
   "metadata": {},
   "source": [
    "# 3. Basic querying with Python API\n",
    "\n",
    "## 3.1. Print version\n",
    "\n",
    "First let's import the Python library and print out the version so that we know which version of the Genomics Data Index we are working with."
   ]
  },
  {
   "cell_type": "code",
   "execution_count": 2,
   "id": "7d00e509-7b8b-4c1a-b100-a0613b86547d",
   "metadata": {},
   "outputs": [
    {
     "name": "stdout",
     "output_type": "stream",
     "text": [
      "0.2.0.dev0\n"
     ]
    }
   ],
   "source": [
    "import genomics_data_index\n",
    "\n",
    "print(genomics_data_index.__version__)"
   ]
  },
  {
   "cell_type": "markdown",
   "id": "2304e9d6-4660-4c7c-a106-9341d24988a1",
   "metadata": {},
   "source": [
    "If you see `.dev` this just means we are working with an in-development version of the code."
   ]
  },
  {
   "cell_type": "markdown",
   "id": "5cb8034f-90d5-4994-aebc-fa7241b91dea",
   "metadata": {},
   "source": [
    "## 3.2. Connect to project\n",
    "\n",
    "To perform queries of this data we first start out by connecting to our project in the `salmonella-project/` directory through `GenomicsDataIndex`."
   ]
  },
  {
   "cell_type": "code",
   "execution_count": 3,
   "id": "cd88d725-228c-490a-922d-4faaaabf86a8",
   "metadata": {},
   "outputs": [
    {
     "data": {
      "text/plain": [
       "<GenomicsDataIndex(samples=59)>"
      ]
     },
     "execution_count": 3,
     "metadata": {},
     "output_type": "execute_result"
    }
   ],
   "source": [
    "import genomics_data_index.api as gdi\n",
    "\n",
    "db = gdi.GenomicsDataIndex.connect('salmonella-project')\n",
    "db"
   ]
  },
  {
   "cell_type": "markdown",
   "id": "57f9fb8d-4d89-4648-ad9a-da2d38deeaf2",
   "metadata": {},
   "source": [
    "Great. We're connected. The `samples=59` tells us how many samples are in this database. We can get this number as an integer in Python using the `count_samples()` method:"
   ]
  },
  {
   "cell_type": "code",
   "execution_count": 4,
   "id": "d6970839-47d1-4f8f-ba87-a05161e6600b",
   "metadata": {},
   "outputs": [
    {
     "data": {
      "text/plain": [
       "59"
      ]
     },
     "execution_count": 4,
     "metadata": {},
     "output_type": "execute_result"
    }
   ],
   "source": [
    "db.count_samples()"
   ]
  },
  {
   "cell_type": "markdown",
   "id": "89776e60-8b29-43e3-acd2-8fe76c4c4d5d",
   "metadata": {},
   "source": [
    "You can run `db.sample_names()` or `db.reference_names()` to list the samples and reference genomes in this database."
   ]
  },
  {
   "cell_type": "code",
   "execution_count": 5,
   "id": "b89b0b35-a805-4657-99b6-a2a230813ef4",
   "metadata": {},
   "outputs": [
    {
     "data": {
      "text/plain": [
       "['SH09-29',\n",
       " 'SH10-015',\n",
       " 'SH12-001',\n",
       " 'SH13-001',\n",
       " 'SH14-003',\n",
       " 'SH10-30',\n",
       " 'SH14-010',\n",
       " 'SH14-007',\n",
       " 'SH12-013',\n",
       " 'SH14-016',\n",
       " 'SH14-021',\n",
       " 'SH14-009',\n",
       " 'SH12-003',\n",
       " 'SH14-027',\n",
       " 'SH11-001',\n",
       " 'SH13-007',\n",
       " 'SH14-001',\n",
       " 'SH12-002',\n",
       " 'SH14-002',\n",
       " 'SH14-014',\n",
       " 'SH14-005',\n",
       " 'SH14-028',\n",
       " 'SH14-008',\n",
       " 'SH12-004',\n",
       " 'SH13-004',\n",
       " 'SH08-001',\n",
       " 'SH10-002',\n",
       " 'SH14-017',\n",
       " 'SH14-015',\n",
       " 'SH11-002',\n",
       " 'SH13-008',\n",
       " 'SH13-003',\n",
       " 'SH10-014',\n",
       " 'SH14-024',\n",
       " 'SH14-011',\n",
       " 'SH14-004',\n",
       " 'SH12-008',\n",
       " 'SH12-011',\n",
       " 'SH14-018',\n",
       " 'SH12-005',\n",
       " 'SH12-010',\n",
       " 'SH14-013',\n",
       " 'SH14-026',\n",
       " 'SH14-012',\n",
       " 'SH12-006',\n",
       " 'SH12-014',\n",
       " 'SH13-005',\n",
       " 'SH14-023',\n",
       " 'SH14-025',\n",
       " 'SH12-009',\n",
       " 'SH14-006',\n",
       " 'SH14-020',\n",
       " 'SH13-002',\n",
       " 'SH13-006',\n",
       " 'SH12-007',\n",
       " 'SH14-019',\n",
       " 'SH14-022',\n",
       " 'SH12-012',\n",
       " 'SH10-001']"
      ]
     },
     "execution_count": 5,
     "metadata": {},
     "output_type": "execute_result"
    }
   ],
   "source": [
    "db.sample_names()"
   ]
  },
  {
   "cell_type": "code",
   "execution_count": 6,
   "id": "2f7dc469-5a7c-4e2f-b132-a5550b169abc",
   "metadata": {},
   "outputs": [
    {
     "data": {
      "text/plain": [
       "['S_HeidelbergSL476']"
      ]
     },
     "execution_count": 6,
     "metadata": {},
     "output_type": "execute_result"
    }
   ],
   "source": [
    "db.reference_names()"
   ]
  },
  {
   "cell_type": "markdown",
   "id": "71fe92c9-2e88-4448-8c26-942b893f1662",
   "metadata": {},
   "source": [
    "### 3.2.1. Python hints\n",
    "\n",
    "If you notice, in Jupyter, the very last line gets printed out automatically as text. However, you can also call `print()` explicitly."
   ]
  },
  {
   "cell_type": "code",
   "execution_count": 7,
   "id": "8d2b8977-cc2d-4d38-b667-3430f21d0934",
   "metadata": {},
   "outputs": [
    {
     "name": "stdout",
     "output_type": "stream",
     "text": [
      "['S_HeidelbergSL476']\n"
     ]
    }
   ],
   "source": [
    "print(db.reference_names())"
   ]
  },
  {
   "cell_type": "markdown",
   "id": "a5df193d-6106-4c44-a9ee-8c403057a834",
   "metadata": {},
   "source": [
    "To print text alongside variables you can make use of [f-strings](https://realpython.com/python-f-strings/) in Python, where yo prepend a string with `f` and use `{}` notation to specify variables to print (e.g., `f'Literal string: {variable} more string {variable2}.'`."
   ]
  },
  {
   "cell_type": "code",
   "execution_count": 8,
   "id": "9c60c468-9e16-4828-ac9a-48987a9b9e3f",
   "metadata": {},
   "outputs": [
    {
     "name": "stdout",
     "output_type": "stream",
     "text": [
      "The value of db.reference_names() is: ['S_HeidelbergSL476']\n"
     ]
    }
   ],
   "source": [
    "print(f'The value of db.reference_names() is: {db.reference_names()}')"
   ]
  },
  {
   "cell_type": "markdown",
   "id": "9db26328-526c-4517-86cb-ea2b2ec2131f",
   "metadata": {},
   "source": [
    "You can use `type()` to see the type of a Python object (e.g., the class it belongs to or type for primitive types like int or float)."
   ]
  },
  {
   "cell_type": "code",
   "execution_count": 9,
   "id": "b9aff659-285f-4eaa-8225-452ec0cd3f83",
   "metadata": {},
   "outputs": [
    {
     "data": {
      "text/plain": [
       "int"
      ]
     },
     "execution_count": 9,
     "metadata": {},
     "output_type": "execute_result"
    }
   ],
   "source": [
    "type(db.count_samples())"
   ]
  },
  {
   "cell_type": "code",
   "execution_count": 10,
   "id": "c2d0e2d3-2a38-45d9-afd0-d4f929741310",
   "metadata": {},
   "outputs": [
    {
     "data": {
      "text/plain": [
       "list"
      ]
     },
     "execution_count": 10,
     "metadata": {},
     "output_type": "execute_result"
    }
   ],
   "source": [
    "type(db.sample_names())"
   ]
  },
  {
   "cell_type": "code",
   "execution_count": 11,
   "id": "49d9f256-ff9d-4324-8fd2-ec8281603251",
   "metadata": {},
   "outputs": [
    {
     "data": {
      "text/plain": [
       "list"
      ]
     },
     "execution_count": 11,
     "metadata": {},
     "output_type": "execute_result"
    }
   ],
   "source": [
    "type(db.reference_names())"
   ]
  },
  {
   "cell_type": "code",
   "execution_count": 12,
   "id": "8def9440-1e1d-49e0-83d5-4ce4725d7b69",
   "metadata": {},
   "outputs": [
    {
     "data": {
      "text/plain": [
       "genomics_data_index.api.query.GenomicsDataIndex.GenomicsDataIndex"
      ]
     },
     "execution_count": 12,
     "metadata": {},
     "output_type": "execute_result"
    }
   ],
   "source": [
    "type(db)"
   ]
  },
  {
   "cell_type": "markdown",
   "id": "1b53fc27-d47b-4da6-8909-c223982389c2",
   "metadata": {},
   "source": [
    "Here, the type for `db` corresponds to the fully-qualified name for the class: <https://github.com/apetkau/genomics-data-index/blob/development/genomics_data_index/api/query/GenomicsDataIndex.py#L21>.\n",
    "\n",
    "In Jupyter, you can see some help documentation for an object by using the `?` symbol. For example `?db`."
   ]
  },
  {
   "cell_type": "code",
   "execution_count": 13,
   "id": "79df9081-90c2-4d23-9ad3-774ecd13d71e",
   "metadata": {},
   "outputs": [
    {
     "data": {
      "text/plain": [
       "\u001b[0;31mType:\u001b[0m           GenomicsDataIndex\n",
       "\u001b[0;31mString form:\u001b[0m    <GenomicsDataIndex(samples=59)>\n",
       "\u001b[0;31mFile:\u001b[0m           ~/miniconda3/envs/gdi/lib/python3.8/site-packages/genomics_data_index/api/query/GenomicsDataIndex.py\n",
       "\u001b[0;31mDocstring:\u001b[0m      The root class for the Python API. Used to connect to a genomics index and build query objects.\n",
       "\u001b[0;31mInit docstring:\u001b[0m\n",
       "Builds a new GenomicsDataIndex.\n",
       ":param connection: The database connection to use.\n",
       "\n",
       ":return: A new GenomicsDataIndex.\n"
      ]
     },
     "metadata": {},
     "output_type": "display_data"
    }
   ],
   "source": [
    "?db"
   ]
  },
  {
   "cell_type": "code",
   "execution_count": 14,
   "id": "b89e35a8-ee7c-4d77-932a-47dc80f86b31",
   "metadata": {},
   "outputs": [
    {
     "data": {
      "text/plain": [
       "\u001b[0;31mSignature:\u001b[0m \u001b[0mdb\u001b[0m\u001b[0;34m.\u001b[0m\u001b[0mcount_samples\u001b[0m\u001b[0;34m(\u001b[0m\u001b[0;34m)\u001b[0m \u001b[0;34m->\u001b[0m \u001b[0;34m'int'\u001b[0m\u001b[0;34m\u001b[0m\u001b[0;34m\u001b[0m\u001b[0m\n",
       "\u001b[0;31mDocstring:\u001b[0m\n",
       "Counts the samples stored in this genomics index.\n",
       "\n",
       ":return: The count of samples stored in this genomics index.\n",
       "\u001b[0;31mFile:\u001b[0m      ~/miniconda3/envs/gdi/lib/python3.8/site-packages/genomics_data_index/api/query/GenomicsDataIndex.py\n",
       "\u001b[0;31mType:\u001b[0m      method\n"
      ]
     },
     "metadata": {},
     "output_type": "display_data"
    }
   ],
   "source": [
    "?db.count_samples"
   ]
  },
  {
   "cell_type": "code",
   "execution_count": 15,
   "id": "623d72cd-6cdb-4cf1-8045-653f138f55e5",
   "metadata": {},
   "outputs": [
    {
     "data": {
      "text/plain": [
       "\u001b[0;31mSignature:\u001b[0m \u001b[0mdb\u001b[0m\u001b[0;34m.\u001b[0m\u001b[0msample_names\u001b[0m\u001b[0;34m(\u001b[0m\u001b[0;34m)\u001b[0m \u001b[0;34m->\u001b[0m \u001b[0;34m'List[str]'\u001b[0m\u001b[0;34m\u001b[0m\u001b[0;34m\u001b[0m\u001b[0m\n",
       "\u001b[0;31mDocstring:\u001b[0m\n",
       "Gets a list of all sample names stored in this index.\n",
       "\n",
       ":return: A list of all sample names stored in this index.\n",
       "\u001b[0;31mFile:\u001b[0m      ~/miniconda3/envs/gdi/lib/python3.8/site-packages/genomics_data_index/api/query/GenomicsDataIndex.py\n",
       "\u001b[0;31mType:\u001b[0m      method\n"
      ]
     },
     "metadata": {},
     "output_type": "display_data"
    }
   ],
   "source": [
    "?db.sample_names"
   ]
  },
  {
   "cell_type": "code",
   "execution_count": 16,
   "id": "78fc7067-3244-457c-8409-2b39d7bb8f6c",
   "metadata": {},
   "outputs": [
    {
     "data": {
      "text/plain": [
       "\u001b[0;31mSignature:\u001b[0m \u001b[0mdb\u001b[0m\u001b[0;34m.\u001b[0m\u001b[0mreference_names\u001b[0m\u001b[0;34m(\u001b[0m\u001b[0;34m)\u001b[0m \u001b[0;34m->\u001b[0m \u001b[0;34m'List[str]'\u001b[0m\u001b[0;34m\u001b[0m\u001b[0;34m\u001b[0m\u001b[0m\n",
       "\u001b[0;31mDocstring:\u001b[0m\n",
       "Gets a list of the names of the reference genomes used in this index.\n",
       ":return: A list of all reference genome names.\n",
       "\u001b[0;31mFile:\u001b[0m      ~/miniconda3/envs/gdi/lib/python3.8/site-packages/genomics_data_index/api/query/GenomicsDataIndex.py\n",
       "\u001b[0;31mType:\u001b[0m      method\n"
      ]
     },
     "metadata": {},
     "output_type": "display_data"
    }
   ],
   "source": [
    "?db.reference_names"
   ]
  },
  {
   "cell_type": "markdown",
   "id": "be57fd83-bf80-4baf-81db-1b0aaf09fe38",
   "metadata": {},
   "source": [
    "Other IDE's may display help documentation differently (or you can also refer to the source <https://github.com/apetkau/genomics-data-index/blob/development/genomics_data_index/api/query/GenomicsDataIndex.py>)."
   ]
  },
  {
   "cell_type": "markdown",
   "id": "4e794f5d-bb2d-4f6b-b7bb-344d1c262bab",
   "metadata": {},
   "source": [
    "## 3.3. List all features (mutations)\n",
    "\n",
    "To list a summary of all indexed mutations we can use `db.mutations_summary()`.\n",
    "\n",
    "You have to specify a reference genome name (`S_HeidelbergSL476`) that is used to define the coordinates of mutations."
   ]
  },
  {
   "cell_type": "code",
   "execution_count": 17,
   "id": "de96cc9c-2c35-49d0-947e-69e25417d363",
   "metadata": {},
   "outputs": [
    {
     "data": {
      "text/html": [
       "<div>\n",
       "<style scoped>\n",
       "    .dataframe tbody tr th:only-of-type {\n",
       "        vertical-align: middle;\n",
       "    }\n",
       "\n",
       "    .dataframe tbody tr th {\n",
       "        vertical-align: top;\n",
       "    }\n",
       "\n",
       "    .dataframe thead th {\n",
       "        text-align: right;\n",
       "    }\n",
       "</style>\n",
       "<table border=\"1\" class=\"dataframe\">\n",
       "  <thead>\n",
       "    <tr style=\"text-align: right;\">\n",
       "      <th></th>\n",
       "      <th>Sequence</th>\n",
       "      <th>Position</th>\n",
       "      <th>Deletion</th>\n",
       "      <th>Insertion</th>\n",
       "      <th>Count</th>\n",
       "    </tr>\n",
       "    <tr>\n",
       "      <th>Mutation</th>\n",
       "      <th></th>\n",
       "      <th></th>\n",
       "      <th></th>\n",
       "      <th></th>\n",
       "      <th></th>\n",
       "    </tr>\n",
       "  </thead>\n",
       "  <tbody>\n",
       "    <tr>\n",
       "      <th>gi|194447306|ref|NC_011083.1|:34780:A:G</th>\n",
       "      <td>gi|194447306|ref|NC_011083.1|</td>\n",
       "      <td>34780</td>\n",
       "      <td>A</td>\n",
       "      <td>G</td>\n",
       "      <td>3</td>\n",
       "    </tr>\n",
       "    <tr>\n",
       "      <th>gi|194447306|ref|NC_011083.1|:43651:G:T</th>\n",
       "      <td>gi|194447306|ref|NC_011083.1|</td>\n",
       "      <td>43651</td>\n",
       "      <td>G</td>\n",
       "      <td>T</td>\n",
       "      <td>1</td>\n",
       "    </tr>\n",
       "    <tr>\n",
       "      <th>gi|194447306|ref|NC_011083.1|:58804:T:A</th>\n",
       "      <td>gi|194447306|ref|NC_011083.1|</td>\n",
       "      <td>58804</td>\n",
       "      <td>T</td>\n",
       "      <td>A</td>\n",
       "      <td>10</td>\n",
       "    </tr>\n",
       "    <tr>\n",
       "      <th>gi|194447306|ref|NC_011083.1|:63393:C:A</th>\n",
       "      <td>gi|194447306|ref|NC_011083.1|</td>\n",
       "      <td>63393</td>\n",
       "      <td>C</td>\n",
       "      <td>A</td>\n",
       "      <td>13</td>\n",
       "    </tr>\n",
       "    <tr>\n",
       "      <th>gi|194447306|ref|NC_011083.1|:70519:T:TG</th>\n",
       "      <td>gi|194447306|ref|NC_011083.1|</td>\n",
       "      <td>70519</td>\n",
       "      <td>T</td>\n",
       "      <td>TG</td>\n",
       "      <td>6</td>\n",
       "    </tr>\n",
       "    <tr>\n",
       "      <th>...</th>\n",
       "      <td>...</td>\n",
       "      <td>...</td>\n",
       "      <td>...</td>\n",
       "      <td>...</td>\n",
       "      <td>...</td>\n",
       "    </tr>\n",
       "    <tr>\n",
       "      <th>gi|194447306|ref|NC_011083.1|:4860641:G:A</th>\n",
       "      <td>gi|194447306|ref|NC_011083.1|</td>\n",
       "      <td>4860641</td>\n",
       "      <td>G</td>\n",
       "      <td>A</td>\n",
       "      <td>57</td>\n",
       "    </tr>\n",
       "    <tr>\n",
       "      <th>gi|194447306|ref|NC_011083.1|:4876176:A:G</th>\n",
       "      <td>gi|194447306|ref|NC_011083.1|</td>\n",
       "      <td>4876176</td>\n",
       "      <td>A</td>\n",
       "      <td>G</td>\n",
       "      <td>58</td>\n",
       "    </tr>\n",
       "    <tr>\n",
       "      <th>gi|194447306|ref|NC_011083.1|:4882099:C:T</th>\n",
       "      <td>gi|194447306|ref|NC_011083.1|</td>\n",
       "      <td>4882099</td>\n",
       "      <td>C</td>\n",
       "      <td>T</td>\n",
       "      <td>57</td>\n",
       "    </tr>\n",
       "    <tr>\n",
       "      <th>gi|194447306|ref|NC_011083.1|:4884909:T:C</th>\n",
       "      <td>gi|194447306|ref|NC_011083.1|</td>\n",
       "      <td>4884909</td>\n",
       "      <td>T</td>\n",
       "      <td>C</td>\n",
       "      <td>59</td>\n",
       "    </tr>\n",
       "    <tr>\n",
       "      <th>gi|194447306|ref|NC_011083.1|:4888140:G:T</th>\n",
       "      <td>gi|194447306|ref|NC_011083.1|</td>\n",
       "      <td>4888140</td>\n",
       "      <td>G</td>\n",
       "      <td>T</td>\n",
       "      <td>59</td>\n",
       "    </tr>\n",
       "  </tbody>\n",
       "</table>\n",
       "<p>402 rows × 5 columns</p>\n",
       "</div>"
      ],
      "text/plain": [
       "                                                                Sequence  \\\n",
       "Mutation                                                                   \n",
       "gi|194447306|ref|NC_011083.1|:34780:A:G    gi|194447306|ref|NC_011083.1|   \n",
       "gi|194447306|ref|NC_011083.1|:43651:G:T    gi|194447306|ref|NC_011083.1|   \n",
       "gi|194447306|ref|NC_011083.1|:58804:T:A    gi|194447306|ref|NC_011083.1|   \n",
       "gi|194447306|ref|NC_011083.1|:63393:C:A    gi|194447306|ref|NC_011083.1|   \n",
       "gi|194447306|ref|NC_011083.1|:70519:T:TG   gi|194447306|ref|NC_011083.1|   \n",
       "...                                                                  ...   \n",
       "gi|194447306|ref|NC_011083.1|:4860641:G:A  gi|194447306|ref|NC_011083.1|   \n",
       "gi|194447306|ref|NC_011083.1|:4876176:A:G  gi|194447306|ref|NC_011083.1|   \n",
       "gi|194447306|ref|NC_011083.1|:4882099:C:T  gi|194447306|ref|NC_011083.1|   \n",
       "gi|194447306|ref|NC_011083.1|:4884909:T:C  gi|194447306|ref|NC_011083.1|   \n",
       "gi|194447306|ref|NC_011083.1|:4888140:G:T  gi|194447306|ref|NC_011083.1|   \n",
       "\n",
       "                                           Position Deletion Insertion  Count  \n",
       "Mutation                                                                       \n",
       "gi|194447306|ref|NC_011083.1|:34780:A:G       34780        A         G      3  \n",
       "gi|194447306|ref|NC_011083.1|:43651:G:T       43651        G         T      1  \n",
       "gi|194447306|ref|NC_011083.1|:58804:T:A       58804        T         A     10  \n",
       "gi|194447306|ref|NC_011083.1|:63393:C:A       63393        C         A     13  \n",
       "gi|194447306|ref|NC_011083.1|:70519:T:TG      70519        T        TG      6  \n",
       "...                                             ...      ...       ...    ...  \n",
       "gi|194447306|ref|NC_011083.1|:4860641:G:A   4860641        G         A     57  \n",
       "gi|194447306|ref|NC_011083.1|:4876176:A:G   4876176        A         G     58  \n",
       "gi|194447306|ref|NC_011083.1|:4882099:C:T   4882099        C         T     57  \n",
       "gi|194447306|ref|NC_011083.1|:4884909:T:C   4884909        T         C     59  \n",
       "gi|194447306|ref|NC_011083.1|:4888140:G:T   4888140        G         T     59  \n",
       "\n",
       "[402 rows x 5 columns]"
      ]
     },
     "execution_count": 17,
     "metadata": {},
     "output_type": "execute_result"
    }
   ],
   "source": [
    "db.mutations_summary(reference_genome='S_HeidelbergSL476')"
   ]
  },
  {
   "cell_type": "markdown",
   "id": "64a8c212-5582-43c7-8952-01b4d790999f",
   "metadata": {},
   "source": [
    "These results are displayed as a [pandas DataFrame](https://pandas.pydata.org/pandas-docs/stable/reference/api/pandas.DataFrame.html) used to store and manipulate tabular data in-memory."
   ]
  },
  {
   "cell_type": "code",
   "execution_count": 18,
   "id": "ba58d5b4-3537-42fa-9960-fa2348039806",
   "metadata": {},
   "outputs": [
    {
     "data": {
      "text/plain": [
       "pandas.core.frame.DataFrame"
      ]
     },
     "execution_count": 18,
     "metadata": {},
     "output_type": "execute_result"
    }
   ],
   "source": [
    "type(db.mutations_summary(reference_genome='S_HeidelbergSL476'))"
   ]
  },
  {
   "cell_type": "markdown",
   "id": "b76d1186-9895-4416-bf6a-baf992dac3ca",
   "metadata": {},
   "source": [
    "For now, I'm using this table as a way to get specific strings used to uniquely name a mutation for queries below."
   ]
  },
  {
   "cell_type": "markdown",
   "id": "3f44633d-987b-48ba-b2c8-e96d65b5e95b",
   "metadata": {},
   "source": [
    "## 3.4. Initiate a query\n",
    "\n",
    "We can initiate a query using the `db.samples_query()` method."
   ]
  },
  {
   "cell_type": "code",
   "execution_count": 19,
   "id": "fdd7a202-7a88-4e96-a1bf-ea06cda2811a",
   "metadata": {},
   "outputs": [
    {
     "data": {
      "text/plain": [
       "<SamplesQueryIndex[100% (59/59) samples]>"
      ]
     },
     "execution_count": 19,
     "metadata": {},
     "output_type": "execute_result"
    }
   ],
   "source": [
    "q = db.samples_query()\n",
    "q"
   ]
  },
  {
   "cell_type": "markdown",
   "id": "dfa2fabb-bb48-4f2e-a4d1-2e2d151b8608",
   "metadata": {},
   "source": [
    "### 3.4.1. Number of selected samples\n",
    "\n",
    "We can use the `len()` function to get the number of currently-selected samples in the query."
   ]
  },
  {
   "cell_type": "code",
   "execution_count": 20,
   "id": "d776ce94-e8b1-4d3d-a534-3a8f1150d72e",
   "metadata": {},
   "outputs": [
    {
     "data": {
      "text/plain": [
       "59"
      ]
     },
     "execution_count": 20,
     "metadata": {},
     "output_type": "execute_result"
    }
   ],
   "source": [
    "len(q)"
   ]
  },
  {
   "cell_type": "markdown",
   "id": "5fd3979e-8a6d-490a-9433-762c7dd70230",
   "metadata": {},
   "source": [
    "Selected samples are all with respect to some **universe** of total samples, which is useful for complement operations, etc. You can get the number of samples in the universe by applying `len()` to the `universe_set`."
   ]
  },
  {
   "cell_type": "code",
   "execution_count": 21,
   "id": "800774da-906d-4731-81b3-1e7aff0154ce",
   "metadata": {},
   "outputs": [
    {
     "data": {
      "text/plain": [
       "59"
      ]
     },
     "execution_count": 21,
     "metadata": {},
     "output_type": "execute_result"
    }
   ],
   "source": [
    "len(q.universe_set)"
   ]
  },
  {
   "cell_type": "markdown",
   "id": "6b5cfae9-be1c-4151-87e4-889faa2896f4",
   "metadata": {},
   "source": [
    "## 3.5. Search for a particular mutation (`hasa()`)\n",
    "\n",
    "Once we have a query initiated we can search for genomic samples containing particular mutation by using the `hasa()` method."
   ]
  },
  {
   "cell_type": "code",
   "execution_count": 22,
   "id": "efb66090-6244-4b1a-a3ad-8b25f39429a8",
   "metadata": {},
   "outputs": [
    {
     "data": {
      "text/plain": [
       "<SamplesQueryIndex[22% (13/59) samples]>"
      ]
     },
     "execution_count": 22,
     "metadata": {},
     "output_type": "execute_result"
    }
   ],
   "source": [
    "q2 = q.hasa('gi|194447306|ref|NC_011083.1|:63393:C:A', kind='mutation')\n",
    "q2"
   ]
  },
  {
   "cell_type": "markdown",
   "id": "65f49754-5759-4cae-9683-3ad2539f84af",
   "metadata": {},
   "source": [
    "The `hasa()` method can be read as \"select samples that **have a** this particular mutation\". The selected samples is printed above (13/59 have this particular mutation).\n",
    "\n",
    "*Note: the default **kind** for `hasa()` is `mutation` so you can leave out `kind='mutation'` if you wish.*"
   ]
  },
  {
   "cell_type": "code",
   "execution_count": 23,
   "id": "3bfa8957-a97a-4965-8a6b-07c742c05999",
   "metadata": {},
   "outputs": [
    {
     "data": {
      "text/plain": [
       "<SamplesQueryIndex[22% (13/59) samples]>"
      ]
     },
     "execution_count": 23,
     "metadata": {},
     "output_type": "execute_result"
    }
   ],
   "source": [
    "q2 = q.hasa('gi|194447306|ref|NC_011083.1|:63393:C:A')\n",
    "q2"
   ]
  },
  {
   "cell_type": "markdown",
   "id": "500f6516-beae-442f-8e7c-99904c56120c",
   "metadata": {},
   "source": [
    "## 3.6. Showing selected samples"
   ]
  },
  {
   "cell_type": "markdown",
   "id": "4f5a3139-7e95-4091-b8ad-d2cb8d3bca78",
   "metadata": {},
   "source": [
    "Once we have a particular set of samples selected we can use the `tolist()` method to print out a list of the selected sample names."
   ]
  },
  {
   "cell_type": "code",
   "execution_count": 24,
   "id": "592958d5-2a3c-4ccd-80ff-5e32e71b9cea",
   "metadata": {},
   "outputs": [
    {
     "data": {
      "text/plain": [
       "['SH12-001',\n",
       " 'SH12-003',\n",
       " 'SH11-001',\n",
       " 'SH12-002',\n",
       " 'SH12-004',\n",
       " 'SH12-008',\n",
       " 'SH12-011',\n",
       " 'SH12-005',\n",
       " 'SH12-010',\n",
       " 'SH12-006',\n",
       " 'SH12-009',\n",
       " 'SH12-007',\n",
       " 'SH10-001']"
      ]
     },
     "execution_count": 24,
     "metadata": {},
     "output_type": "execute_result"
    }
   ],
   "source": [
    "q2.tolist()"
   ]
  },
  {
   "cell_type": "markdown",
   "id": "6f3d2fb8-7582-41a9-97db-e9f5899023d4",
   "metadata": {},
   "source": [
    "Or, we can use the `summary()` method to produce a summary of the selected samples."
   ]
  },
  {
   "cell_type": "code",
   "execution_count": 25,
   "id": "3192800f-3ffe-4332-a391-17767993d0c9",
   "metadata": {},
   "outputs": [
    {
     "data": {
      "text/html": [
       "<div>\n",
       "<style scoped>\n",
       "    .dataframe tbody tr th:only-of-type {\n",
       "        vertical-align: middle;\n",
       "    }\n",
       "\n",
       "    .dataframe tbody tr th {\n",
       "        vertical-align: top;\n",
       "    }\n",
       "\n",
       "    .dataframe thead th {\n",
       "        text-align: right;\n",
       "    }\n",
       "</style>\n",
       "<table border=\"1\" class=\"dataframe\">\n",
       "  <thead>\n",
       "    <tr style=\"text-align: right;\">\n",
       "      <th></th>\n",
       "      <th>Query</th>\n",
       "      <th>Present</th>\n",
       "      <th>Absent</th>\n",
       "      <th>Unknown</th>\n",
       "      <th>Total</th>\n",
       "      <th>% Present</th>\n",
       "      <th>% Absent</th>\n",
       "      <th>% Unknown</th>\n",
       "    </tr>\n",
       "  </thead>\n",
       "  <tbody>\n",
       "    <tr>\n",
       "      <th>0</th>\n",
       "      <td>gi|194447306|ref|NC_011083.1|:63393:C:A</td>\n",
       "      <td>13</td>\n",
       "      <td>46</td>\n",
       "      <td>&lt;NA&gt;</td>\n",
       "      <td>59</td>\n",
       "      <td>22.033898</td>\n",
       "      <td>77.966102</td>\n",
       "      <td>&lt;NA&gt;</td>\n",
       "    </tr>\n",
       "  </tbody>\n",
       "</table>\n",
       "</div>"
      ],
      "text/plain": [
       "                                     Query  Present  Absent Unknown  Total  \\\n",
       "0  gi|194447306|ref|NC_011083.1|:63393:C:A       13      46    <NA>     59   \n",
       "\n",
       "   % Present   % Absent % Unknown  \n",
       "0  22.033898  77.966102      <NA>  "
      ]
     },
     "execution_count": 25,
     "metadata": {},
     "output_type": "execute_result"
    }
   ],
   "source": [
    "q2.summary()"
   ]
  },
  {
   "cell_type": "markdown",
   "id": "a9881942-cf25-4c15-ac5a-ed7d01978c96",
   "metadata": {},
   "source": [
    "Or we can use the `toframe()` method to show the selected samples as a dataframe (table)."
   ]
  },
  {
   "cell_type": "code",
   "execution_count": 26,
   "id": "8ab0618c-6ea6-4b7d-a0c3-4d2f7b94f5ee",
   "metadata": {},
   "outputs": [
    {
     "data": {
      "text/html": [
       "<div>\n",
       "<style scoped>\n",
       "    .dataframe tbody tr th:only-of-type {\n",
       "        vertical-align: middle;\n",
       "    }\n",
       "\n",
       "    .dataframe tbody tr th {\n",
       "        vertical-align: top;\n",
       "    }\n",
       "\n",
       "    .dataframe thead th {\n",
       "        text-align: right;\n",
       "    }\n",
       "</style>\n",
       "<table border=\"1\" class=\"dataframe\">\n",
       "  <thead>\n",
       "    <tr style=\"text-align: right;\">\n",
       "      <th></th>\n",
       "      <th>Query</th>\n",
       "      <th>Sample Name</th>\n",
       "      <th>Sample ID</th>\n",
       "      <th>Status</th>\n",
       "    </tr>\n",
       "  </thead>\n",
       "  <tbody>\n",
       "    <tr>\n",
       "      <th>0</th>\n",
       "      <td>gi|194447306|ref|NC_011083.1|:63393:C:A</td>\n",
       "      <td>SH12-001</td>\n",
       "      <td>3</td>\n",
       "      <td>Present</td>\n",
       "    </tr>\n",
       "    <tr>\n",
       "      <th>1</th>\n",
       "      <td>gi|194447306|ref|NC_011083.1|:63393:C:A</td>\n",
       "      <td>SH12-003</td>\n",
       "      <td>13</td>\n",
       "      <td>Present</td>\n",
       "    </tr>\n",
       "    <tr>\n",
       "      <th>2</th>\n",
       "      <td>gi|194447306|ref|NC_011083.1|:63393:C:A</td>\n",
       "      <td>SH11-001</td>\n",
       "      <td>15</td>\n",
       "      <td>Present</td>\n",
       "    </tr>\n",
       "    <tr>\n",
       "      <th>3</th>\n",
       "      <td>gi|194447306|ref|NC_011083.1|:63393:C:A</td>\n",
       "      <td>SH12-002</td>\n",
       "      <td>18</td>\n",
       "      <td>Present</td>\n",
       "    </tr>\n",
       "    <tr>\n",
       "      <th>4</th>\n",
       "      <td>gi|194447306|ref|NC_011083.1|:63393:C:A</td>\n",
       "      <td>SH12-004</td>\n",
       "      <td>24</td>\n",
       "      <td>Present</td>\n",
       "    </tr>\n",
       "    <tr>\n",
       "      <th>5</th>\n",
       "      <td>gi|194447306|ref|NC_011083.1|:63393:C:A</td>\n",
       "      <td>SH12-008</td>\n",
       "      <td>37</td>\n",
       "      <td>Present</td>\n",
       "    </tr>\n",
       "    <tr>\n",
       "      <th>6</th>\n",
       "      <td>gi|194447306|ref|NC_011083.1|:63393:C:A</td>\n",
       "      <td>SH12-011</td>\n",
       "      <td>38</td>\n",
       "      <td>Present</td>\n",
       "    </tr>\n",
       "    <tr>\n",
       "      <th>7</th>\n",
       "      <td>gi|194447306|ref|NC_011083.1|:63393:C:A</td>\n",
       "      <td>SH12-005</td>\n",
       "      <td>40</td>\n",
       "      <td>Present</td>\n",
       "    </tr>\n",
       "    <tr>\n",
       "      <th>8</th>\n",
       "      <td>gi|194447306|ref|NC_011083.1|:63393:C:A</td>\n",
       "      <td>SH12-010</td>\n",
       "      <td>41</td>\n",
       "      <td>Present</td>\n",
       "    </tr>\n",
       "    <tr>\n",
       "      <th>9</th>\n",
       "      <td>gi|194447306|ref|NC_011083.1|:63393:C:A</td>\n",
       "      <td>SH12-006</td>\n",
       "      <td>45</td>\n",
       "      <td>Present</td>\n",
       "    </tr>\n",
       "    <tr>\n",
       "      <th>10</th>\n",
       "      <td>gi|194447306|ref|NC_011083.1|:63393:C:A</td>\n",
       "      <td>SH12-009</td>\n",
       "      <td>50</td>\n",
       "      <td>Present</td>\n",
       "    </tr>\n",
       "    <tr>\n",
       "      <th>11</th>\n",
       "      <td>gi|194447306|ref|NC_011083.1|:63393:C:A</td>\n",
       "      <td>SH12-007</td>\n",
       "      <td>55</td>\n",
       "      <td>Present</td>\n",
       "    </tr>\n",
       "    <tr>\n",
       "      <th>12</th>\n",
       "      <td>gi|194447306|ref|NC_011083.1|:63393:C:A</td>\n",
       "      <td>SH10-001</td>\n",
       "      <td>59</td>\n",
       "      <td>Present</td>\n",
       "    </tr>\n",
       "  </tbody>\n",
       "</table>\n",
       "</div>"
      ],
      "text/plain": [
       "                                      Query Sample Name  Sample ID   Status\n",
       "0   gi|194447306|ref|NC_011083.1|:63393:C:A    SH12-001          3  Present\n",
       "1   gi|194447306|ref|NC_011083.1|:63393:C:A    SH12-003         13  Present\n",
       "2   gi|194447306|ref|NC_011083.1|:63393:C:A    SH11-001         15  Present\n",
       "3   gi|194447306|ref|NC_011083.1|:63393:C:A    SH12-002         18  Present\n",
       "4   gi|194447306|ref|NC_011083.1|:63393:C:A    SH12-004         24  Present\n",
       "5   gi|194447306|ref|NC_011083.1|:63393:C:A    SH12-008         37  Present\n",
       "6   gi|194447306|ref|NC_011083.1|:63393:C:A    SH12-011         38  Present\n",
       "7   gi|194447306|ref|NC_011083.1|:63393:C:A    SH12-005         40  Present\n",
       "8   gi|194447306|ref|NC_011083.1|:63393:C:A    SH12-010         41  Present\n",
       "9   gi|194447306|ref|NC_011083.1|:63393:C:A    SH12-006         45  Present\n",
       "10  gi|194447306|ref|NC_011083.1|:63393:C:A    SH12-009         50  Present\n",
       "11  gi|194447306|ref|NC_011083.1|:63393:C:A    SH12-007         55  Present\n",
       "12  gi|194447306|ref|NC_011083.1|:63393:C:A    SH10-001         59  Present"
      ]
     },
     "execution_count": 26,
     "metadata": {},
     "output_type": "execute_result"
    }
   ],
   "source": [
    "q2.toframe()"
   ]
  },
  {
   "cell_type": "markdown",
   "id": "25ee7693-a697-49a0-b48c-59dbc15bf112",
   "metadata": {},
   "source": [
    "## 3.7. Chaining queries\n",
    "\n",
    "Queries can be chained together to select samples that match every criteria given in the `has()` method."
   ]
  },
  {
   "cell_type": "code",
   "execution_count": 27,
   "id": "87694b6c-9692-49e0-b1db-b1afe67d01c6",
   "metadata": {},
   "outputs": [
    {
     "data": {
      "text/plain": [
       "<SamplesQueryIndex[17% (10/59) samples]>"
      ]
     },
     "execution_count": 27,
     "metadata": {},
     "output_type": "execute_result"
    }
   ],
   "source": [
    "q3 = q.hasa('gi|194447306|ref|NC_011083.1|:63393:C:A').hasa('gi|194447306|ref|NC_011083.1|:58804:T:A')\n",
    "q3"
   ]
  },
  {
   "cell_type": "markdown",
   "id": "7797000c-cf17-4dcd-ad8b-1051439fd570",
   "metadata": {},
   "source": [
    "This can be read as \"select all samples that **have a** 63393 C to A mutation **AND** select all samples that **have a** 58804 T to A mutation\"."
   ]
  },
  {
   "cell_type": "markdown",
   "id": "f0ed8d72-56c8-462d-910e-3f86d69b8c0c",
   "metadata": {},
   "source": [
    "## 3.8 Searching for a particular sample (`isa()` and `isin()`)\n",
    "\n",
    "The `isa()` and `isin()` methods let us search for particular samples by name. The difference between the two is that:\n",
    "\n",
    "1. `isa()` is meant to be read \"select samples that **are** (**is a**) type matching the expression.\n",
    "2. `isin()` is meant to be read \"select samples that are **in** a set defined by the passed criteria.\n",
    "\n",
    "The differences between these become more apparent for more advanced queries later on. For now, we can use these to select samples by name."
   ]
  },
  {
   "cell_type": "code",
   "execution_count": 28,
   "id": "5752c79a-cd7d-433f-8d5d-37db8a202b1f",
   "metadata": {},
   "outputs": [
    {
     "data": {
      "text/plain": [
       "<SamplesQueryIndex[2% (1/59) samples]>"
      ]
     },
     "execution_count": 28,
     "metadata": {},
     "output_type": "execute_result"
    }
   ],
   "source": [
    "q4 = q.isa('SH12-001')\n",
    "q4"
   ]
  },
  {
   "cell_type": "code",
   "execution_count": 29,
   "id": "449065f1-be1a-455d-bb28-6a956b1b557a",
   "metadata": {},
   "outputs": [
    {
     "data": {
      "text/plain": [
       "<SamplesQueryIndex[3% (2/59) samples]>"
      ]
     },
     "execution_count": 29,
     "metadata": {},
     "output_type": "execute_result"
    }
   ],
   "source": [
    "q5 = q.isin(['SH12-001', 'SH13-001'])\n",
    "q5"
   ]
  },
  {
   "cell_type": "markdown",
   "id": "a2c1435d-a4a2-41a6-b875-f9b80c117926",
   "metadata": {},
   "source": [
    "# 4. Searching within a tree\n",
    "\n",
    "Queries are not limited to what mutations a sample has or by sample name. We can also use `isin()` to select samples that match criteria related to a phylogenetic tree.\n",
    "\n",
    "## 4.1. Initiate query with attached tree\n",
    "\n",
    "To do this, we must specify that our query has a tree attached to it. The example data for this tutorial does have such a tree."
   ]
  },
  {
   "cell_type": "code",
   "execution_count": 30,
   "id": "e533f99c-c6f9-40aa-b855-998b89f963fd",
   "metadata": {},
   "outputs": [
    {
     "data": {
      "text/plain": [
       "<MutationTreeSamplesQuery[100% (59/59) samples]>"
      ]
     },
     "execution_count": 30,
     "metadata": {},
     "output_type": "execute_result"
    }
   ],
   "source": [
    "t = db.samples_query(universe='mutations', reference_name='S_HeidelbergSL476')\n",
    "t"
   ]
  },
  {
   "cell_type": "markdown",
   "id": "96ce9b8a-3545-4de4-b915-30078f0cd918",
   "metadata": {},
   "source": [
    "Here, the type of query is a `MutationTreeSamplesQuery` which means it has a tree attached to it. You can access the underlying tree object by using the `tree` property)."
   ]
  },
  {
   "cell_type": "code",
   "execution_count": 31,
   "id": "3b5a8097-4ad6-4b36-8f01-07af1db6168b",
   "metadata": {},
   "outputs": [
    {
     "data": {
      "text/plain": [
       "ete3.coretype.tree.TreeNode"
      ]
     },
     "execution_count": 31,
     "metadata": {},
     "output_type": "execute_result"
    }
   ],
   "source": [
    "type(t.tree)"
   ]
  },
  {
   "cell_type": "markdown",
   "id": "c042fbb2-9c75-44c3-a49d-42f207c74e0e",
   "metadata": {},
   "source": [
    "To visualize the tree, you can render the tree as an image using the `tree_styler()` and `render()` methods:"
   ]
  },
  {
   "cell_type": "code",
   "execution_count": 32,
   "id": "31a58a80-c7b2-4ee3-9874-031dc3316d3a",
   "metadata": {},
   "outputs": [
    {
     "data": {
      "image/png": "[encoded data removed]",
      "text/plain": [
       "<IPython.core.display.Image object>"
      ]
     },
     "execution_count": 32,
     "metadata": {},
     "output_type": "execute_result"
    }
   ],
   "source": [
    "t.tree_styler().render(w=300)"
   ]
  },
  {
   "cell_type": "markdown",
   "id": "b6359a9d-b5e3-4d64-8d8e-e2316cb2b009",
   "metadata": {},
   "source": [
    "## 4.2. Searching by distance"
   ]
  },
  {
   "cell_type": "markdown",
   "id": "99e50d53-2862-4f90-b8f5-d1c71d830843",
   "metadata": {},
   "source": [
    "Now that we have a phylogenetic tree, we can search using this tree with `isin()`. To do this, let's search for samples within some distance from `SH14-001`."
   ]
  },
  {
   "cell_type": "code",
   "execution_count": 33,
   "id": "985f1edb-e773-4ab6-b1b4-59c2c2a90973",
   "metadata": {},
   "outputs": [
    {
     "data": {
      "text/plain": [
       "<MutationTreeSamplesQuery[8% (5/59) samples]>"
      ]
     },
     "execution_count": 33,
     "metadata": {},
     "output_type": "execute_result"
    }
   ],
   "source": [
    "tdist = t.isin('SH14-001', kind='distance', distance=3e-7, units='substitutions/site')\n",
    "tdist"
   ]
  },
  {
   "cell_type": "markdown",
   "id": "9454961c-560c-4af5-9c50-88a7eeb2fa2d",
   "metadata": {},
   "source": [
    "This selects a subset of samples within the above distance (given in `'substitutions/site'`, you can also use `units='substitutions'`).\n",
    "\n",
    "It can be hard to see what is going on, so we can combine our query with the tree visualization using the `highlight()` method to highlight the selected samples in the tree."
   ]
  },
  {
   "cell_type": "code",
   "execution_count": 34,
   "id": "2b8ed3ed-9d16-4d5e-89fa-6a58e2f15f16",
   "metadata": {},
   "outputs": [
    {
     "data": {
      "image/png": "[encoded data removed]",
      "text/plain": [
       "<IPython.core.display.Image object>"
      ]
     },
     "execution_count": 34,
     "metadata": {},
     "output_type": "execute_result"
    }
   ],
   "source": [
    "t.tree_styler().highlight(tdist).render(w=300)"
   ]
  },
  {
   "cell_type": "markdown",
   "id": "3a720719-a346-4b10-b0ad-d1884cdfd79b",
   "metadata": {},
   "source": [
    "## 4.3. Searching by most recent common ancestor"
   ]
  },
  {
   "cell_type": "markdown",
   "id": "41076d4d-1069-46a2-b9f3-17511466260d",
   "metadata": {},
   "source": [
    "Another type of query instead of distance is `mrca` which selects samples that all share a particular most recent common ancestor."
   ]
  },
  {
   "cell_type": "code",
   "execution_count": 35,
   "id": "23bb9f39-735f-47fa-b511-2732eb844555",
   "metadata": {},
   "outputs": [
    {
     "data": {
      "image/png": "[encoded data removed]",
      "text/plain": [
       "<IPython.core.display.Image object>"
      ]
     },
     "execution_count": 35,
     "metadata": {},
     "output_type": "execute_result"
    }
   ],
   "source": [
    "tmrca = t.isin(['SH14-001', 'SH14-002'], kind='mrca')\n",
    "t.tree_styler().highlight(tmrca).render(w=300)"
   ]
  },
  {
   "cell_type": "markdown",
   "id": "37e9a6f2-8bcb-4151-99e3-c9eaf2d89b4e",
   "metadata": {},
   "source": [
    "To better visualize how this works, let's combine with another query to select and highlight those samples we are looking for the ancestors to."
   ]
  },
  {
   "cell_type": "code",
   "execution_count": 36,
   "id": "c9012c7f-e366-4126-a4eb-369bb22c8625",
   "metadata": {},
   "outputs": [
    {
     "data": {
      "image/png": "[encoded data removed]",
      "text/plain": [
       "<IPython.core.display.Image object>"
      ]
     },
     "execution_count": 36,
     "metadata": {},
     "output_type": "execute_result"
    }
   ],
   "source": [
    "# I use '\\' in Python to split a single line of code across multiple lines (since whitespace matters in Python)\n",
    "t.tree_styler()\\\n",
    "    .highlight(t.isin(['SH14-001', 'SH14-002'], kind='mrca'), legend_label='Select by MRCA of SH14-001 and SH14-002')\\\n",
    "    .highlight(t.isin(['SH14-001', 'SH14-002'], kind='samples'), legend_label='Select by sample name')\\\n",
    "    .render(w=400)"
   ]
  },
  {
   "cell_type": "markdown",
   "id": "330f3eaa-3ab9-42b1-b156-101cf8b93cb5",
   "metadata": {},
   "source": [
    "So here, the samples highlighted in orange are SH14-001 and SH14-002. The query `t.isin(['SH14-001', 'SH14-002'], kind='mrca')` is used to select all those samples that share a most recent common ancestor to SH14-001 and SH14-002 (shown in green)."
   ]
  },
  {
   "cell_type": "markdown",
   "id": "9e6caceb-baca-4f12-84a1-c40ef91fb6e8",
   "metadata": {},
   "source": [
    "# 5. Attach external metadata\n",
    "\n",
    "So far we've been looking at only the genomics data. But often times many details insights can be derived from the associated metadata with the genomic samples. External metadata can be attached and tracked by our queries (e.g., data from `csv` files or from external databases).\n",
    "\n",
    "To attach external metadata we first must load it up in Python as a DataFrame (note `head(3)` just means only print the first 3 rows, which avoids printing a very large table for this tutorial).\n",
    "\n",
    "## 5.1. Load external metadata\n",
    "\n",
    "First we load some external data in a `tsv` file (tab-delimited file). We use [pandas.read_csv](https://pandas.pydata.org/pandas-docs/stable/reference/api/pandas.read_csv.html) for this."
   ]
  },
  {
   "cell_type": "code",
   "execution_count": 37,
   "id": "a30f2d3f-76a0-44bb-b7d1-6d16d08ed262",
   "metadata": {},
   "outputs": [
    {
     "data": {
      "text/html": [
       "<div>\n",
       "<style scoped>\n",
       "    .dataframe tbody tr th:only-of-type {\n",
       "        vertical-align: middle;\n",
       "    }\n",
       "\n",
       "    .dataframe tbody tr th {\n",
       "        vertical-align: top;\n",
       "    }\n",
       "\n",
       "    .dataframe thead th {\n",
       "        text-align: right;\n",
       "    }\n",
       "</style>\n",
       "<table border=\"1\" class=\"dataframe\">\n",
       "  <thead>\n",
       "    <tr style=\"text-align: right;\">\n",
       "      <th></th>\n",
       "      <th>Strain</th>\n",
       "      <th>Source</th>\n",
       "      <th>Isolation date</th>\n",
       "      <th>Outbreak number</th>\n",
       "      <th>PFGE pattern</th>\n",
       "      <th>PT</th>\n",
       "      <th>Canadian PFGE pattern</th>\n",
       "    </tr>\n",
       "  </thead>\n",
       "  <tbody>\n",
       "    <tr>\n",
       "      <th>0</th>\n",
       "      <td>SH12-001</td>\n",
       "      <td>Human</td>\n",
       "      <td>05-2012</td>\n",
       "      <td>1</td>\n",
       "      <td>2</td>\n",
       "      <td>19</td>\n",
       "      <td>SHXAI.0001/SHBNI.0001</td>\n",
       "    </tr>\n",
       "    <tr>\n",
       "      <th>1</th>\n",
       "      <td>SH12-002</td>\n",
       "      <td>Human</td>\n",
       "      <td>05-2012</td>\n",
       "      <td>1</td>\n",
       "      <td>2</td>\n",
       "      <td>19</td>\n",
       "      <td>SHXAI.0001/SHBNI.0001</td>\n",
       "    </tr>\n",
       "    <tr>\n",
       "      <th>2</th>\n",
       "      <td>SH12-003</td>\n",
       "      <td>Human</td>\n",
       "      <td>05-2012</td>\n",
       "      <td>1</td>\n",
       "      <td>2</td>\n",
       "      <td>19</td>\n",
       "      <td>SHXAI.0001/SHBNI.0001</td>\n",
       "    </tr>\n",
       "  </tbody>\n",
       "</table>\n",
       "</div>"
      ],
      "text/plain": [
       "     Strain Source Isolation date Outbreak number PFGE pattern  PT  \\\n",
       "0  SH12-001  Human        05-2012               1            2  19   \n",
       "1  SH12-002  Human        05-2012               1            2  19   \n",
       "2  SH12-003  Human        05-2012               1            2  19   \n",
       "\n",
       "   Canadian PFGE pattern  \n",
       "0  SHXAI.0001/SHBNI.0001  \n",
       "1  SHXAI.0001/SHBNI.0001  \n",
       "2  SHXAI.0001/SHBNI.0001  "
      ]
     },
     "execution_count": 37,
     "metadata": {},
     "output_type": "execute_result"
    }
   ],
   "source": [
    "import pandas as pd\n",
    "\n",
    "metadata_df = pd.read_csv('salmonella-project/metadata.tsv', sep='\\t', dtype=str)\n",
    "metadata_df.head(3)"
   ]
  },
  {
   "cell_type": "markdown",
   "id": "30181c03-3541-4abf-8cc1-3410369a7a65",
   "metadata": {},
   "source": [
    "## 5.2. Join metdata to query\n",
    "\n",
    "Now we can attach to our query using the `join()` method:"
   ]
  },
  {
   "cell_type": "code",
   "execution_count": 38,
   "id": "e1910c1f-1b53-4976-9832-133864ca6c77",
   "metadata": {},
   "outputs": [
    {
     "data": {
      "text/plain": [
       "<DataFrameSamplesQuery[97% (57/59) samples]>"
      ]
     },
     "execution_count": 38,
     "metadata": {},
     "output_type": "execute_result"
    }
   ],
   "source": [
    "# Setup a new query (you don't have to do this, but this makes sure the results are all as expected in the tutorial)\n",
    "q = db.samples_query().hasa('gi|194447306|ref|NC_011083.1|:4860641:G:A')\n",
    "\n",
    "# Join our query with the given data frame\n",
    "q = q.join(metadata_df, sample_names_column='Strain')\n",
    "q"
   ]
  },
  {
   "cell_type": "markdown",
   "id": "79dc9bfd-facb-43ca-bd9f-33a456395571",
   "metadata": {},
   "source": [
    "To join we had to define a column containing the sample names (the column `Strain` in this case). We now get back a query of type `DataFrameSamplesQuery`."
   ]
  },
  {
   "cell_type": "code",
   "execution_count": 39,
   "id": "097139f0-b9c5-4994-b6de-f3a695e253a9",
   "metadata": {},
   "outputs": [
    {
     "data": {
      "text/plain": [
       "genomics_data_index.api.query.impl.DataFrameSamplesQuery.DataFrameSamplesQuery"
      ]
     },
     "execution_count": 39,
     "metadata": {},
     "output_type": "execute_result"
    }
   ],
   "source": [
    "type(q)"
   ]
  },
  {
   "cell_type": "markdown",
   "id": "416004c7-b77e-4fa9-97a6-fefb3c88a1e6",
   "metadata": {},
   "source": [
    "## 5.3. Selecting by column values using `isa()`\n",
    "\n",
    "We can now use the `isa()` method to select samples by values in a particular metadata column. For example, to select all samples with a **Source** of `Food` we can use:"
   ]
  },
  {
   "cell_type": "code",
   "execution_count": 40,
   "id": "2781766f-4bb3-4ad9-90a5-55d0ed2388bd",
   "metadata": {},
   "outputs": [
    {
     "data": {
      "text/plain": [
       "<DataFrameSamplesQuery[31% (18/59) samples]>"
      ]
     },
     "execution_count": 40,
     "metadata": {},
     "output_type": "execute_result"
    }
   ],
   "source": [
    "q.isa('Food', isa_column='Source', kind='dataframe')"
   ]
  },
  {
   "cell_type": "markdown",
   "id": "47ca3495-2faa-4004-bba2-60db5fd8520e",
   "metadata": {},
   "source": [
    "You can also pass `regex=True` to `isa()` to query by a regex."
   ]
  },
  {
   "cell_type": "code",
   "execution_count": 41,
   "id": "a428de2b-1f07-4d25-ad6c-074ef46b89f5",
   "metadata": {},
   "outputs": [
    {
     "data": {
      "text/plain": [
       "<DataFrameSamplesQuery[31% (18/59) samples]>"
      ]
     },
     "execution_count": 41,
     "metadata": {},
     "output_type": "execute_result"
    }
   ],
   "source": [
    "q.isa('.*oo.*', regex=True, isa_column='Source', kind='dataframe')"
   ]
  },
  {
   "cell_type": "markdown",
   "id": "4e4db450-a9be-4600-9122-480dcc253230",
   "metadata": {},
   "source": [
    "## 5.4. Metadata joined to selected samples\n",
    "\n",
    "One useful component of joining a metadata table to the query is we can query for particular samples, and then export out both a list of those samples as well as any joined metadata in a single table (where each row is a single sample). To do this we use the `toframe()` method."
   ]
  },
  {
   "cell_type": "code",
   "execution_count": 42,
   "id": "f0ba03ee-5da7-4c06-96fa-f72028ad7f32",
   "metadata": {},
   "outputs": [
    {
     "data": {
      "text/html": [
       "<div>\n",
       "<style scoped>\n",
       "    .dataframe tbody tr th:only-of-type {\n",
       "        vertical-align: middle;\n",
       "    }\n",
       "\n",
       "    .dataframe tbody tr th {\n",
       "        vertical-align: top;\n",
       "    }\n",
       "\n",
       "    .dataframe thead th {\n",
       "        text-align: right;\n",
       "    }\n",
       "</style>\n",
       "<table border=\"1\" class=\"dataframe\">\n",
       "  <thead>\n",
       "    <tr style=\"text-align: right;\">\n",
       "      <th></th>\n",
       "      <th>Query</th>\n",
       "      <th>Sample Name</th>\n",
       "      <th>Sample ID</th>\n",
       "      <th>Status</th>\n",
       "      <th>Strain</th>\n",
       "      <th>Source</th>\n",
       "      <th>Isolation date</th>\n",
       "      <th>Outbreak number</th>\n",
       "      <th>PFGE pattern</th>\n",
       "      <th>PT</th>\n",
       "      <th>Canadian PFGE pattern</th>\n",
       "    </tr>\n",
       "  </thead>\n",
       "  <tbody>\n",
       "    <tr>\n",
       "      <th>0</th>\n",
       "      <td>gi|194447306|ref|NC_011083.1|:4860641:G:A AND ...</td>\n",
       "      <td>SH12-009</td>\n",
       "      <td>50</td>\n",
       "      <td>Present</td>\n",
       "      <td>SH12-009</td>\n",
       "      <td>Food</td>\n",
       "      <td>05-2012</td>\n",
       "      <td>1</td>\n",
       "      <td>2</td>\n",
       "      <td>19</td>\n",
       "      <td>SHXAI.0001/SHBNI.0001</td>\n",
       "    </tr>\n",
       "    <tr>\n",
       "      <th>1</th>\n",
       "      <td>gi|194447306|ref|NC_011083.1|:4860641:G:A AND ...</td>\n",
       "      <td>SH12-010</td>\n",
       "      <td>41</td>\n",
       "      <td>Present</td>\n",
       "      <td>SH12-010</td>\n",
       "      <td>Food</td>\n",
       "      <td>05-2012</td>\n",
       "      <td>1</td>\n",
       "      <td>2</td>\n",
       "      <td>19</td>\n",
       "      <td>SHXAI.0001/SHBNI.0001</td>\n",
       "    </tr>\n",
       "    <tr>\n",
       "      <th>2</th>\n",
       "      <td>gi|194447306|ref|NC_011083.1|:4860641:G:A AND ...</td>\n",
       "      <td>SH14-013</td>\n",
       "      <td>42</td>\n",
       "      <td>Present</td>\n",
       "      <td>SH14-013</td>\n",
       "      <td>Food</td>\n",
       "      <td>08-2014</td>\n",
       "      <td>3</td>\n",
       "      <td>2</td>\n",
       "      <td>19</td>\n",
       "      <td>SHXAI.0001/SHBNI.0001</td>\n",
       "    </tr>\n",
       "    <tr>\n",
       "      <th>3</th>\n",
       "      <td>gi|194447306|ref|NC_011083.1|:4860641:G:A AND ...</td>\n",
       "      <td>SH14-014</td>\n",
       "      <td>20</td>\n",
       "      <td>Present</td>\n",
       "      <td>SH14-014</td>\n",
       "      <td>Food</td>\n",
       "      <td>08-2014</td>\n",
       "      <td>3</td>\n",
       "      <td>2</td>\n",
       "      <td>19</td>\n",
       "      <td>SHXAI.0001/SHBNI.0001</td>\n",
       "    </tr>\n",
       "    <tr>\n",
       "      <th>4</th>\n",
       "      <td>gi|194447306|ref|NC_011083.1|:4860641:G:A AND ...</td>\n",
       "      <td>SH14-015</td>\n",
       "      <td>29</td>\n",
       "      <td>Present</td>\n",
       "      <td>SH14-015</td>\n",
       "      <td>Food</td>\n",
       "      <td>08-2014</td>\n",
       "      <td>3</td>\n",
       "      <td>2</td>\n",
       "      <td>19</td>\n",
       "      <td>SHXAI.0001/SHBNI.0001</td>\n",
       "    </tr>\n",
       "    <tr>\n",
       "      <th>5</th>\n",
       "      <td>gi|194447306|ref|NC_011083.1|:4860641:G:A AND ...</td>\n",
       "      <td>SH14-016</td>\n",
       "      <td>10</td>\n",
       "      <td>Present</td>\n",
       "      <td>SH14-016</td>\n",
       "      <td>Food</td>\n",
       "      <td>08-2014</td>\n",
       "      <td>3</td>\n",
       "      <td>2</td>\n",
       "      <td>19</td>\n",
       "      <td>SHXAI.0001/SHBNI.0001</td>\n",
       "    </tr>\n",
       "    <tr>\n",
       "      <th>6</th>\n",
       "      <td>gi|194447306|ref|NC_011083.1|:4860641:G:A AND ...</td>\n",
       "      <td>SH14-017</td>\n",
       "      <td>28</td>\n",
       "      <td>Present</td>\n",
       "      <td>SH14-017</td>\n",
       "      <td>Food</td>\n",
       "      <td>08-2014</td>\n",
       "      <td>3</td>\n",
       "      <td>2</td>\n",
       "      <td>19</td>\n",
       "      <td>SHXAI.0001/SHBNI.0001</td>\n",
       "    </tr>\n",
       "    <tr>\n",
       "      <th>7</th>\n",
       "      <td>gi|194447306|ref|NC_011083.1|:4860641:G:A AND ...</td>\n",
       "      <td>SH14-018</td>\n",
       "      <td>39</td>\n",
       "      <td>Present</td>\n",
       "      <td>SH14-018</td>\n",
       "      <td>Food</td>\n",
       "      <td>08-2014</td>\n",
       "      <td>3</td>\n",
       "      <td>2</td>\n",
       "      <td>19</td>\n",
       "      <td>SHXAI.0001/SHBNI.0001</td>\n",
       "    </tr>\n",
       "    <tr>\n",
       "      <th>8</th>\n",
       "      <td>gi|194447306|ref|NC_011083.1|:4860641:G:A AND ...</td>\n",
       "      <td>SH14-019</td>\n",
       "      <td>56</td>\n",
       "      <td>Present</td>\n",
       "      <td>SH14-019</td>\n",
       "      <td>Food</td>\n",
       "      <td>08-2014</td>\n",
       "      <td>3</td>\n",
       "      <td>2</td>\n",
       "      <td>19</td>\n",
       "      <td>SHXAI.0001/SHBNI.0001</td>\n",
       "    </tr>\n",
       "    <tr>\n",
       "      <th>9</th>\n",
       "      <td>gi|194447306|ref|NC_011083.1|:4860641:G:A AND ...</td>\n",
       "      <td>SH14-020</td>\n",
       "      <td>52</td>\n",
       "      <td>Present</td>\n",
       "      <td>SH14-020</td>\n",
       "      <td>Food</td>\n",
       "      <td>08-2014</td>\n",
       "      <td>3</td>\n",
       "      <td>2</td>\n",
       "      <td>19</td>\n",
       "      <td>SHXAI.0001/SHBNI.0001</td>\n",
       "    </tr>\n",
       "    <tr>\n",
       "      <th>10</th>\n",
       "      <td>gi|194447306|ref|NC_011083.1|:4860641:G:A AND ...</td>\n",
       "      <td>SH14-021</td>\n",
       "      <td>11</td>\n",
       "      <td>Present</td>\n",
       "      <td>SH14-021</td>\n",
       "      <td>Food</td>\n",
       "      <td>08-2014</td>\n",
       "      <td>3</td>\n",
       "      <td>2</td>\n",
       "      <td>19</td>\n",
       "      <td>SHXAI.0001/SHBNI.0001</td>\n",
       "    </tr>\n",
       "    <tr>\n",
       "      <th>11</th>\n",
       "      <td>gi|194447306|ref|NC_011083.1|:4860641:G:A AND ...</td>\n",
       "      <td>SH14-022</td>\n",
       "      <td>57</td>\n",
       "      <td>Present</td>\n",
       "      <td>SH14-022</td>\n",
       "      <td>Food</td>\n",
       "      <td>08-2014</td>\n",
       "      <td>3</td>\n",
       "      <td>2</td>\n",
       "      <td>19</td>\n",
       "      <td>SHXAI.0001/SHBNI.0001</td>\n",
       "    </tr>\n",
       "    <tr>\n",
       "      <th>12</th>\n",
       "      <td>gi|194447306|ref|NC_011083.1|:4860641:G:A AND ...</td>\n",
       "      <td>SH14-023</td>\n",
       "      <td>48</td>\n",
       "      <td>Present</td>\n",
       "      <td>SH14-023</td>\n",
       "      <td>Food</td>\n",
       "      <td>08-2014</td>\n",
       "      <td>3</td>\n",
       "      <td>2</td>\n",
       "      <td>19</td>\n",
       "      <td>SHXAI.0001/SHBNI.0001</td>\n",
       "    </tr>\n",
       "    <tr>\n",
       "      <th>13</th>\n",
       "      <td>gi|194447306|ref|NC_011083.1|:4860641:G:A AND ...</td>\n",
       "      <td>SH14-024</td>\n",
       "      <td>34</td>\n",
       "      <td>Present</td>\n",
       "      <td>SH14-024</td>\n",
       "      <td>Food</td>\n",
       "      <td>08-2014</td>\n",
       "      <td>3</td>\n",
       "      <td>2</td>\n",
       "      <td>19</td>\n",
       "      <td>SHXAI.0001/SHBNI.0001</td>\n",
       "    </tr>\n",
       "    <tr>\n",
       "      <th>14</th>\n",
       "      <td>gi|194447306|ref|NC_011083.1|:4860641:G:A AND ...</td>\n",
       "      <td>SH14-025</td>\n",
       "      <td>49</td>\n",
       "      <td>Present</td>\n",
       "      <td>SH14-025</td>\n",
       "      <td>Food</td>\n",
       "      <td>08-2014</td>\n",
       "      <td>3</td>\n",
       "      <td>2</td>\n",
       "      <td>19</td>\n",
       "      <td>SHXAI.0001/SHBNI.0001</td>\n",
       "    </tr>\n",
       "    <tr>\n",
       "      <th>15</th>\n",
       "      <td>gi|194447306|ref|NC_011083.1|:4860641:G:A AND ...</td>\n",
       "      <td>SH14-026</td>\n",
       "      <td>43</td>\n",
       "      <td>Present</td>\n",
       "      <td>SH14-026</td>\n",
       "      <td>Food</td>\n",
       "      <td>08-2014</td>\n",
       "      <td>3</td>\n",
       "      <td>2</td>\n",
       "      <td>19</td>\n",
       "      <td>SHXAI.0001/SHBNI.0001</td>\n",
       "    </tr>\n",
       "    <tr>\n",
       "      <th>16</th>\n",
       "      <td>gi|194447306|ref|NC_011083.1|:4860641:G:A AND ...</td>\n",
       "      <td>SH14-027</td>\n",
       "      <td>14</td>\n",
       "      <td>Present</td>\n",
       "      <td>SH14-027</td>\n",
       "      <td>Food</td>\n",
       "      <td>08-2014</td>\n",
       "      <td>3</td>\n",
       "      <td>2</td>\n",
       "      <td>19</td>\n",
       "      <td>SHXAI.0001/SHBNI.0001</td>\n",
       "    </tr>\n",
       "    <tr>\n",
       "      <th>17</th>\n",
       "      <td>gi|194447306|ref|NC_011083.1|:4860641:G:A AND ...</td>\n",
       "      <td>SH14-028</td>\n",
       "      <td>22</td>\n",
       "      <td>Present</td>\n",
       "      <td>SH14-028</td>\n",
       "      <td>Food</td>\n",
       "      <td>08-2014</td>\n",
       "      <td>3</td>\n",
       "      <td>2</td>\n",
       "      <td>19</td>\n",
       "      <td>SHXAI.0001/SHBNI.0001</td>\n",
       "    </tr>\n",
       "  </tbody>\n",
       "</table>\n",
       "</div>"
      ],
      "text/plain": [
       "                                                Query Sample Name  Sample ID  \\\n",
       "0   gi|194447306|ref|NC_011083.1|:4860641:G:A AND ...    SH12-009         50   \n",
       "1   gi|194447306|ref|NC_011083.1|:4860641:G:A AND ...    SH12-010         41   \n",
       "2   gi|194447306|ref|NC_011083.1|:4860641:G:A AND ...    SH14-013         42   \n",
       "3   gi|194447306|ref|NC_011083.1|:4860641:G:A AND ...    SH14-014         20   \n",
       "4   gi|194447306|ref|NC_011083.1|:4860641:G:A AND ...    SH14-015         29   \n",
       "5   gi|194447306|ref|NC_011083.1|:4860641:G:A AND ...    SH14-016         10   \n",
       "6   gi|194447306|ref|NC_011083.1|:4860641:G:A AND ...    SH14-017         28   \n",
       "7   gi|194447306|ref|NC_011083.1|:4860641:G:A AND ...    SH14-018         39   \n",
       "8   gi|194447306|ref|NC_011083.1|:4860641:G:A AND ...    SH14-019         56   \n",
       "9   gi|194447306|ref|NC_011083.1|:4860641:G:A AND ...    SH14-020         52   \n",
       "10  gi|194447306|ref|NC_011083.1|:4860641:G:A AND ...    SH14-021         11   \n",
       "11  gi|194447306|ref|NC_011083.1|:4860641:G:A AND ...    SH14-022         57   \n",
       "12  gi|194447306|ref|NC_011083.1|:4860641:G:A AND ...    SH14-023         48   \n",
       "13  gi|194447306|ref|NC_011083.1|:4860641:G:A AND ...    SH14-024         34   \n",
       "14  gi|194447306|ref|NC_011083.1|:4860641:G:A AND ...    SH14-025         49   \n",
       "15  gi|194447306|ref|NC_011083.1|:4860641:G:A AND ...    SH14-026         43   \n",
       "16  gi|194447306|ref|NC_011083.1|:4860641:G:A AND ...    SH14-027         14   \n",
       "17  gi|194447306|ref|NC_011083.1|:4860641:G:A AND ...    SH14-028         22   \n",
       "\n",
       "     Status    Strain Source Isolation date Outbreak number PFGE pattern  PT  \\\n",
       "0   Present  SH12-009   Food        05-2012               1            2  19   \n",
       "1   Present  SH12-010   Food        05-2012               1            2  19   \n",
       "2   Present  SH14-013   Food        08-2014               3            2  19   \n",
       "3   Present  SH14-014   Food        08-2014               3            2  19   \n",
       "4   Present  SH14-015   Food        08-2014               3            2  19   \n",
       "5   Present  SH14-016   Food        08-2014               3            2  19   \n",
       "6   Present  SH14-017   Food        08-2014               3            2  19   \n",
       "7   Present  SH14-018   Food        08-2014               3            2  19   \n",
       "8   Present  SH14-019   Food        08-2014               3            2  19   \n",
       "9   Present  SH14-020   Food        08-2014               3            2  19   \n",
       "10  Present  SH14-021   Food        08-2014               3            2  19   \n",
       "11  Present  SH14-022   Food        08-2014               3            2  19   \n",
       "12  Present  SH14-023   Food        08-2014               3            2  19   \n",
       "13  Present  SH14-024   Food        08-2014               3            2  19   \n",
       "14  Present  SH14-025   Food        08-2014               3            2  19   \n",
       "15  Present  SH14-026   Food        08-2014               3            2  19   \n",
       "16  Present  SH14-027   Food        08-2014               3            2  19   \n",
       "17  Present  SH14-028   Food        08-2014               3            2  19   \n",
       "\n",
       "    Canadian PFGE pattern  \n",
       "0   SHXAI.0001/SHBNI.0001  \n",
       "1   SHXAI.0001/SHBNI.0001  \n",
       "2   SHXAI.0001/SHBNI.0001  \n",
       "3   SHXAI.0001/SHBNI.0001  \n",
       "4   SHXAI.0001/SHBNI.0001  \n",
       "5   SHXAI.0001/SHBNI.0001  \n",
       "6   SHXAI.0001/SHBNI.0001  \n",
       "7   SHXAI.0001/SHBNI.0001  \n",
       "8   SHXAI.0001/SHBNI.0001  \n",
       "9   SHXAI.0001/SHBNI.0001  \n",
       "10  SHXAI.0001/SHBNI.0001  \n",
       "11  SHXAI.0001/SHBNI.0001  \n",
       "12  SHXAI.0001/SHBNI.0001  \n",
       "13  SHXAI.0001/SHBNI.0001  \n",
       "14  SHXAI.0001/SHBNI.0001  \n",
       "15  SHXAI.0001/SHBNI.0001  \n",
       "16  SHXAI.0001/SHBNI.0001  \n",
       "17  SHXAI.0001/SHBNI.0001  "
      ]
     },
     "execution_count": 42,
     "metadata": {},
     "output_type": "execute_result"
    }
   ],
   "source": [
    "q.isa('Food', isa_column='Source', kind='dataframe').toframe()"
   ]
  },
  {
   "cell_type": "markdown",
   "id": "e313f924-5e94-4165-b074-4af719f5b4a1",
   "metadata": {},
   "source": [
    "If you look through this table and find the **Source** column you will see that it only contains *Food* (meaning the bacterial genomes were all derived from bacteria isolated from Food products).\n",
    "\n",
    "If instead you switched to `isa('Human')` you would see only those samples (rows in a table) where **Source** contains *Human*."
   ]
  },
  {
   "cell_type": "code",
   "execution_count": 43,
   "id": "5d9bf773-e093-4ee1-a061-79d5a4a501eb",
   "metadata": {},
   "outputs": [
    {
     "data": {
      "text/html": [
       "<div>\n",
       "<style scoped>\n",
       "    .dataframe tbody tr th:only-of-type {\n",
       "        vertical-align: middle;\n",
       "    }\n",
       "\n",
       "    .dataframe tbody tr th {\n",
       "        vertical-align: top;\n",
       "    }\n",
       "\n",
       "    .dataframe thead th {\n",
       "        text-align: right;\n",
       "    }\n",
       "</style>\n",
       "<table border=\"1\" class=\"dataframe\">\n",
       "  <thead>\n",
       "    <tr style=\"text-align: right;\">\n",
       "      <th></th>\n",
       "      <th>Query</th>\n",
       "      <th>Sample Name</th>\n",
       "      <th>Sample ID</th>\n",
       "      <th>Status</th>\n",
       "      <th>Strain</th>\n",
       "      <th>Source</th>\n",
       "      <th>Isolation date</th>\n",
       "      <th>Outbreak number</th>\n",
       "      <th>PFGE pattern</th>\n",
       "      <th>PT</th>\n",
       "      <th>Canadian PFGE pattern</th>\n",
       "    </tr>\n",
       "  </thead>\n",
       "  <tbody>\n",
       "    <tr>\n",
       "      <th>0</th>\n",
       "      <td>gi|194447306|ref|NC_011083.1|:4860641:G:A AND ...</td>\n",
       "      <td>SH12-001</td>\n",
       "      <td>3</td>\n",
       "      <td>Present</td>\n",
       "      <td>SH12-001</td>\n",
       "      <td>Human</td>\n",
       "      <td>05-2012</td>\n",
       "      <td>1</td>\n",
       "      <td>2</td>\n",
       "      <td>19</td>\n",
       "      <td>SHXAI.0001/SHBNI.0001</td>\n",
       "    </tr>\n",
       "    <tr>\n",
       "      <th>1</th>\n",
       "      <td>gi|194447306|ref|NC_011083.1|:4860641:G:A AND ...</td>\n",
       "      <td>SH12-002</td>\n",
       "      <td>18</td>\n",
       "      <td>Present</td>\n",
       "      <td>SH12-002</td>\n",
       "      <td>Human</td>\n",
       "      <td>05-2012</td>\n",
       "      <td>1</td>\n",
       "      <td>2</td>\n",
       "      <td>19</td>\n",
       "      <td>SHXAI.0001/SHBNI.0001</td>\n",
       "    </tr>\n",
       "    <tr>\n",
       "      <th>2</th>\n",
       "      <td>gi|194447306|ref|NC_011083.1|:4860641:G:A AND ...</td>\n",
       "      <td>SH12-003</td>\n",
       "      <td>13</td>\n",
       "      <td>Present</td>\n",
       "      <td>SH12-003</td>\n",
       "      <td>Human</td>\n",
       "      <td>05-2012</td>\n",
       "      <td>1</td>\n",
       "      <td>2</td>\n",
       "      <td>19</td>\n",
       "      <td>SHXAI.0001/SHBNI.0001</td>\n",
       "    </tr>\n",
       "    <tr>\n",
       "      <th>3</th>\n",
       "      <td>gi|194447306|ref|NC_011083.1|:4860641:G:A AND ...</td>\n",
       "      <td>SH12-004</td>\n",
       "      <td>24</td>\n",
       "      <td>Present</td>\n",
       "      <td>SH12-004</td>\n",
       "      <td>Human</td>\n",
       "      <td>05-2012</td>\n",
       "      <td>1</td>\n",
       "      <td>2</td>\n",
       "      <td>19</td>\n",
       "      <td>SHXAI.0001/SHBNI.0001</td>\n",
       "    </tr>\n",
       "    <tr>\n",
       "      <th>4</th>\n",
       "      <td>gi|194447306|ref|NC_011083.1|:4860641:G:A AND ...</td>\n",
       "      <td>SH12-005</td>\n",
       "      <td>40</td>\n",
       "      <td>Present</td>\n",
       "      <td>SH12-005</td>\n",
       "      <td>Human</td>\n",
       "      <td>05-2012</td>\n",
       "      <td>1</td>\n",
       "      <td>2</td>\n",
       "      <td>19</td>\n",
       "      <td>SHXAI.0001/SHBNI.0001</td>\n",
       "    </tr>\n",
       "    <tr>\n",
       "      <th>5</th>\n",
       "      <td>gi|194447306|ref|NC_011083.1|:4860641:G:A AND ...</td>\n",
       "      <td>SH12-006</td>\n",
       "      <td>45</td>\n",
       "      <td>Present</td>\n",
       "      <td>SH12-006</td>\n",
       "      <td>Human</td>\n",
       "      <td>05-2012</td>\n",
       "      <td>1</td>\n",
       "      <td>2</td>\n",
       "      <td>19</td>\n",
       "      <td>SHXAI.0001/SHBNI.0001</td>\n",
       "    </tr>\n",
       "    <tr>\n",
       "      <th>6</th>\n",
       "      <td>gi|194447306|ref|NC_011083.1|:4860641:G:A AND ...</td>\n",
       "      <td>SH12-007</td>\n",
       "      <td>55</td>\n",
       "      <td>Present</td>\n",
       "      <td>SH12-007</td>\n",
       "      <td>Human</td>\n",
       "      <td>05-2012</td>\n",
       "      <td>1</td>\n",
       "      <td>2</td>\n",
       "      <td>19</td>\n",
       "      <td>SHXAI.0001/SHBNI.0001</td>\n",
       "    </tr>\n",
       "    <tr>\n",
       "      <th>7</th>\n",
       "      <td>gi|194447306|ref|NC_011083.1|:4860641:G:A AND ...</td>\n",
       "      <td>SH12-008</td>\n",
       "      <td>37</td>\n",
       "      <td>Present</td>\n",
       "      <td>SH12-008</td>\n",
       "      <td>Human</td>\n",
       "      <td>05-2012</td>\n",
       "      <td>1</td>\n",
       "      <td>2</td>\n",
       "      <td>19</td>\n",
       "      <td>SHXAI.0001/SHBNI.0001</td>\n",
       "    </tr>\n",
       "    <tr>\n",
       "      <th>8</th>\n",
       "      <td>gi|194447306|ref|NC_011083.1|:4860641:G:A AND ...</td>\n",
       "      <td>SH13-001</td>\n",
       "      <td>4</td>\n",
       "      <td>Present</td>\n",
       "      <td>SH13-001</td>\n",
       "      <td>Human</td>\n",
       "      <td>11-2013</td>\n",
       "      <td>2</td>\n",
       "      <td>2</td>\n",
       "      <td>26</td>\n",
       "      <td>SHXAI.0001/SHBNI.0001</td>\n",
       "    </tr>\n",
       "    <tr>\n",
       "      <th>9</th>\n",
       "      <td>gi|194447306|ref|NC_011083.1|:4860641:G:A AND ...</td>\n",
       "      <td>SH13-002</td>\n",
       "      <td>53</td>\n",
       "      <td>Present</td>\n",
       "      <td>SH13-002</td>\n",
       "      <td>Human</td>\n",
       "      <td>11-2013</td>\n",
       "      <td>2</td>\n",
       "      <td>2</td>\n",
       "      <td>26</td>\n",
       "      <td>SHXAI.0001/SHBNI.0001</td>\n",
       "    </tr>\n",
       "    <tr>\n",
       "      <th>10</th>\n",
       "      <td>gi|194447306|ref|NC_011083.1|:4860641:G:A AND ...</td>\n",
       "      <td>SH13-003</td>\n",
       "      <td>32</td>\n",
       "      <td>Present</td>\n",
       "      <td>SH13-003</td>\n",
       "      <td>Human</td>\n",
       "      <td>11-2013</td>\n",
       "      <td>2</td>\n",
       "      <td>2</td>\n",
       "      <td>26</td>\n",
       "      <td>SHXAI.0001/SHBNI.0001</td>\n",
       "    </tr>\n",
       "    <tr>\n",
       "      <th>11</th>\n",
       "      <td>gi|194447306|ref|NC_011083.1|:4860641:G:A AND ...</td>\n",
       "      <td>SH13-004</td>\n",
       "      <td>25</td>\n",
       "      <td>Present</td>\n",
       "      <td>SH13-004</td>\n",
       "      <td>Human</td>\n",
       "      <td>11-2013</td>\n",
       "      <td>2</td>\n",
       "      <td>2</td>\n",
       "      <td>26</td>\n",
       "      <td>SHXAI.0001/SHBNI.0001</td>\n",
       "    </tr>\n",
       "    <tr>\n",
       "      <th>12</th>\n",
       "      <td>gi|194447306|ref|NC_011083.1|:4860641:G:A AND ...</td>\n",
       "      <td>SH13-005</td>\n",
       "      <td>47</td>\n",
       "      <td>Present</td>\n",
       "      <td>SH13-005</td>\n",
       "      <td>Human</td>\n",
       "      <td>11-2013</td>\n",
       "      <td>2</td>\n",
       "      <td>2</td>\n",
       "      <td>26</td>\n",
       "      <td>SHXAI.0001/SHBNI.0001</td>\n",
       "    </tr>\n",
       "    <tr>\n",
       "      <th>13</th>\n",
       "      <td>gi|194447306|ref|NC_011083.1|:4860641:G:A AND ...</td>\n",
       "      <td>SH13-006</td>\n",
       "      <td>54</td>\n",
       "      <td>Present</td>\n",
       "      <td>SH13-006</td>\n",
       "      <td>Human</td>\n",
       "      <td>11-2013</td>\n",
       "      <td>2</td>\n",
       "      <td>2</td>\n",
       "      <td>26</td>\n",
       "      <td>SHXAI.0001/SHBNI.0001</td>\n",
       "    </tr>\n",
       "    <tr>\n",
       "      <th>14</th>\n",
       "      <td>gi|194447306|ref|NC_011083.1|:4860641:G:A AND ...</td>\n",
       "      <td>SH13-007</td>\n",
       "      <td>16</td>\n",
       "      <td>Present</td>\n",
       "      <td>SH13-007</td>\n",
       "      <td>Human</td>\n",
       "      <td>11-2013</td>\n",
       "      <td>2</td>\n",
       "      <td>2</td>\n",
       "      <td>26</td>\n",
       "      <td>SHXAI.0001/SHBNI.0001</td>\n",
       "    </tr>\n",
       "    <tr>\n",
       "      <th>15</th>\n",
       "      <td>gi|194447306|ref|NC_011083.1|:4860641:G:A AND ...</td>\n",
       "      <td>SH13-008</td>\n",
       "      <td>31</td>\n",
       "      <td>Present</td>\n",
       "      <td>SH13-008</td>\n",
       "      <td>Human</td>\n",
       "      <td>11-2013</td>\n",
       "      <td>2</td>\n",
       "      <td>2</td>\n",
       "      <td>26</td>\n",
       "      <td>SHXAI.0001/SHBNI.0001</td>\n",
       "    </tr>\n",
       "    <tr>\n",
       "      <th>16</th>\n",
       "      <td>gi|194447306|ref|NC_011083.1|:4860641:G:A AND ...</td>\n",
       "      <td>SH14-001</td>\n",
       "      <td>17</td>\n",
       "      <td>Present</td>\n",
       "      <td>SH14-001</td>\n",
       "      <td>Human</td>\n",
       "      <td>07-2014</td>\n",
       "      <td>3</td>\n",
       "      <td>2</td>\n",
       "      <td>19</td>\n",
       "      <td>SHXAI.0001/SHBNI.0001</td>\n",
       "    </tr>\n",
       "    <tr>\n",
       "      <th>17</th>\n",
       "      <td>gi|194447306|ref|NC_011083.1|:4860641:G:A AND ...</td>\n",
       "      <td>SH14-002</td>\n",
       "      <td>19</td>\n",
       "      <td>Present</td>\n",
       "      <td>SH14-002</td>\n",
       "      <td>Human</td>\n",
       "      <td>08-2014</td>\n",
       "      <td>3</td>\n",
       "      <td>2</td>\n",
       "      <td>19</td>\n",
       "      <td>SHXAI.0001/SHBNI.0001</td>\n",
       "    </tr>\n",
       "    <tr>\n",
       "      <th>18</th>\n",
       "      <td>gi|194447306|ref|NC_011083.1|:4860641:G:A AND ...</td>\n",
       "      <td>SH14-003</td>\n",
       "      <td>5</td>\n",
       "      <td>Present</td>\n",
       "      <td>SH14-003</td>\n",
       "      <td>Human</td>\n",
       "      <td>08-2014</td>\n",
       "      <td>3</td>\n",
       "      <td>2</td>\n",
       "      <td>19</td>\n",
       "      <td>SHXAI.0001/SHBNI.0001</td>\n",
       "    </tr>\n",
       "    <tr>\n",
       "      <th>19</th>\n",
       "      <td>gi|194447306|ref|NC_011083.1|:4860641:G:A AND ...</td>\n",
       "      <td>SH14-004</td>\n",
       "      <td>36</td>\n",
       "      <td>Present</td>\n",
       "      <td>SH14-004</td>\n",
       "      <td>Human</td>\n",
       "      <td>08-2014</td>\n",
       "      <td>3</td>\n",
       "      <td>2</td>\n",
       "      <td>19</td>\n",
       "      <td>SHXAI.0001/SHBNI.0001</td>\n",
       "    </tr>\n",
       "    <tr>\n",
       "      <th>20</th>\n",
       "      <td>gi|194447306|ref|NC_011083.1|:4860641:G:A AND ...</td>\n",
       "      <td>SH14-005</td>\n",
       "      <td>21</td>\n",
       "      <td>Present</td>\n",
       "      <td>SH14-005</td>\n",
       "      <td>Human</td>\n",
       "      <td>08-2014</td>\n",
       "      <td>3</td>\n",
       "      <td>2</td>\n",
       "      <td>19</td>\n",
       "      <td>SHXAI.0001/SHBNI.0001</td>\n",
       "    </tr>\n",
       "    <tr>\n",
       "      <th>21</th>\n",
       "      <td>gi|194447306|ref|NC_011083.1|:4860641:G:A AND ...</td>\n",
       "      <td>SH14-006</td>\n",
       "      <td>51</td>\n",
       "      <td>Present</td>\n",
       "      <td>SH14-006</td>\n",
       "      <td>Human</td>\n",
       "      <td>08-2014</td>\n",
       "      <td>3</td>\n",
       "      <td>2</td>\n",
       "      <td>19</td>\n",
       "      <td>SHXAI.0001/SHBNI.0001</td>\n",
       "    </tr>\n",
       "    <tr>\n",
       "      <th>22</th>\n",
       "      <td>gi|194447306|ref|NC_011083.1|:4860641:G:A AND ...</td>\n",
       "      <td>SH14-007</td>\n",
       "      <td>8</td>\n",
       "      <td>Present</td>\n",
       "      <td>SH14-007</td>\n",
       "      <td>Human</td>\n",
       "      <td>08-2014</td>\n",
       "      <td>3</td>\n",
       "      <td>2</td>\n",
       "      <td>19</td>\n",
       "      <td>SHXAI.0001/SHBNI.0001</td>\n",
       "    </tr>\n",
       "    <tr>\n",
       "      <th>23</th>\n",
       "      <td>gi|194447306|ref|NC_011083.1|:4860641:G:A AND ...</td>\n",
       "      <td>SH14-008</td>\n",
       "      <td>23</td>\n",
       "      <td>Present</td>\n",
       "      <td>SH14-008</td>\n",
       "      <td>Human</td>\n",
       "      <td>08-2014</td>\n",
       "      <td>3</td>\n",
       "      <td>2</td>\n",
       "      <td>19</td>\n",
       "      <td>SHXAI.0001/SHBNI.0001</td>\n",
       "    </tr>\n",
       "    <tr>\n",
       "      <th>24</th>\n",
       "      <td>gi|194447306|ref|NC_011083.1|:4860641:G:A AND ...</td>\n",
       "      <td>SH14-009</td>\n",
       "      <td>12</td>\n",
       "      <td>Present</td>\n",
       "      <td>SH14-009</td>\n",
       "      <td>Human</td>\n",
       "      <td>08-2014</td>\n",
       "      <td>3</td>\n",
       "      <td>2</td>\n",
       "      <td>19</td>\n",
       "      <td>SHXAI.0001/SHBNI.0001</td>\n",
       "    </tr>\n",
       "    <tr>\n",
       "      <th>25</th>\n",
       "      <td>gi|194447306|ref|NC_011083.1|:4860641:G:A AND ...</td>\n",
       "      <td>SH14-010</td>\n",
       "      <td>7</td>\n",
       "      <td>Present</td>\n",
       "      <td>SH14-010</td>\n",
       "      <td>Human</td>\n",
       "      <td>08-2014</td>\n",
       "      <td>3</td>\n",
       "      <td>2</td>\n",
       "      <td>17</td>\n",
       "      <td>SHXAI.0001/SHBNI.0001</td>\n",
       "    </tr>\n",
       "    <tr>\n",
       "      <th>26</th>\n",
       "      <td>gi|194447306|ref|NC_011083.1|:4860641:G:A AND ...</td>\n",
       "      <td>SH14-011</td>\n",
       "      <td>35</td>\n",
       "      <td>Present</td>\n",
       "      <td>SH14-011</td>\n",
       "      <td>Human</td>\n",
       "      <td>08-2014</td>\n",
       "      <td>3</td>\n",
       "      <td>2</td>\n",
       "      <td>17</td>\n",
       "      <td>SHXAI.0001/SHBNI.0001</td>\n",
       "    </tr>\n",
       "    <tr>\n",
       "      <th>27</th>\n",
       "      <td>gi|194447306|ref|NC_011083.1|:4860641:G:A AND ...</td>\n",
       "      <td>SH14-012</td>\n",
       "      <td>44</td>\n",
       "      <td>Present</td>\n",
       "      <td>SH14-012</td>\n",
       "      <td>Human</td>\n",
       "      <td>08-2014</td>\n",
       "      <td>3</td>\n",
       "      <td>2</td>\n",
       "      <td>ATHE-35</td>\n",
       "      <td>SHXAI.0001/SHBNI.0001</td>\n",
       "    </tr>\n",
       "    <tr>\n",
       "      <th>28</th>\n",
       "      <td>gi|194447306|ref|NC_011083.1|:4860641:G:A AND ...</td>\n",
       "      <td>SH12-011</td>\n",
       "      <td>38</td>\n",
       "      <td>Present</td>\n",
       "      <td>SH12-011</td>\n",
       "      <td>Human</td>\n",
       "      <td>05-2012</td>\n",
       "      <td>NaN</td>\n",
       "      <td>2</td>\n",
       "      <td>19</td>\n",
       "      <td>SHXAI.0001/SHBNI.0001</td>\n",
       "    </tr>\n",
       "    <tr>\n",
       "      <th>29</th>\n",
       "      <td>gi|194447306|ref|NC_011083.1|:4860641:G:A AND ...</td>\n",
       "      <td>SH10-001</td>\n",
       "      <td>59</td>\n",
       "      <td>Present</td>\n",
       "      <td>SH10-001</td>\n",
       "      <td>Human</td>\n",
       "      <td>08-2010</td>\n",
       "      <td>NaN</td>\n",
       "      <td>2</td>\n",
       "      <td>19</td>\n",
       "      <td>SHXAI.0001/SHBNI.0001</td>\n",
       "    </tr>\n",
       "    <tr>\n",
       "      <th>30</th>\n",
       "      <td>gi|194447306|ref|NC_011083.1|:4860641:G:A AND ...</td>\n",
       "      <td>SH11-001</td>\n",
       "      <td>15</td>\n",
       "      <td>Present</td>\n",
       "      <td>SH11-001</td>\n",
       "      <td>Human</td>\n",
       "      <td>07-2011</td>\n",
       "      <td>NaN</td>\n",
       "      <td>2</td>\n",
       "      <td>19</td>\n",
       "      <td>SHXAI.0001/SHBNI.0001</td>\n",
       "    </tr>\n",
       "    <tr>\n",
       "      <th>31</th>\n",
       "      <td>gi|194447306|ref|NC_011083.1|:4860641:G:A AND ...</td>\n",
       "      <td>SH10-002</td>\n",
       "      <td>27</td>\n",
       "      <td>Present</td>\n",
       "      <td>SH10-002</td>\n",
       "      <td>Human</td>\n",
       "      <td>02-2010</td>\n",
       "      <td>NaN</td>\n",
       "      <td>2</td>\n",
       "      <td>19</td>\n",
       "      <td>SHXAI.0001/SHBNI.0001</td>\n",
       "    </tr>\n",
       "    <tr>\n",
       "      <th>32</th>\n",
       "      <td>gi|194447306|ref|NC_011083.1|:4860641:G:A AND ...</td>\n",
       "      <td>SH12-012</td>\n",
       "      <td>58</td>\n",
       "      <td>Present</td>\n",
       "      <td>SH12-012</td>\n",
       "      <td>Human</td>\n",
       "      <td>06-2012</td>\n",
       "      <td>NaN</td>\n",
       "      <td>2</td>\n",
       "      <td>18</td>\n",
       "      <td>SHXAI.0001/SHBNI.0001</td>\n",
       "    </tr>\n",
       "    <tr>\n",
       "      <th>33</th>\n",
       "      <td>gi|194447306|ref|NC_011083.1|:4860641:G:A AND ...</td>\n",
       "      <td>SH10-014</td>\n",
       "      <td>33</td>\n",
       "      <td>Present</td>\n",
       "      <td>SH10-014</td>\n",
       "      <td>Human</td>\n",
       "      <td>08-2010</td>\n",
       "      <td>NaN</td>\n",
       "      <td>2</td>\n",
       "      <td>26</td>\n",
       "      <td>SHXAI.0001/SHBNI.0001</td>\n",
       "    </tr>\n",
       "    <tr>\n",
       "      <th>34</th>\n",
       "      <td>gi|194447306|ref|NC_011083.1|:4860641:G:A AND ...</td>\n",
       "      <td>SH11-002</td>\n",
       "      <td>30</td>\n",
       "      <td>Present</td>\n",
       "      <td>SH11-002</td>\n",
       "      <td>Human</td>\n",
       "      <td>02-2011</td>\n",
       "      <td>NaN</td>\n",
       "      <td>2</td>\n",
       "      <td>26</td>\n",
       "      <td>SHXAI.0001/SHBNI.0001</td>\n",
       "    </tr>\n",
       "    <tr>\n",
       "      <th>35</th>\n",
       "      <td>gi|194447306|ref|NC_011083.1|:4860641:G:A AND ...</td>\n",
       "      <td>SH10-015</td>\n",
       "      <td>2</td>\n",
       "      <td>Present</td>\n",
       "      <td>SH10-015</td>\n",
       "      <td>Human</td>\n",
       "      <td>09-2010</td>\n",
       "      <td>NaN</td>\n",
       "      <td>2</td>\n",
       "      <td>26</td>\n",
       "      <td>SHXAI.0001/SHBNI.0001</td>\n",
       "    </tr>\n",
       "    <tr>\n",
       "      <th>36</th>\n",
       "      <td>gi|194447306|ref|NC_011083.1|:4860641:G:A AND ...</td>\n",
       "      <td>SH08-001</td>\n",
       "      <td>26</td>\n",
       "      <td>Present</td>\n",
       "      <td>SH08-001</td>\n",
       "      <td>Human</td>\n",
       "      <td>12-2008</td>\n",
       "      <td>NaN</td>\n",
       "      <td>2</td>\n",
       "      <td>19</td>\n",
       "      <td>SHXAI.0001/SHBNI.0001</td>\n",
       "    </tr>\n",
       "    <tr>\n",
       "      <th>37</th>\n",
       "      <td>gi|194447306|ref|NC_011083.1|:4860641:G:A AND ...</td>\n",
       "      <td>SH09-29</td>\n",
       "      <td>1</td>\n",
       "      <td>Present</td>\n",
       "      <td>SH09-29</td>\n",
       "      <td>Human</td>\n",
       "      <td>08-2009</td>\n",
       "      <td>NaN</td>\n",
       "      <td>2</td>\n",
       "      <td>26</td>\n",
       "      <td>SHXAI.0001/SHBNI.0001</td>\n",
       "    </tr>\n",
       "    <tr>\n",
       "      <th>38</th>\n",
       "      <td>gi|194447306|ref|NC_011083.1|:4860641:G:A AND ...</td>\n",
       "      <td>SH10-30</td>\n",
       "      <td>6</td>\n",
       "      <td>Present</td>\n",
       "      <td>SH10-30</td>\n",
       "      <td>Human</td>\n",
       "      <td>07-2010</td>\n",
       "      <td>NaN</td>\n",
       "      <td>2</td>\n",
       "      <td>29</td>\n",
       "      <td>SHXAI.0001/SHBNI.0001</td>\n",
       "    </tr>\n",
       "  </tbody>\n",
       "</table>\n",
       "</div>"
      ],
      "text/plain": [
       "                                                Query Sample Name  Sample ID  \\\n",
       "0   gi|194447306|ref|NC_011083.1|:4860641:G:A AND ...    SH12-001          3   \n",
       "1   gi|194447306|ref|NC_011083.1|:4860641:G:A AND ...    SH12-002         18   \n",
       "2   gi|194447306|ref|NC_011083.1|:4860641:G:A AND ...    SH12-003         13   \n",
       "3   gi|194447306|ref|NC_011083.1|:4860641:G:A AND ...    SH12-004         24   \n",
       "4   gi|194447306|ref|NC_011083.1|:4860641:G:A AND ...    SH12-005         40   \n",
       "5   gi|194447306|ref|NC_011083.1|:4860641:G:A AND ...    SH12-006         45   \n",
       "6   gi|194447306|ref|NC_011083.1|:4860641:G:A AND ...    SH12-007         55   \n",
       "7   gi|194447306|ref|NC_011083.1|:4860641:G:A AND ...    SH12-008         37   \n",
       "8   gi|194447306|ref|NC_011083.1|:4860641:G:A AND ...    SH13-001          4   \n",
       "9   gi|194447306|ref|NC_011083.1|:4860641:G:A AND ...    SH13-002         53   \n",
       "10  gi|194447306|ref|NC_011083.1|:4860641:G:A AND ...    SH13-003         32   \n",
       "11  gi|194447306|ref|NC_011083.1|:4860641:G:A AND ...    SH13-004         25   \n",
       "12  gi|194447306|ref|NC_011083.1|:4860641:G:A AND ...    SH13-005         47   \n",
       "13  gi|194447306|ref|NC_011083.1|:4860641:G:A AND ...    SH13-006         54   \n",
       "14  gi|194447306|ref|NC_011083.1|:4860641:G:A AND ...    SH13-007         16   \n",
       "15  gi|194447306|ref|NC_011083.1|:4860641:G:A AND ...    SH13-008         31   \n",
       "16  gi|194447306|ref|NC_011083.1|:4860641:G:A AND ...    SH14-001         17   \n",
       "17  gi|194447306|ref|NC_011083.1|:4860641:G:A AND ...    SH14-002         19   \n",
       "18  gi|194447306|ref|NC_011083.1|:4860641:G:A AND ...    SH14-003          5   \n",
       "19  gi|194447306|ref|NC_011083.1|:4860641:G:A AND ...    SH14-004         36   \n",
       "20  gi|194447306|ref|NC_011083.1|:4860641:G:A AND ...    SH14-005         21   \n",
       "21  gi|194447306|ref|NC_011083.1|:4860641:G:A AND ...    SH14-006         51   \n",
       "22  gi|194447306|ref|NC_011083.1|:4860641:G:A AND ...    SH14-007          8   \n",
       "23  gi|194447306|ref|NC_011083.1|:4860641:G:A AND ...    SH14-008         23   \n",
       "24  gi|194447306|ref|NC_011083.1|:4860641:G:A AND ...    SH14-009         12   \n",
       "25  gi|194447306|ref|NC_011083.1|:4860641:G:A AND ...    SH14-010          7   \n",
       "26  gi|194447306|ref|NC_011083.1|:4860641:G:A AND ...    SH14-011         35   \n",
       "27  gi|194447306|ref|NC_011083.1|:4860641:G:A AND ...    SH14-012         44   \n",
       "28  gi|194447306|ref|NC_011083.1|:4860641:G:A AND ...    SH12-011         38   \n",
       "29  gi|194447306|ref|NC_011083.1|:4860641:G:A AND ...    SH10-001         59   \n",
       "30  gi|194447306|ref|NC_011083.1|:4860641:G:A AND ...    SH11-001         15   \n",
       "31  gi|194447306|ref|NC_011083.1|:4860641:G:A AND ...    SH10-002         27   \n",
       "32  gi|194447306|ref|NC_011083.1|:4860641:G:A AND ...    SH12-012         58   \n",
       "33  gi|194447306|ref|NC_011083.1|:4860641:G:A AND ...    SH10-014         33   \n",
       "34  gi|194447306|ref|NC_011083.1|:4860641:G:A AND ...    SH11-002         30   \n",
       "35  gi|194447306|ref|NC_011083.1|:4860641:G:A AND ...    SH10-015          2   \n",
       "36  gi|194447306|ref|NC_011083.1|:4860641:G:A AND ...    SH08-001         26   \n",
       "37  gi|194447306|ref|NC_011083.1|:4860641:G:A AND ...     SH09-29          1   \n",
       "38  gi|194447306|ref|NC_011083.1|:4860641:G:A AND ...     SH10-30          6   \n",
       "\n",
       "     Status    Strain Source Isolation date Outbreak number PFGE pattern  \\\n",
       "0   Present  SH12-001  Human        05-2012               1            2   \n",
       "1   Present  SH12-002  Human        05-2012               1            2   \n",
       "2   Present  SH12-003  Human        05-2012               1            2   \n",
       "3   Present  SH12-004  Human        05-2012               1            2   \n",
       "4   Present  SH12-005  Human        05-2012               1            2   \n",
       "5   Present  SH12-006  Human        05-2012               1            2   \n",
       "6   Present  SH12-007  Human        05-2012               1            2   \n",
       "7   Present  SH12-008  Human        05-2012               1            2   \n",
       "8   Present  SH13-001  Human        11-2013               2            2   \n",
       "9   Present  SH13-002  Human        11-2013               2            2   \n",
       "10  Present  SH13-003  Human        11-2013               2            2   \n",
       "11  Present  SH13-004  Human        11-2013               2            2   \n",
       "12  Present  SH13-005  Human        11-2013               2            2   \n",
       "13  Present  SH13-006  Human        11-2013               2            2   \n",
       "14  Present  SH13-007  Human        11-2013               2            2   \n",
       "15  Present  SH13-008  Human        11-2013               2            2   \n",
       "16  Present  SH14-001  Human        07-2014               3            2   \n",
       "17  Present  SH14-002  Human        08-2014               3            2   \n",
       "18  Present  SH14-003  Human        08-2014               3            2   \n",
       "19  Present  SH14-004  Human        08-2014               3            2   \n",
       "20  Present  SH14-005  Human        08-2014               3            2   \n",
       "21  Present  SH14-006  Human        08-2014               3            2   \n",
       "22  Present  SH14-007  Human        08-2014               3            2   \n",
       "23  Present  SH14-008  Human        08-2014               3            2   \n",
       "24  Present  SH14-009  Human        08-2014               3            2   \n",
       "25  Present  SH14-010  Human        08-2014               3            2   \n",
       "26  Present  SH14-011  Human        08-2014               3            2   \n",
       "27  Present  SH14-012  Human        08-2014               3            2   \n",
       "28  Present  SH12-011  Human        05-2012             NaN            2   \n",
       "29  Present  SH10-001  Human        08-2010             NaN            2   \n",
       "30  Present  SH11-001  Human        07-2011             NaN            2   \n",
       "31  Present  SH10-002  Human        02-2010             NaN            2   \n",
       "32  Present  SH12-012  Human        06-2012             NaN            2   \n",
       "33  Present  SH10-014  Human        08-2010             NaN            2   \n",
       "34  Present  SH11-002  Human        02-2011             NaN            2   \n",
       "35  Present  SH10-015  Human        09-2010             NaN            2   \n",
       "36  Present  SH08-001  Human        12-2008             NaN            2   \n",
       "37  Present   SH09-29  Human        08-2009             NaN            2   \n",
       "38  Present   SH10-30  Human        07-2010             NaN            2   \n",
       "\n",
       "         PT  Canadian PFGE pattern  \n",
       "0        19  SHXAI.0001/SHBNI.0001  \n",
       "1        19  SHXAI.0001/SHBNI.0001  \n",
       "2        19  SHXAI.0001/SHBNI.0001  \n",
       "3        19  SHXAI.0001/SHBNI.0001  \n",
       "4        19  SHXAI.0001/SHBNI.0001  \n",
       "5        19  SHXAI.0001/SHBNI.0001  \n",
       "6        19  SHXAI.0001/SHBNI.0001  \n",
       "7        19  SHXAI.0001/SHBNI.0001  \n",
       "8        26  SHXAI.0001/SHBNI.0001  \n",
       "9        26  SHXAI.0001/SHBNI.0001  \n",
       "10       26  SHXAI.0001/SHBNI.0001  \n",
       "11       26  SHXAI.0001/SHBNI.0001  \n",
       "12       26  SHXAI.0001/SHBNI.0001  \n",
       "13       26  SHXAI.0001/SHBNI.0001  \n",
       "14       26  SHXAI.0001/SHBNI.0001  \n",
       "15       26  SHXAI.0001/SHBNI.0001  \n",
       "16       19  SHXAI.0001/SHBNI.0001  \n",
       "17       19  SHXAI.0001/SHBNI.0001  \n",
       "18       19  SHXAI.0001/SHBNI.0001  \n",
       "19       19  SHXAI.0001/SHBNI.0001  \n",
       "20       19  SHXAI.0001/SHBNI.0001  \n",
       "21       19  SHXAI.0001/SHBNI.0001  \n",
       "22       19  SHXAI.0001/SHBNI.0001  \n",
       "23       19  SHXAI.0001/SHBNI.0001  \n",
       "24       19  SHXAI.0001/SHBNI.0001  \n",
       "25       17  SHXAI.0001/SHBNI.0001  \n",
       "26       17  SHXAI.0001/SHBNI.0001  \n",
       "27  ATHE-35  SHXAI.0001/SHBNI.0001  \n",
       "28       19  SHXAI.0001/SHBNI.0001  \n",
       "29       19  SHXAI.0001/SHBNI.0001  \n",
       "30       19  SHXAI.0001/SHBNI.0001  \n",
       "31       19  SHXAI.0001/SHBNI.0001  \n",
       "32       18  SHXAI.0001/SHBNI.0001  \n",
       "33       26  SHXAI.0001/SHBNI.0001  \n",
       "34       26  SHXAI.0001/SHBNI.0001  \n",
       "35       26  SHXAI.0001/SHBNI.0001  \n",
       "36       19  SHXAI.0001/SHBNI.0001  \n",
       "37       26  SHXAI.0001/SHBNI.0001  \n",
       "38       29  SHXAI.0001/SHBNI.0001  "
      ]
     },
     "execution_count": 43,
     "metadata": {},
     "output_type": "execute_result"
    }
   ],
   "source": [
    "q.isa('Human', isa_column='Source', kind='dataframe').toframe()"
   ]
  },
  {
   "cell_type": "markdown",
   "id": "e888112a-975c-4b3f-a14d-691f53c05d13",
   "metadata": {},
   "source": [
    "# 6. End\n",
    "\n",
    "Congratulations. You've made it to the end of this tutorial. You are amazing 😀🥳❤️. Way to go. I hope you enjoyed it."
   ]
  }
 ],
 "metadata": {
  "kernelspec": {
   "display_name": "Python 3",
   "language": "python",
   "name": "python3"
  },
  "language_info": {
   "codemirror_mode": {
    "name": "ipython",
    "version": 3
   },
   "file_extension": ".py",
   "mimetype": "text/x-python",
   "name": "python",
   "nbconvert_exporter": "python",
   "pygments_lexer": "ipython3",
   "version": "3.8.10"
  }
 },
 "nbformat": 4,
 "nbformat_minor": 5
}
