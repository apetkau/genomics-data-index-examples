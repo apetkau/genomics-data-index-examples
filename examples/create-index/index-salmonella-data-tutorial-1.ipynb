{
 "cells": [
  {
   "cell_type": "markdown",
   "id": "7903635c-25db-4b21-88ed-19de57adec6b",
   "metadata": {},
   "source": [
    "# 1. Download SRA data\n",
    "\n",
    "## 1.1. Read SRA data\n",
    "\n",
    "The `SraRunTable.txt` was downloaded from all **SRA Experiements** in NCBI for [BioProject PRJNA305824](https://www.ncbi.nlm.nih.gov/bioproject/PRJNA305824)."
   ]
  },
  {
   "cell_type": "code",
   "execution_count": 3,
   "id": "cd30b6e0-5515-41b2-89c2-cb769fc3167b",
   "metadata": {},
   "outputs": [
    {
     "name": "stdout",
     "output_type": "stream",
     "text": [
      "Table rows: 65\n"
     ]
    },
    {
     "data": {
      "text/html": [
       "<div>\n",
       "<style scoped>\n",
       "    .dataframe tbody tr th:only-of-type {\n",
       "        vertical-align: middle;\n",
       "    }\n",
       "\n",
       "    .dataframe tbody tr th {\n",
       "        vertical-align: top;\n",
       "    }\n",
       "\n",
       "    .dataframe thead th {\n",
       "        text-align: right;\n",
       "    }\n",
       "</style>\n",
       "<table border=\"1\" class=\"dataframe\">\n",
       "  <thead>\n",
       "    <tr style=\"text-align: right;\">\n",
       "      <th></th>\n",
       "      <th>Run</th>\n",
       "      <th>Assay Type</th>\n",
       "      <th>AvgSpotLen</th>\n",
       "      <th>Bases</th>\n",
       "      <th>BioProject</th>\n",
       "      <th>BioSample</th>\n",
       "      <th>BioSampleModel</th>\n",
       "      <th>Bytes</th>\n",
       "      <th>Center Name</th>\n",
       "      <th>collected_by</th>\n",
       "      <th>...</th>\n",
       "      <th>Phagetype</th>\n",
       "      <th>Platform</th>\n",
       "      <th>ReleaseDate</th>\n",
       "      <th>Sample Name</th>\n",
       "      <th>Serovar</th>\n",
       "      <th>SRA Study</th>\n",
       "      <th>STRAIN</th>\n",
       "      <th>sub_species</th>\n",
       "      <th>Host_disease</th>\n",
       "      <th>Host</th>\n",
       "    </tr>\n",
       "  </thead>\n",
       "  <tbody>\n",
       "    <tr>\n",
       "      <th>0</th>\n",
       "      <td>SRR3028736</td>\n",
       "      <td>WGS</td>\n",
       "      <td>419</td>\n",
       "      <td>621431550</td>\n",
       "      <td>PRJNA305824</td>\n",
       "      <td>SAMN04334627</td>\n",
       "      <td>Pathogen.cl</td>\n",
       "      <td>367138294</td>\n",
       "      <td>MCGILL UNIVERSITY</td>\n",
       "      <td>hospital</td>\n",
       "      <td>...</td>\n",
       "      <td>19</td>\n",
       "      <td>ILLUMINA</td>\n",
       "      <td>2015-12-19T00:00:00Z</td>\n",
       "      <td>SH12-001</td>\n",
       "      <td>Heidelberg</td>\n",
       "      <td>SRP067504</td>\n",
       "      <td>SH12-001</td>\n",
       "      <td>enterica</td>\n",
       "      <td>Salmonella gastroenteritis</td>\n",
       "      <td>Homo sapiens</td>\n",
       "    </tr>\n",
       "    <tr>\n",
       "      <th>1</th>\n",
       "      <td>SRR3028737</td>\n",
       "      <td>WGS</td>\n",
       "      <td>426</td>\n",
       "      <td>433789482</td>\n",
       "      <td>PRJNA305824</td>\n",
       "      <td>SAMN04334628</td>\n",
       "      <td>Pathogen.cl</td>\n",
       "      <td>251988185</td>\n",
       "      <td>MCGILL UNIVERSITY</td>\n",
       "      <td>hospital</td>\n",
       "      <td>...</td>\n",
       "      <td>19</td>\n",
       "      <td>ILLUMINA</td>\n",
       "      <td>2015-12-19T00:00:00Z</td>\n",
       "      <td>SH12-002</td>\n",
       "      <td>Heidelberg</td>\n",
       "      <td>SRP067504</td>\n",
       "      <td>SH12-002</td>\n",
       "      <td>enterica</td>\n",
       "      <td>Salmonella gastroenteritis</td>\n",
       "      <td>Homo sapiens</td>\n",
       "    </tr>\n",
       "    <tr>\n",
       "      <th>2</th>\n",
       "      <td>SRR3028738</td>\n",
       "      <td>WGS</td>\n",
       "      <td>432</td>\n",
       "      <td>407605751</td>\n",
       "      <td>PRJNA305824</td>\n",
       "      <td>SAMN04334629</td>\n",
       "      <td>Pathogen.cl</td>\n",
       "      <td>238018601</td>\n",
       "      <td>MCGILL UNIVERSITY</td>\n",
       "      <td>hospital</td>\n",
       "      <td>...</td>\n",
       "      <td>19</td>\n",
       "      <td>ILLUMINA</td>\n",
       "      <td>2015-12-19T00:00:00Z</td>\n",
       "      <td>SH12-003</td>\n",
       "      <td>Heidelberg</td>\n",
       "      <td>SRP067504</td>\n",
       "      <td>SH12-003</td>\n",
       "      <td>enterica</td>\n",
       "      <td>Salmonella gastroenteritis</td>\n",
       "      <td>Homo sapiens</td>\n",
       "    </tr>\n",
       "  </tbody>\n",
       "</table>\n",
       "<p>3 rows × 40 columns</p>\n",
       "</div>"
      ],
      "text/plain": [
       "          Run Assay Type  AvgSpotLen      Bases   BioProject     BioSample  \\\n",
       "0  SRR3028736        WGS         419  621431550  PRJNA305824  SAMN04334627   \n",
       "1  SRR3028737        WGS         426  433789482  PRJNA305824  SAMN04334628   \n",
       "2  SRR3028738        WGS         432  407605751  PRJNA305824  SAMN04334629   \n",
       "\n",
       "  BioSampleModel      Bytes        Center Name collected_by  ... Phagetype  \\\n",
       "0    Pathogen.cl  367138294  MCGILL UNIVERSITY     hospital  ...        19   \n",
       "1    Pathogen.cl  251988185  MCGILL UNIVERSITY     hospital  ...        19   \n",
       "2    Pathogen.cl  238018601  MCGILL UNIVERSITY     hospital  ...        19   \n",
       "\n",
       "   Platform           ReleaseDate Sample Name     Serovar  SRA Study  \\\n",
       "0  ILLUMINA  2015-12-19T00:00:00Z    SH12-001  Heidelberg  SRP067504   \n",
       "1  ILLUMINA  2015-12-19T00:00:00Z    SH12-002  Heidelberg  SRP067504   \n",
       "2  ILLUMINA  2015-12-19T00:00:00Z    SH12-003  Heidelberg  SRP067504   \n",
       "\n",
       "     STRAIN sub_species                Host_disease          Host  \n",
       "0  SH12-001    enterica  Salmonella gastroenteritis  Homo sapiens  \n",
       "1  SH12-002    enterica  Salmonella gastroenteritis  Homo sapiens  \n",
       "2  SH12-003    enterica  Salmonella gastroenteritis  Homo sapiens  \n",
       "\n",
       "[3 rows x 40 columns]"
      ]
     },
     "execution_count": 3,
     "metadata": {},
     "output_type": "execute_result"
    }
   ],
   "source": [
    "import pandas as pd\n",
    "\n",
    "sra_df = pd.read_csv('SraRunTable.txt.gz')\n",
    "print(f'Table rows: {len(sra_df)}')\n",
    "sra_df.head(3)"
   ]
  },
  {
   "cell_type": "markdown",
   "id": "519df9b1-c025-42c7-947b-2633c9bbffac",
   "metadata": {},
   "source": [
    "## 1.2. Reduce to single SRA run per genomic sample\n",
    "\n",
    "Some samples have multiple SRA runs. We pick the largest run in this case and reduce the table down to 59 samples/SRA runs."
   ]
  },
  {
   "cell_type": "code",
   "execution_count": 4,
   "id": "da964fa2-2cdf-4bf0-8e75-555bc25139dd",
   "metadata": {},
   "outputs": [
    {
     "data": {
      "text/html": [
       "<div>\n",
       "<style scoped>\n",
       "    .dataframe tbody tr th:only-of-type {\n",
       "        vertical-align: middle;\n",
       "    }\n",
       "\n",
       "    .dataframe tbody tr th {\n",
       "        vertical-align: top;\n",
       "    }\n",
       "\n",
       "    .dataframe thead th {\n",
       "        text-align: right;\n",
       "    }\n",
       "</style>\n",
       "<table border=\"1\" class=\"dataframe\">\n",
       "  <thead>\n",
       "    <tr style=\"text-align: right;\">\n",
       "      <th></th>\n",
       "      <th>Sample Name</th>\n",
       "      <th>Run</th>\n",
       "    </tr>\n",
       "    <tr>\n",
       "      <th>Sample Name</th>\n",
       "      <th></th>\n",
       "      <th></th>\n",
       "    </tr>\n",
       "  </thead>\n",
       "  <tbody>\n",
       "    <tr>\n",
       "      <th>SH12-003</th>\n",
       "      <td>2</td>\n",
       "      <td>SRR3684173</td>\n",
       "    </tr>\n",
       "    <tr>\n",
       "      <th>SH12-007</th>\n",
       "      <td>2</td>\n",
       "      <td>SRR3684194</td>\n",
       "    </tr>\n",
       "    <tr>\n",
       "      <th>SH13-004</th>\n",
       "      <td>2</td>\n",
       "      <td>SRR3711286</td>\n",
       "    </tr>\n",
       "    <tr>\n",
       "      <th>SH13-006</th>\n",
       "      <td>2</td>\n",
       "      <td>SRR3711252</td>\n",
       "    </tr>\n",
       "    <tr>\n",
       "      <th>SH14-009</th>\n",
       "      <td>2</td>\n",
       "      <td>SRR3711296</td>\n",
       "    </tr>\n",
       "    <tr>\n",
       "      <th>SH14-028</th>\n",
       "      <td>2</td>\n",
       "      <td>SRR3712208</td>\n",
       "    </tr>\n",
       "  </tbody>\n",
       "</table>\n",
       "</div>"
      ],
      "text/plain": [
       "             Sample Name         Run\n",
       "Sample Name                         \n",
       "SH12-003               2  SRR3684173\n",
       "SH12-007               2  SRR3684194\n",
       "SH13-004               2  SRR3711286\n",
       "SH13-006               2  SRR3711252\n",
       "SH14-009               2  SRR3711296\n",
       "SH14-028               2  SRR3712208"
      ]
     },
     "execution_count": 4,
     "metadata": {},
     "output_type": "execute_result"
    }
   ],
   "source": [
    "df = sra_df.sort_values('Bases', ascending=False).groupby('Sample Name').agg(\n",
    "    {'Sample Name': 'count', 'Run': 'first'}, axis='columns')\n",
    "df[df['Sample Name'] > 1]"
   ]
  },
  {
   "cell_type": "code",
   "execution_count": 5,
   "id": "edff0dcb-a565-4b81-ba84-6db07df297e7",
   "metadata": {},
   "outputs": [
    {
     "name": "stdout",
     "output_type": "stream",
     "text": [
      "Table rows: 59\n"
     ]
    },
    {
     "data": {
      "text/html": [
       "<div>\n",
       "<style scoped>\n",
       "    .dataframe tbody tr th:only-of-type {\n",
       "        vertical-align: middle;\n",
       "    }\n",
       "\n",
       "    .dataframe tbody tr th {\n",
       "        vertical-align: top;\n",
       "    }\n",
       "\n",
       "    .dataframe thead th {\n",
       "        text-align: right;\n",
       "    }\n",
       "</style>\n",
       "<table border=\"1\" class=\"dataframe\">\n",
       "  <thead>\n",
       "    <tr style=\"text-align: right;\">\n",
       "      <th></th>\n",
       "      <th>Run</th>\n",
       "      <th>Assay Type</th>\n",
       "      <th>AvgSpotLen</th>\n",
       "      <th>Bases</th>\n",
       "      <th>BioProject</th>\n",
       "      <th>BioSample</th>\n",
       "      <th>BioSampleModel</th>\n",
       "      <th>Bytes</th>\n",
       "      <th>Center Name</th>\n",
       "      <th>collected_by</th>\n",
       "      <th>...</th>\n",
       "      <th>PFGE_SecondaryEnzyme_pattern</th>\n",
       "      <th>Phagetype</th>\n",
       "      <th>Platform</th>\n",
       "      <th>ReleaseDate</th>\n",
       "      <th>Serovar</th>\n",
       "      <th>SRA Study</th>\n",
       "      <th>STRAIN</th>\n",
       "      <th>sub_species</th>\n",
       "      <th>Host_disease</th>\n",
       "      <th>Host</th>\n",
       "    </tr>\n",
       "    <tr>\n",
       "      <th>Sample Name</th>\n",
       "      <th></th>\n",
       "      <th></th>\n",
       "      <th></th>\n",
       "      <th></th>\n",
       "      <th></th>\n",
       "      <th></th>\n",
       "      <th></th>\n",
       "      <th></th>\n",
       "      <th></th>\n",
       "      <th></th>\n",
       "      <th></th>\n",
       "      <th></th>\n",
       "      <th></th>\n",
       "      <th></th>\n",
       "      <th></th>\n",
       "      <th></th>\n",
       "      <th></th>\n",
       "      <th></th>\n",
       "      <th></th>\n",
       "      <th></th>\n",
       "      <th></th>\n",
       "    </tr>\n",
       "  </thead>\n",
       "  <tbody>\n",
       "    <tr>\n",
       "      <th>SH08-001</th>\n",
       "      <td>SRR3028792</td>\n",
       "      <td>WGS</td>\n",
       "      <td>429</td>\n",
       "      <td>354123684</td>\n",
       "      <td>PRJNA305824</td>\n",
       "      <td>SAMN04334683</td>\n",
       "      <td>Pathogen.cl</td>\n",
       "      <td>197484364</td>\n",
       "      <td>MCGILL UNIVERSITY</td>\n",
       "      <td>hospital</td>\n",
       "      <td>...</td>\n",
       "      <td>SHBNI.0001</td>\n",
       "      <td>19</td>\n",
       "      <td>ILLUMINA</td>\n",
       "      <td>2015-12-19T00:00:00Z</td>\n",
       "      <td>Heidelberg</td>\n",
       "      <td>SRP067504</td>\n",
       "      <td>SH08-001</td>\n",
       "      <td>enterica</td>\n",
       "      <td>Salmonella gastroenteritis</td>\n",
       "      <td>Homo sapiens</td>\n",
       "    </tr>\n",
       "    <tr>\n",
       "      <th>SH09-29</th>\n",
       "      <td>SRR3028793</td>\n",
       "      <td>WGS</td>\n",
       "      <td>422</td>\n",
       "      <td>519366460</td>\n",
       "      <td>PRJNA305824</td>\n",
       "      <td>SAMN04334684</td>\n",
       "      <td>Pathogen.cl</td>\n",
       "      <td>288691068</td>\n",
       "      <td>MCGILL UNIVERSITY</td>\n",
       "      <td>hospital</td>\n",
       "      <td>...</td>\n",
       "      <td>SHBNI.0001</td>\n",
       "      <td>26</td>\n",
       "      <td>ILLUMINA</td>\n",
       "      <td>2015-12-19T00:00:00Z</td>\n",
       "      <td>Heidelberg</td>\n",
       "      <td>SRP067504</td>\n",
       "      <td>SH09-29</td>\n",
       "      <td>enterica</td>\n",
       "      <td>Salmonella gastroenteritis</td>\n",
       "      <td>Homo sapiens</td>\n",
       "    </tr>\n",
       "    <tr>\n",
       "      <th>SH10-001</th>\n",
       "      <td>SRR3028783</td>\n",
       "      <td>WGS</td>\n",
       "      <td>421</td>\n",
       "      <td>387145160</td>\n",
       "      <td>PRJNA305824</td>\n",
       "      <td>SAMN04334674</td>\n",
       "      <td>Pathogen.cl</td>\n",
       "      <td>233911529</td>\n",
       "      <td>MCGILL UNIVERSITY</td>\n",
       "      <td>hospital</td>\n",
       "      <td>...</td>\n",
       "      <td>SHBNI.0001</td>\n",
       "      <td>19</td>\n",
       "      <td>ILLUMINA</td>\n",
       "      <td>2015-12-19T00:00:00Z</td>\n",
       "      <td>Heidelberg</td>\n",
       "      <td>SRP067504</td>\n",
       "      <td>SH10-001</td>\n",
       "      <td>enterica</td>\n",
       "      <td>Salmonella gastroenteritis</td>\n",
       "      <td>Homo sapiens</td>\n",
       "    </tr>\n",
       "  </tbody>\n",
       "</table>\n",
       "<p>3 rows × 39 columns</p>\n",
       "</div>"
      ],
      "text/plain": [
       "                    Run Assay Type  AvgSpotLen      Bases   BioProject  \\\n",
       "Sample Name                                                              \n",
       "SH08-001     SRR3028792        WGS         429  354123684  PRJNA305824   \n",
       "SH09-29      SRR3028793        WGS         422  519366460  PRJNA305824   \n",
       "SH10-001     SRR3028783        WGS         421  387145160  PRJNA305824   \n",
       "\n",
       "                BioSample BioSampleModel      Bytes        Center Name  \\\n",
       "Sample Name                                                              \n",
       "SH08-001     SAMN04334683    Pathogen.cl  197484364  MCGILL UNIVERSITY   \n",
       "SH09-29      SAMN04334684    Pathogen.cl  288691068  MCGILL UNIVERSITY   \n",
       "SH10-001     SAMN04334674    Pathogen.cl  233911529  MCGILL UNIVERSITY   \n",
       "\n",
       "            collected_by  ... PFGE_SecondaryEnzyme_pattern Phagetype  \\\n",
       "Sample Name               ...                                          \n",
       "SH08-001        hospital  ...                   SHBNI.0001        19   \n",
       "SH09-29         hospital  ...                   SHBNI.0001        26   \n",
       "SH10-001        hospital  ...                   SHBNI.0001        19   \n",
       "\n",
       "             Platform           ReleaseDate     Serovar  SRA Study    STRAIN  \\\n",
       "Sample Name                                                                    \n",
       "SH08-001     ILLUMINA  2015-12-19T00:00:00Z  Heidelberg  SRP067504  SH08-001   \n",
       "SH09-29      ILLUMINA  2015-12-19T00:00:00Z  Heidelberg  SRP067504   SH09-29   \n",
       "SH10-001     ILLUMINA  2015-12-19T00:00:00Z  Heidelberg  SRP067504  SH10-001   \n",
       "\n",
       "            sub_species                Host_disease          Host  \n",
       "Sample Name                                                        \n",
       "SH08-001       enterica  Salmonella gastroenteritis  Homo sapiens  \n",
       "SH09-29        enterica  Salmonella gastroenteritis  Homo sapiens  \n",
       "SH10-001       enterica  Salmonella gastroenteritis  Homo sapiens  \n",
       "\n",
       "[3 rows x 39 columns]"
      ]
     },
     "execution_count": 5,
     "metadata": {},
     "output_type": "execute_result"
    }
   ],
   "source": [
    "sra_df_reduced = sra_df.set_index('Run').loc[df['Run'].tolist()].reset_index().set_index('Sample Name')\n",
    "print(f'Table rows: {len(sra_df_reduced)}')\n",
    "sra_df_reduced.head(3)"
   ]
  },
  {
   "cell_type": "markdown",
   "id": "68c9236f-2286-4b70-80c4-d7e244530b6e",
   "metadata": {},
   "source": [
    "## 1.3. Save as metadata\n",
    "\n",
    "Save the table as `metadata.tsv`."
   ]
  },
  {
   "cell_type": "code",
   "execution_count": 6,
   "id": "668268fb-6c6e-4c6c-b029-83e1946e913a",
   "metadata": {},
   "outputs": [],
   "source": [
    "sra_df_reduced.to_csv('metadata.tsv', sep='\\t', index=True)"
   ]
  },
  {
   "cell_type": "code",
   "execution_count": 8,
   "id": "30133de3-f250-4c2b-bd6f-74b1c8ea9f60",
   "metadata": {},
   "outputs": [],
   "source": [
    "!gzip -f metadata.tsv"
   ]
  },
  {
   "cell_type": "markdown",
   "id": "7f5f4bf5-38d0-404a-ada0-c16be403a39e",
   "metadata": {},
   "source": [
    "# 2. Download SRA data\n",
    "\n",
    "To download sra data, first we create the download command."
   ]
  },
  {
   "cell_type": "code",
   "execution_count": 24,
   "id": "2e7428db-7e33-47a6-8f88-aa3ba519b1bc",
   "metadata": {},
   "outputs": [
    {
     "data": {
      "text/html": [
       "<div>\n",
       "<style scoped>\n",
       "    .dataframe tbody tr th:only-of-type {\n",
       "        vertical-align: middle;\n",
       "    }\n",
       "\n",
       "    .dataframe tbody tr th {\n",
       "        vertical-align: top;\n",
       "    }\n",
       "\n",
       "    .dataframe thead th {\n",
       "        text-align: right;\n",
       "    }\n",
       "</style>\n",
       "<table border=\"1\" class=\"dataframe\">\n",
       "  <thead>\n",
       "    <tr style=\"text-align: right;\">\n",
       "      <th></th>\n",
       "      <th>Sample Name</th>\n",
       "      <th>Run</th>\n",
       "      <th>command</th>\n",
       "    </tr>\n",
       "  </thead>\n",
       "  <tbody>\n",
       "    <tr>\n",
       "      <th>0</th>\n",
       "      <td>SH08-001</td>\n",
       "      <td>SRR3028792</td>\n",
       "      <td>fasterq-dump --threads 4 -O fastq -o SH08-001 ...</td>\n",
       "    </tr>\n",
       "    <tr>\n",
       "      <th>1</th>\n",
       "      <td>SH09-29</td>\n",
       "      <td>SRR3028793</td>\n",
       "      <td>fasterq-dump --threads 4 -O fastq -o SH09-29 -...</td>\n",
       "    </tr>\n",
       "    <tr>\n",
       "      <th>2</th>\n",
       "      <td>SH10-001</td>\n",
       "      <td>SRR3028783</td>\n",
       "      <td>fasterq-dump --threads 4 -O fastq -o SH10-001 ...</td>\n",
       "    </tr>\n",
       "  </tbody>\n",
       "</table>\n",
       "</div>"
      ],
      "text/plain": [
       "  Sample Name         Run                                            command\n",
       "0    SH08-001  SRR3028792  fasterq-dump --threads 4 -O fastq -o SH08-001 ...\n",
       "1     SH09-29  SRR3028793  fasterq-dump --threads 4 -O fastq -o SH09-29 -...\n",
       "2    SH10-001  SRR3028783  fasterq-dump --threads 4 -O fastq -o SH10-001 ..."
      ]
     },
     "execution_count": 24,
     "metadata": {},
     "output_type": "execute_result"
    }
   ],
   "source": [
    "command_df = sra_df_reduced.reset_index()[['Sample Name', 'Run']]\n",
    "command_df['command'] = command_df.apply(lambda x: f'fasterq-dump --threads 4 -O fastq -o {x[\"Sample Name\"]} --split-files {x[\"Run\"]}', axis='columns')\n",
    "command_df.head(3)"
   ]
  },
  {
   "cell_type": "markdown",
   "id": "9080868a-11e5-45fb-88a3-21460217623f",
   "metadata": {},
   "source": [
    "Now write download command to a file."
   ]
  },
  {
   "cell_type": "code",
   "execution_count": 29,
   "id": "56dcd628-489b-45e8-91b0-473b3a89380e",
   "metadata": {},
   "outputs": [],
   "source": [
    "command_df['command'].to_csv('commands.txt', index=False, header=False)"
   ]
  },
  {
   "cell_type": "markdown",
   "id": "58c02ed5-7528-4362-b41c-72ca96b39369",
   "metadata": {},
   "source": [
    "Now run these commands with parallel to schedule them all, downloading a few files at once"
   ]
  },
  {
   "cell_type": "code",
   "execution_count": 31,
   "id": "28c7f3c3-1c0a-419b-a9b6-68951f46c298",
   "metadata": {},
   "outputs": [
    {
     "name": "stdout",
     "output_type": "stream",
     "text": [
      "spots read      : 824,262\n",
      "reads read      : 1,648,524\n",
      "reads written   : 1,648,524\n",
      "spots read      : 1,230,549\n",
      "reads read      : 2,461,098\n",
      "reads written   : 2,461,098\n",
      "spots read      : 919,490\n",
      "reads read      : 1,838,980\n",
      "reads written   : 1,838,980\n",
      "spots read      : 797,406\n",
      "reads read      : 1,594,812\n",
      "reads written   : 1,594,812\n",
      "spots read      : 963,726\n",
      "reads read      : 1,927,452\n",
      "reads written   : 1,927,452\n",
      "spots read      : 1,390,852\n",
      "reads read      : 2,781,704\n",
      "reads written   : 2,781,704\n",
      "spots read      : 1,505,500\n",
      "reads read      : 3,011,000\n",
      "reads written   : 3,011,000\n",
      "spots read      : 799,810\n",
      "reads read      : 1,599,620\n",
      "reads written   : 1,599,620\n",
      "spots read      : 1,482,963\n",
      "reads read      : 2,965,926\n",
      "reads written   : 2,965,926\n",
      "spots read      : 1,016,422\n",
      "reads read      : 2,032,844\n",
      "reads written   : 2,032,844\n",
      "spots read      : 1,300,892\n",
      "reads read      : 2,601,784\n",
      "reads written   : 2,601,784\n",
      "spots read      : 2,115,600\n",
      "reads read      : 4,231,200\n",
      "reads written   : 4,231,200\n",
      "spots read      : 1,173,990\n",
      "reads read      : 2,347,980\n",
      "reads written   : 2,347,980\n",
      "spots read      : 709,558\n",
      "reads read      : 1,419,116\n",
      "reads written   : 1,419,116\n",
      "spots read      : 14,622,991\n",
      "reads read      : 29,245,982\n",
      "reads written   : 29,245,982\n",
      "spots read      : 982,298\n",
      "reads read      : 1,964,596\n",
      "reads written   : 1,964,596\n",
      "spots read      : 994,586\n",
      "reads read      : 1,989,172\n",
      "reads written   : 1,989,172\n",
      "spots read      : 11,002,912\n",
      "reads read      : 22,005,824\n",
      "reads written   : 22,005,824\n",
      "spots read      : 863,479\n",
      "reads read      : 1,726,958\n",
      "reads written   : 1,726,958\n",
      "spots read      : 941,723\n",
      "reads read      : 1,883,446\n",
      "reads written   : 1,883,446\n",
      "spots read      : 989,134\n",
      "reads read      : 1,978,268\n",
      "reads written   : 1,978,268\n",
      "spots read      : 1,299,265\n",
      "reads read      : 2,598,530\n",
      "reads written   : 2,598,530\n",
      "spots read      : 1,047,339\n",
      "reads read      : 2,094,678\n",
      "reads written   : 2,094,678\n",
      "spots read      : 885,893\n",
      "reads read      : 1,771,786\n",
      "reads written   : 1,771,786\n",
      "spots read      : 1,625,177\n",
      "reads read      : 3,250,354\n",
      "reads written   : 3,250,354\n",
      "spots read      : 780,829\n",
      "reads read      : 1,561,658\n",
      "reads written   : 1,561,658\n",
      "spots read      : 972,941\n",
      "reads read      : 1,945,882\n",
      "reads written   : 1,945,882\n",
      "spots read      : 12,397,317\n",
      "reads read      : 24,794,634\n",
      "reads written   : 24,794,634\n",
      "spots read      : 10,808,422\n",
      "reads read      : 21,616,844\n",
      "reads written   : 21,616,844\n",
      "spots read      : 826,828\n",
      "reads read      : 1,653,656\n",
      "reads written   : 1,653,656\n",
      "spots read      : 1,046,331\n",
      "reads read      : 2,092,662\n",
      "reads written   : 2,092,662\n",
      "spots read      : 764,676\n",
      "reads read      : 1,529,352\n",
      "reads written   : 1,529,352\n",
      "spots read      : 1,338,600\n",
      "reads read      : 2,677,200\n",
      "reads written   : 2,677,200\n",
      "spots read      : 1,371,697\n",
      "reads read      : 2,743,394\n",
      "reads written   : 2,743,394\n",
      "spots read      : 1,600,450\n",
      "reads read      : 3,200,900\n",
      "reads written   : 3,200,900\n",
      "spots read      : 1,670,618\n",
      "reads read      : 3,341,236\n",
      "reads written   : 3,341,236\n",
      "spots read      : 1,369,607\n",
      "reads read      : 2,739,214\n",
      "reads written   : 2,739,214\n",
      "spots read      : 1,507,972\n",
      "reads read      : 3,015,944\n",
      "reads written   : 3,015,944\n",
      "spots read      : 970,158\n",
      "reads read      : 1,940,316\n",
      "reads written   : 1,940,316\n",
      "spots read      : 1,227,841\n",
      "reads read      : 2,455,682\n",
      "reads written   : 2,455,682\n",
      "spots read      : 10,476,115\n",
      "reads read      : 20,952,230\n",
      "reads written   : 20,952,230\n",
      "spots read      : 1,275,916\n",
      "reads read      : 2,551,832\n",
      "reads written   : 2,551,832\n",
      "spots read      : 656,841\n",
      "reads read      : 1,313,682\n",
      "reads written   : 1,313,682\n",
      "spots read      : 1,529,813\n",
      "reads read      : 3,059,626\n",
      "reads written   : 3,059,626\n",
      "spots read      : 841,686\n",
      "reads read      : 1,683,372\n",
      "reads written   : 1,683,372\n",
      "spots read      : 739,972\n",
      "reads read      : 1,479,944\n",
      "reads written   : 1,479,944\n",
      "spots read      : 761,950\n",
      "reads read      : 1,523,900\n",
      "reads written   : 1,523,900\n",
      "spots read      : 764,417\n",
      "reads read      : 1,528,834\n",
      "reads written   : 1,528,834\n",
      "spots read      : 829,652\n",
      "reads read      : 1,659,304\n",
      "reads written   : 1,659,304\n",
      "spots read      : 723,569\n",
      "reads read      : 1,447,138\n",
      "reads written   : 1,447,138\n",
      "spots read      : 778,648\n",
      "reads read      : 1,557,296\n",
      "reads written   : 1,557,296\n",
      "spots read      : 788,611\n",
      "reads read      : 1,577,222\n",
      "reads written   : 1,577,222\n",
      "spots read      : 791,165\n",
      "reads read      : 1,582,330\n",
      "reads written   : 1,582,330\n",
      "spots read      : 730,642\n",
      "reads read      : 1,461,284\n",
      "reads written   : 1,461,284\n",
      "spots read      : 730,976\n",
      "reads read      : 1,461,952\n",
      "reads written   : 1,461,952\n",
      "spots read      : 704,713\n",
      "reads read      : 1,409,426\n",
      "reads written   : 1,409,426\n",
      "spots read      : 763,365\n",
      "reads read      : 1,526,730\n",
      "reads written   : 1,526,730\n",
      "spots read      : 806,499\n",
      "reads read      : 1,612,998\n",
      "reads written   : 1,612,998\n",
      "spots read      : 11,628,012\n",
      "reads read      : 23,256,024\n",
      "reads written   : 23,256,024\n",
      "\n"
     ]
    }
   ],
   "source": [
    "!conda run --name sra-tools parallel -j 2 -a commands.txt"
   ]
  },
  {
   "cell_type": "markdown",
   "id": "3e7292b2-0d02-43d8-abbd-de9099d2ce3d",
   "metadata": {},
   "source": [
    "Now gzip all files"
   ]
  },
  {
   "cell_type": "code",
   "execution_count": 37,
   "id": "54a7d9b9-536d-44da-8dca-c4b1d64613f9",
   "metadata": {},
   "outputs": [],
   "source": [
    "import glob\n",
    "\n",
    "fastq_files = glob.glob('fastq/*.fastq')\n",
    "!parallel -j 32 gzip ::: {' '.join(fastq_files)}"
   ]
  },
  {
   "cell_type": "markdown",
   "id": "8b7282be-91a9-4b95-8c34-8ec66b533d16",
   "metadata": {},
   "source": [
    "# 3. MLST analysis\n",
    "\n",
    "MLST/cgMLST analysis currently needs assembled genomes and is not a part of the main pipeline. So first I must assembled the genomes.\n",
    "\n",
    "## 3.1. Assemble genomes"
   ]
  },
  {
   "cell_type": "code",
   "execution_count": 1,
   "id": "9e034fee-a503-4813-8be9-a92849461f96",
   "metadata": {},
   "outputs": [],
   "source": [
    "import os\n",
    "from pathlib import Path\n",
    "\n",
    "assembly_dir = Path('assemblies')\"\n",
    "if not assembly_dir.exists():\n",
    "    os.mkdir(assembly_dir)"
   ]
  },
  {
   "cell_type": "code",
   "execution_count": 24,
   "id": "11e9543d-e655-43a1-957b-65827f799c39",
   "metadata": {},
   "outputs": [
    {
     "data": {
      "text/html": [
       "<div>\n",
       "<style scoped>\n",
       "    .dataframe tbody tr th:only-of-type {\n",
       "        vertical-align: middle;\n",
       "    }\n",
       "\n",
       "    .dataframe tbody tr th {\n",
       "        vertical-align: top;\n",
       "    }\n",
       "\n",
       "    .dataframe thead th {\n",
       "        text-align: right;\n",
       "    }\n",
       "</style>\n",
       "<table border=\"1\" class=\"dataframe\">\n",
       "  <thead>\n",
       "    <tr style=\"text-align: right;\">\n",
       "      <th></th>\n",
       "      <th>Sample Name</th>\n",
       "      <th>command</th>\n",
       "    </tr>\n",
       "  </thead>\n",
       "  <tbody>\n",
       "    <tr>\n",
       "      <th>0</th>\n",
       "      <td>SH08-001</td>\n",
       "      <td>skesa --cores 8 --reads fastq/SH08-001_1.fastq...</td>\n",
       "    </tr>\n",
       "    <tr>\n",
       "      <th>1</th>\n",
       "      <td>SH09-29</td>\n",
       "      <td>skesa --cores 8 --reads fastq/SH09-29_1.fastq....</td>\n",
       "    </tr>\n",
       "    <tr>\n",
       "      <th>2</th>\n",
       "      <td>SH10-001</td>\n",
       "      <td>skesa --cores 8 --reads fastq/SH10-001_1.fastq...</td>\n",
       "    </tr>\n",
       "  </tbody>\n",
       "</table>\n",
       "</div>"
      ],
      "text/plain": [
       "  Sample Name                                            command\n",
       "0    SH08-001  skesa --cores 8 --reads fastq/SH08-001_1.fastq...\n",
       "1     SH09-29  skesa --cores 8 --reads fastq/SH09-29_1.fastq....\n",
       "2    SH10-001  skesa --cores 8 --reads fastq/SH10-001_1.fastq..."
      ]
     },
     "execution_count": 24,
     "metadata": {},
     "output_type": "execute_result"
    }
   ],
   "source": [
    "assembly_command_df = sra_df_reduced.reset_index()[['Sample Name']]\n",
    "assembly_command_df['command'] = assembly_command_df.apply(lambda x: f'skesa --cores 8 --reads '\n",
    "    f'fastq/{x[\"Sample Name\"]}_1.fastq.gz,fastq/{x[\"Sample Name\"]}_2.fastq.gz --contigs_out assemblies/{x[\"Sample Name\"]}.fasta', axis='columns')\n",
    "assembly_command_df.head(3)"
   ]
  },
  {
   "cell_type": "code",
   "execution_count": 25,
   "id": "b952b1cf-4816-43af-a325-9e02c91f08b7",
   "metadata": {},
   "outputs": [],
   "source": [
    "assembly_command_df['command'].to_csv('assembly-commands.txt', index=False, header=False)\n",
    "# Remove quotes inserted by to_csv\n",
    "!sed -i -e 's/\"//g' assembly-commands.txt"
   ]
  },
  {
   "cell_type": "code",
   "execution_count": 26,
   "id": "f07eca62-ab6c-4146-8214-e84fe8e12582",
   "metadata": {},
   "outputs": [],
   "source": [
    "# Ran below in command-line window since it would take a while in Jupyter\n",
    "#!conda run --name skesa parallel -j 8 -a assembly-commands.txt"
   ]
  },
  {
   "cell_type": "markdown",
   "id": "ff4d932d-ce25-4641-9a19-d022d53a1410",
   "metadata": {},
   "source": [
    "## 3.2. Regular MLST"
   ]
  },
  {
   "cell_type": "code",
   "execution_count": 39,
   "id": "e3ebd6a0-b469-4deb-8fdf-bbf956699c7d",
   "metadata": {},
   "outputs": [
    {
     "name": "stdout",
     "output_type": "stream",
     "text": [
      "mlst 2.19.0\n",
      "\n"
     ]
    }
   ],
   "source": [
    "!conda run --name mlst mlst --version\n",
    "!conda run --name mlst mlst --nopath assemblies/*.fasta > all.mlst.tsv 2> /dev/null"
   ]
  },
  {
   "cell_type": "code",
   "execution_count": 46,
   "id": "6316dac2-457a-493e-9b2b-61e1ac25e334",
   "metadata": {},
   "outputs": [
    {
     "name": "stdout",
     "output_type": "stream",
     "text": [
      "SH08-001.fasta\tsenterica\t15\taroC(2)\tdnaN(7)\themD(9)\thisD(9)\tpurE(5)\tsucA(9)\tthrA(12)\n",
      "SH09-29.fasta\tsenterica\t15\taroC(2)\tdnaN(7)\themD(9)\thisD(9)\tpurE(5)\tsucA(9)\tthrA(12)\n",
      "SH10-001.fasta\tsenterica\t15\taroC(2)\tdnaN(7)\themD(9)\thisD(9)\tpurE(5)\tsucA(9)\tthrA(12)\n",
      "60 all.mlst.tsv\n"
     ]
    }
   ],
   "source": [
    "!head -n 3 all.mlst.tsv\n",
    "!wc -l all.mlst.tsv"
   ]
  },
  {
   "cell_type": "markdown",
   "id": "4b3747d9-3eee-4746-b1b5-b7e47cf9566b",
   "metadata": {},
   "source": [
    "## 3.3. SISTR cgMLST"
   ]
  },
  {
   "cell_type": "code",
   "execution_count": 43,
   "id": "68902eb5-f2db-4019-9131-5befe50f2c34",
   "metadata": {},
   "outputs": [
    {
     "name": "stdout",
     "output_type": "stream",
     "text": [
      "sistr_cmd 1.1.1\n",
      "\n"
     ]
    }
   ],
   "source": [
    "!conda run --name sistr sistr --version\n",
    "!conda run --name sistr sistr -f csv -o all.sistr-predictions.tsv -p all.sistr-profiles.tsv --use-full-cgmlst-db \\\n",
    "    --qc -t 32 assemblies/*.fasta "
   ]
  },
  {
   "cell_type": "code",
   "execution_count": 45,
   "id": "d635f526-bcd4-4b97-a328-c1f6b115a44c",
   "metadata": {},
   "outputs": [
    {
     "name": "stdout",
     "output_type": "stream",
     "text": [
      ",NZ_AOXE01000059.1_60,NZ_AOXE01000019.1_14,NZ_AOXE01000085.1_58\n",
      "SH08-001,3009296265,1560521952,3999802771\n",
      "SH09-29,3009296265,1560521952,3999802771\n",
      "60 all.sistr-profiles.tsv\n"
     ]
    }
   ],
   "source": [
    "!head -n 3 all.sistr-profiles.tsv | cut -f 1,2,3,4 -d ','\n",
    "!wc -l all.sistr-profiles.tsv"
   ]
  },
  {
   "cell_type": "markdown",
   "id": "7b1a97dc-6ed0-4752-b7f7-713d7bef96b2",
   "metadata": {},
   "source": [
    "# 3. Create index"
   ]
  },
  {
   "cell_type": "code",
   "execution_count": 47,
   "id": "f3ca1aad-04c7-4b18-9fde-6a79fa07dbfa",
   "metadata": {},
   "outputs": [
    {
     "name": "stdout",
     "output_type": "stream",
     "text": [
      "gdi, version 0.2.0.dev0\n"
     ]
    }
   ],
   "source": [
    "!gdi --version"
   ]
  },
  {
   "cell_type": "code",
   "execution_count": 48,
   "id": "7ce1eb23-0db6-49bd-a10d-480925a8a34f",
   "metadata": {},
   "outputs": [
    {
     "name": "stdout",
     "output_type": "stream",
     "text": [
      "Initializing empty project in [salmonella-project]\n"
     ]
    }
   ],
   "source": [
    "!gdi init salmonella-project"
   ]
  },
  {
   "cell_type": "markdown",
   "id": "b006e494-3592-4cb1-b91a-534a27929324",
   "metadata": {},
   "source": [
    "## 3.1. Create index of variants and kmers"
   ]
  },
  {
   "cell_type": "code",
   "execution_count": 49,
   "id": "9d85d342-86ed-4252-b08c-a82624160692",
   "metadata": {},
   "outputs": [
    {
     "name": "stdout",
     "output_type": "stream",
     "text": [
      "\u001b[32m2021-08-08 14:25:44\u001b[0m \u001b[1;30mINFO:\u001b[0m Automatically structuring 118 input files into assemblies/reads\n",
      "\u001b[32m2021-08-08 14:25:44\u001b[0m \u001b[1;30mINFO:\u001b[0m Processing 59 genomes to identify mutations\n",
      "\u001b[32m2021-08-08 14:25:44\u001b[0m \u001b[1;30mINFO:\u001b[0m Including snpeff annotations in snakemake results\n",
      "\u001b[32m2021-08-08 14:25:44\u001b[0m \u001b[1;30mINFO:\u001b[0m Running Snakemake for rule all\n",
      "\u001b[32m2021-08-08 15:03:07\u001b[0m \u001b[1;30mINFO:\u001b[0m Finished running snakemake.\n",
      "\u001b[32m2021-08-08 15:03:07\u001b[0m \u001b[1;30mINFO:\u001b[0m Indexing processed VCF files defined in [/home/CSCScience.ca/apetkau/workspace/genomics-data-index-examples/examples/create-index/snakemake-assemblies.1628450744.3240273/gdi-input.fofn]\n",
      "\u001b[32m2021-08-08 15:03:07\u001b[0m \u001b[1;30mWARNING:\u001b[0m \u001b[33mAttempting to set global database_path_translator=<genomics_data_index.storage.model.db.DatabasePathTranslator.DatabasePathTranslator object at 0x7fef541f5f70> but it is already set\u001b[0m\n",
      "\u001b[32m2021-08-08 15:03:07\u001b[0m \u001b[1;30mINFO:\u001b[0m Attempting to load reference genome=[reference/NC_011083.gbk.gz]\n",
      "\u001b[32m2021-08-08 15:03:10\u001b[0m \u001b[1;30mINFO:\u001b[0m Sample batch 1/1: Stage 1/2 (Insert): Processed 0% (0/59) samples\n",
      "\u001b[32m2021-08-08 15:03:13\u001b[0m \u001b[1;30mINFO:\u001b[0m Sample batch 1/1: Stage 1/2 (Insert): Processed 8% (5/59) samples\n",
      "\u001b[32m2021-08-08 15:03:14\u001b[0m \u001b[1;30mINFO:\u001b[0m Sample batch 1/1: Stage 1/2 (Insert): Processed 17% (10/59) samples\n",
      "\u001b[32m2021-08-08 15:03:14\u001b[0m \u001b[1;30mINFO:\u001b[0m Sample batch 1/1: Stage 1/2 (Insert): Processed 25% (15/59) samples\n",
      "\u001b[32m2021-08-08 15:03:14\u001b[0m \u001b[1;30mINFO:\u001b[0m Sample batch 1/1: Stage 1/2 (Insert): Processed 34% (20/59) samples\n",
      "\u001b[32m2021-08-08 15:03:14\u001b[0m \u001b[1;30mINFO:\u001b[0m Sample batch 1/1: Stage 1/2 (Insert): Processed 42% (25/59) samples\n",
      "\u001b[32m2021-08-08 15:03:15\u001b[0m \u001b[1;30mINFO:\u001b[0m Sample batch 1/1: Stage 1/2 (Insert): Processed 51% (30/59) samples\n",
      "\u001b[32m2021-08-08 15:03:15\u001b[0m \u001b[1;30mINFO:\u001b[0m Sample batch 1/1: Stage 1/2 (Insert): Processed 59% (35/59) samples\n",
      "\u001b[32m2021-08-08 15:03:15\u001b[0m \u001b[1;30mINFO:\u001b[0m Sample batch 1/1: Stage 1/2 (Insert): Processed 68% (40/59) samples\n",
      "\u001b[32m2021-08-08 15:03:15\u001b[0m \u001b[1;30mINFO:\u001b[0m Sample batch 1/1: Stage 1/2 (Insert): Processed 76% (45/59) samples\n",
      "\u001b[32m2021-08-08 15:03:16\u001b[0m \u001b[1;30mINFO:\u001b[0m Sample batch 1/1: Stage 1/2 (Insert): Processed 85% (50/59) samples\n",
      "\u001b[32m2021-08-08 15:03:16\u001b[0m \u001b[1;30mINFO:\u001b[0m Sample batch 1/1: Stage 1/2 (Insert): Processed 93% (55/59) samples\n",
      "\u001b[32m2021-08-08 15:03:16\u001b[0m \u001b[1;30mINFO:\u001b[0m Sample batch 1/1: Stage 1/2 (Insert): Processed 100% (59/59) samples\n",
      "\u001b[32m2021-08-08 15:03:16\u001b[0m \u001b[1;30mINFO:\u001b[0m Finished processing 59 samples\n",
      "\u001b[32m2021-08-08 15:03:16\u001b[0m \u001b[1;30mINFO:\u001b[0m Reading features from 59 samples\n",
      "\u001b[32m2021-08-08 15:03:16\u001b[0m \u001b[1;30mINFO:\u001b[0m Sample batch 1/1: Stage 2/2 (Index): Processed 0% (0/59) samples\n",
      "\u001b[32m2021-08-08 15:03:18\u001b[0m \u001b[1;30mINFO:\u001b[0m Sample batch 1/1: Stage 2/2 (Index): Processed 0% (0/59) samples\n",
      "\u001b[32m2021-08-08 15:03:19\u001b[0m \u001b[1;30mINFO:\u001b[0m Sample batch 1/1: Stage 2/2 (Index): Processed 2% (1/59) samples\n",
      "\u001b[32m2021-08-08 15:03:19\u001b[0m \u001b[1;30mINFO:\u001b[0m Sample batch 1/1: Stage 2/2 (Index): Processed 3% (2/59) samples\n",
      "\u001b[32m2021-08-08 15:03:19\u001b[0m \u001b[1;30mINFO:\u001b[0m Sample batch 1/1: Stage 2/2 (Index): Processed 5% (3/59) samples\n",
      "\u001b[32m2021-08-08 15:03:19\u001b[0m \u001b[1;30mINFO:\u001b[0m Sample batch 1/1: Stage 2/2 (Index): Processed 7% (4/59) samples\n",
      "\u001b[32m2021-08-08 15:03:20\u001b[0m \u001b[1;30mINFO:\u001b[0m Sample batch 1/1: Stage 2/2 (Index): Processed 8% (5/59) samples\n",
      "\u001b[32m2021-08-08 15:03:20\u001b[0m \u001b[1;30mINFO:\u001b[0m Sample batch 1/1: Stage 2/2 (Index): Processed 10% (6/59) samples\n",
      "\u001b[32m2021-08-08 15:03:20\u001b[0m \u001b[1;30mINFO:\u001b[0m Sample batch 1/1: Stage 2/2 (Index): Processed 12% (7/59) samples\n",
      "\u001b[32m2021-08-08 15:03:20\u001b[0m \u001b[1;30mINFO:\u001b[0m Sample batch 1/1: Stage 2/2 (Index): Processed 14% (8/59) samples\n",
      "\u001b[32m2021-08-08 15:03:20\u001b[0m \u001b[1;30mINFO:\u001b[0m Sample batch 1/1: Stage 2/2 (Index): Processed 15% (9/59) samples\n",
      "\u001b[32m2021-08-08 15:03:20\u001b[0m \u001b[1;30mINFO:\u001b[0m Sample batch 1/1: Stage 2/2 (Index): Processed 17% (10/59) samples\n",
      "\u001b[32m2021-08-08 15:03:21\u001b[0m \u001b[1;30mINFO:\u001b[0m Sample batch 1/1: Stage 2/2 (Index): Processed 19% (11/59) samples\n",
      "\u001b[32m2021-08-08 15:03:21\u001b[0m \u001b[1;30mINFO:\u001b[0m Sample batch 1/1: Stage 2/2 (Index): Processed 20% (12/59) samples\n",
      "\u001b[32m2021-08-08 15:03:21\u001b[0m \u001b[1;30mINFO:\u001b[0m Sample batch 1/1: Stage 2/2 (Index): Processed 22% (13/59) samples\n",
      "\u001b[32m2021-08-08 15:03:21\u001b[0m \u001b[1;30mINFO:\u001b[0m Sample batch 1/1: Stage 2/2 (Index): Processed 24% (14/59) samples\n",
      "\u001b[32m2021-08-08 15:03:21\u001b[0m \u001b[1;30mINFO:\u001b[0m Sample batch 1/1: Stage 2/2 (Index): Processed 25% (15/59) samples\n",
      "\u001b[32m2021-08-08 15:03:21\u001b[0m \u001b[1;30mINFO:\u001b[0m Sample batch 1/1: Stage 2/2 (Index): Processed 27% (16/59) samples\n",
      "\u001b[32m2021-08-08 15:03:22\u001b[0m \u001b[1;30mINFO:\u001b[0m Sample batch 1/1: Stage 2/2 (Index): Processed 29% (17/59) samples\n",
      "\u001b[32m2021-08-08 15:03:22\u001b[0m \u001b[1;30mINFO:\u001b[0m Sample batch 1/1: Stage 2/2 (Index): Processed 31% (18/59) samples\n",
      "\u001b[32m2021-08-08 15:03:22\u001b[0m \u001b[1;30mINFO:\u001b[0m Sample batch 1/1: Stage 2/2 (Index): Processed 32% (19/59) samples\n",
      "\u001b[32m2021-08-08 15:03:22\u001b[0m \u001b[1;30mINFO:\u001b[0m Sample batch 1/1: Stage 2/2 (Index): Processed 34% (20/59) samples\n",
      "\u001b[32m2021-08-08 15:03:22\u001b[0m \u001b[1;30mINFO:\u001b[0m Sample batch 1/1: Stage 2/2 (Index): Processed 36% (21/59) samples\n",
      "\u001b[32m2021-08-08 15:03:22\u001b[0m \u001b[1;30mINFO:\u001b[0m Sample batch 1/1: Stage 2/2 (Index): Processed 37% (22/59) samples\n",
      "\u001b[32m2021-08-08 15:03:23\u001b[0m \u001b[1;30mINFO:\u001b[0m Sample batch 1/1: Stage 2/2 (Index): Processed 39% (23/59) samples\n",
      "\u001b[32m2021-08-08 15:03:23\u001b[0m \u001b[1;30mINFO:\u001b[0m Sample batch 1/1: Stage 2/2 (Index): Processed 41% (24/59) samples\n",
      "\u001b[32m2021-08-08 15:03:23\u001b[0m \u001b[1;30mINFO:\u001b[0m Sample batch 1/1: Stage 2/2 (Index): Processed 42% (25/59) samples\n",
      "\u001b[32m2021-08-08 15:03:23\u001b[0m \u001b[1;30mINFO:\u001b[0m Sample batch 1/1: Stage 2/2 (Index): Processed 44% (26/59) samples\n",
      "\u001b[32m2021-08-08 15:03:23\u001b[0m \u001b[1;30mINFO:\u001b[0m Sample batch 1/1: Stage 2/2 (Index): Processed 46% (27/59) samples\n",
      "\u001b[32m2021-08-08 15:03:23\u001b[0m \u001b[1;30mINFO:\u001b[0m Sample batch 1/1: Stage 2/2 (Index): Processed 47% (28/59) samples\n",
      "\u001b[32m2021-08-08 15:03:24\u001b[0m \u001b[1;30mINFO:\u001b[0m Sample batch 1/1: Stage 2/2 (Index): Processed 49% (29/59) samples\n",
      "\u001b[32m2021-08-08 15:03:24\u001b[0m \u001b[1;30mINFO:\u001b[0m Sample batch 1/1: Stage 2/2 (Index): Processed 51% (30/59) samples\n",
      "\u001b[32m2021-08-08 15:03:24\u001b[0m \u001b[1;30mINFO:\u001b[0m Sample batch 1/1: Stage 2/2 (Index): Processed 53% (31/59) samples\n",
      "\u001b[32m2021-08-08 15:03:24\u001b[0m \u001b[1;30mINFO:\u001b[0m Sample batch 1/1: Stage 2/2 (Index): Processed 54% (32/59) samples\n",
      "\u001b[32m2021-08-08 15:03:24\u001b[0m \u001b[1;30mINFO:\u001b[0m Sample batch 1/1: Stage 2/2 (Index): Processed 56% (33/59) samples\n",
      "\u001b[32m2021-08-08 15:03:24\u001b[0m \u001b[1;30mINFO:\u001b[0m Sample batch 1/1: Stage 2/2 (Index): Processed 58% (34/59) samples\n",
      "\u001b[32m2021-08-08 15:03:24\u001b[0m \u001b[1;30mINFO:\u001b[0m Sample batch 1/1: Stage 2/2 (Index): Processed 59% (35/59) samples\n",
      "\u001b[32m2021-08-08 15:03:25\u001b[0m \u001b[1;30mINFO:\u001b[0m Sample batch 1/1: Stage 2/2 (Index): Processed 61% (36/59) samples\n",
      "\u001b[32m2021-08-08 15:03:25\u001b[0m \u001b[1;30mINFO:\u001b[0m Sample batch 1/1: Stage 2/2 (Index): Processed 63% (37/59) samples\n",
      "\u001b[32m2021-08-08 15:03:25\u001b[0m \u001b[1;30mINFO:\u001b[0m Sample batch 1/1: Stage 2/2 (Index): Processed 64% (38/59) samples\n",
      "\u001b[32m2021-08-08 15:03:25\u001b[0m \u001b[1;30mINFO:\u001b[0m Sample batch 1/1: Stage 2/2 (Index): Processed 66% (39/59) samples\n",
      "\u001b[32m2021-08-08 15:03:25\u001b[0m \u001b[1;30mINFO:\u001b[0m Sample batch 1/1: Stage 2/2 (Index): Processed 68% (40/59) samples\n",
      "\u001b[32m2021-08-08 15:03:25\u001b[0m \u001b[1;30mINFO:\u001b[0m Sample batch 1/1: Stage 2/2 (Index): Processed 69% (41/59) samples\n",
      "\u001b[32m2021-08-08 15:03:26\u001b[0m \u001b[1;30mINFO:\u001b[0m Sample batch 1/1: Stage 2/2 (Index): Processed 71% (42/59) samples\n",
      "\u001b[32m2021-08-08 15:03:26\u001b[0m \u001b[1;30mINFO:\u001b[0m Sample batch 1/1: Stage 2/2 (Index): Processed 73% (43/59) samples\n",
      "\u001b[32m2021-08-08 15:03:26\u001b[0m \u001b[1;30mINFO:\u001b[0m Sample batch 1/1: Stage 2/2 (Index): Processed 75% (44/59) samples\n",
      "\u001b[32m2021-08-08 15:03:26\u001b[0m \u001b[1;30mINFO:\u001b[0m Sample batch 1/1: Stage 2/2 (Index): Processed 76% (45/59) samples\n",
      "\u001b[32m2021-08-08 15:03:26\u001b[0m \u001b[1;30mINFO:\u001b[0m Sample batch 1/1: Stage 2/2 (Index): Processed 78% (46/59) samples\n",
      "\u001b[32m2021-08-08 15:03:26\u001b[0m \u001b[1;30mINFO:\u001b[0m Sample batch 1/1: Stage 2/2 (Index): Processed 80% (47/59) samples\n",
      "\u001b[32m2021-08-08 15:03:27\u001b[0m \u001b[1;30mINFO:\u001b[0m Sample batch 1/1: Stage 2/2 (Index): Processed 81% (48/59) samples\n",
      "\u001b[32m2021-08-08 15:03:27\u001b[0m \u001b[1;30mINFO:\u001b[0m Sample batch 1/1: Stage 2/2 (Index): Processed 83% (49/59) samples\n",
      "\u001b[32m2021-08-08 15:03:27\u001b[0m \u001b[1;30mINFO:\u001b[0m Sample batch 1/1: Stage 2/2 (Index): Processed 85% (50/59) samples\n",
      "\u001b[32m2021-08-08 15:03:27\u001b[0m \u001b[1;30mINFO:\u001b[0m Sample batch 1/1: Stage 2/2 (Index): Processed 86% (51/59) samples\n",
      "\u001b[32m2021-08-08 15:03:27\u001b[0m \u001b[1;30mINFO:\u001b[0m Sample batch 1/1: Stage 2/2 (Index): Processed 88% (52/59) samples\n",
      "\u001b[32m2021-08-08 15:03:27\u001b[0m \u001b[1;30mINFO:\u001b[0m Sample batch 1/1: Stage 2/2 (Index): Processed 90% (53/59) samples\n",
      "\u001b[32m2021-08-08 15:03:28\u001b[0m \u001b[1;30mINFO:\u001b[0m Sample batch 1/1: Stage 2/2 (Index): Processed 92% (54/59) samples\n",
      "\u001b[32m2021-08-08 15:03:28\u001b[0m \u001b[1;30mINFO:\u001b[0m Sample batch 1/1: Stage 2/2 (Index): Processed 93% (55/59) samples\n",
      "\u001b[32m2021-08-08 15:03:28\u001b[0m \u001b[1;30mINFO:\u001b[0m Sample batch 1/1: Stage 2/2 (Index): Processed 95% (56/59) samples\n",
      "\u001b[32m2021-08-08 15:03:28\u001b[0m \u001b[1;30mINFO:\u001b[0m Sample batch 1/1: Stage 2/2 (Index): Processed 97% (57/59) samples\n",
      "\u001b[32m2021-08-08 15:03:28\u001b[0m \u001b[1;30mINFO:\u001b[0m Sample batch 1/1: Stage 2/2 (Index): Processed 98% (58/59) samples\n",
      "\u001b[32m2021-08-08 15:03:28\u001b[0m \u001b[1;30mINFO:\u001b[0m Sample batch 1/1: Stage 2/2 (Index): Processed 100% (59/59) samples\n",
      "\u001b[32m2021-08-08 15:03:37\u001b[0m \u001b[1;30mINFO:\u001b[0m Aggregating 10944225 features found in 59 samples\n",
      "\u001b[32m2021-08-08 15:08:23\u001b[0m \u001b[1;30mINFO:\u001b[0m A total of 279596 unique features across 59 samples will be updated. Searching for existing features in the database.\n",
      "\u001b[32m2021-08-08 15:08:23\u001b[0m \u001b[1;30mINFO:\u001b[0m Found 0/279596 features in database which already exist. These features will be updated to map to the new samples.\n",
      "\u001b[32m2021-08-08 15:08:24\u001b[0m \u001b[1;30mINFO:\u001b[0m Updating 0/279596 existing features in database\n",
      "\u001b[32m2021-08-08 15:08:24\u001b[0m \u001b[1;30mINFO:\u001b[0m Saving 279596/279596 new features in database\n",
      "\u001b[32m2021-08-08 15:08:31\u001b[0m \u001b[1;30mINFO:\u001b[0m Finished indexing features from 59 samples\n",
      "\u001b[32m2021-08-08 15:08:32\u001b[0m \u001b[1;30mINFO:\u001b[0m Loaded variants from [/home/CSCScience.ca/apetkau/workspace/genomics-data-index-examples/examples/create-index/snakemake-assemblies.1628450744.3240273/gdi-input.fofn] into database\n",
      "\u001b[32m2021-08-08 15:08:32\u001b[0m \u001b[1;30mINFO:\u001b[0m --clean is enabled so deleting [/home/CSCScience.ca/apetkau/workspace/genomics-data-index-examples/examples/create-index/snakemake-assemblies.1628450744.3240273]\n"
     ]
    }
   ],
   "source": [
    "!gdi --project-dir salmonella-project --ncores 48 analysis \\\n",
    "    --reference-file reference/NC_011083.gbk.gz --use-conda \\\n",
    "    --kmer-size 31 --kmer-size 51 --kmer-size 71 --kmer-scaled 100 fastq/*.fastq.gz"
   ]
  },
  {
   "cell_type": "markdown",
   "id": "f895bc77-8836-47aa-ace7-7dcbb27021fa",
   "metadata": {},
   "source": [
    "## 3.2. Build ML tree from variants"
   ]
  },
  {
   "cell_type": "code",
   "execution_count": 50,
   "id": "10d779f0-b0b4-41ac-800f-cbc0c8c8ddd9",
   "metadata": {},
   "outputs": [
    {
     "name": "stdout",
     "output_type": "stream",
     "text": [
      "\u001b[32m2021-08-08 15:16:20\u001b[0m \u001b[1;30mINFO:\u001b[0m Started rebuilding tree for reference genome [NC_011083]\n",
      "\u001b[32m2021-08-08 15:20:19\u001b[0m \u001b[1;30mINFO:\u001b[0m Finished rebuilding tree\n"
     ]
    }
   ],
   "source": [
    "!gdi --project-dir salmonella-project --ncores 48 rebuild tree \\\n",
    "    --align-type full --extra-params '--fast' NC_011083"
   ]
  },
  {
   "cell_type": "markdown",
   "id": "fa6f4c41-9beb-456e-893d-8138879f19bf",
   "metadata": {},
   "source": [
    "## 3.3. Insert regular MLST results"
   ]
  },
  {
   "cell_type": "code",
   "execution_count": 51,
   "id": "92f54afc-616d-4351-a15e-56d1e6579547",
   "metadata": {},
   "outputs": [
    {
     "name": "stdout",
     "output_type": "stream",
     "text": [
      "Loading MLST results from all.mlst.tsv\n",
      "\u001b[32m2021-08-08 15:20:22\u001b[0m \u001b[1;30mINFO:\u001b[0m Stage 1/2 (Insert): Processed 0% (0/59) samples\n",
      "\u001b[32m2021-08-08 15:20:22\u001b[0m \u001b[1;30mINFO:\u001b[0m Stage 1/2 (Insert): Processed 8% (5/59) samples\n",
      "\u001b[32m2021-08-08 15:20:22\u001b[0m \u001b[1;30mINFO:\u001b[0m Stage 1/2 (Insert): Processed 17% (10/59) samples\n",
      "\u001b[32m2021-08-08 15:20:22\u001b[0m \u001b[1;30mINFO:\u001b[0m Stage 1/2 (Insert): Processed 25% (15/59) samples\n",
      "\u001b[32m2021-08-08 15:20:22\u001b[0m \u001b[1;30mINFO:\u001b[0m Stage 1/2 (Insert): Processed 34% (20/59) samples\n",
      "\u001b[32m2021-08-08 15:20:22\u001b[0m \u001b[1;30mINFO:\u001b[0m Stage 1/2 (Insert): Processed 42% (25/59) samples\n",
      "\u001b[32m2021-08-08 15:20:22\u001b[0m \u001b[1;30mINFO:\u001b[0m Stage 1/2 (Insert): Processed 51% (30/59) samples\n",
      "\u001b[32m2021-08-08 15:20:22\u001b[0m \u001b[1;30mINFO:\u001b[0m Stage 1/2 (Insert): Processed 59% (35/59) samples\n",
      "\u001b[32m2021-08-08 15:20:22\u001b[0m \u001b[1;30mINFO:\u001b[0m Stage 1/2 (Insert): Processed 68% (40/59) samples\n",
      "\u001b[32m2021-08-08 15:20:22\u001b[0m \u001b[1;30mINFO:\u001b[0m Stage 1/2 (Insert): Processed 76% (45/59) samples\n",
      "\u001b[32m2021-08-08 15:20:22\u001b[0m \u001b[1;30mINFO:\u001b[0m Stage 1/2 (Insert): Processed 85% (50/59) samples\n",
      "\u001b[32m2021-08-08 15:20:22\u001b[0m \u001b[1;30mINFO:\u001b[0m Stage 1/2 (Insert): Processed 93% (55/59) samples\n",
      "\u001b[32m2021-08-08 15:20:22\u001b[0m \u001b[1;30mINFO:\u001b[0m Stage 1/2 (Insert): Processed 100% (59/59) samples\n",
      "\u001b[32m2021-08-08 15:20:22\u001b[0m \u001b[1;30mINFO:\u001b[0m Finished processing 59 samples\n",
      "\u001b[32m2021-08-08 15:20:22\u001b[0m \u001b[1;30mINFO:\u001b[0m Reading features from 59 samples\n",
      "\u001b[32m2021-08-08 15:20:22\u001b[0m \u001b[1;30mINFO:\u001b[0m Aggregating 413 features found in 59 samples\n",
      "\u001b[32m2021-08-08 15:20:22\u001b[0m \u001b[1;30mINFO:\u001b[0m A total of 7 unique features across 59 samples will be updated. Searching for existing features in the database.\n",
      "\u001b[32m2021-08-08 15:20:22\u001b[0m \u001b[1;30mINFO:\u001b[0m Found 0/7 features in database which already exist. These features will be updated to map to the new samples.\n",
      "\u001b[32m2021-08-08 15:20:22\u001b[0m \u001b[1;30mINFO:\u001b[0m Updating 0/7 existing features in database\n",
      "\u001b[32m2021-08-08 15:20:22\u001b[0m \u001b[1;30mINFO:\u001b[0m Saving 7/7 new features in database\n",
      "\u001b[32m2021-08-08 15:20:22\u001b[0m \u001b[1;30mINFO:\u001b[0m Finished indexing features from 59 samples\n"
     ]
    }
   ],
   "source": [
    "!gdi --project-dir salmonella-project load mlst-tseemann all.mlst.tsv"
   ]
  },
  {
   "cell_type": "markdown",
   "id": "cdb2c954-1886-4c15-ab11-054e6563d9b4",
   "metadata": {},
   "source": [
    "## 3.4. Insert SISTR cgMLST"
   ]
  },
  {
   "cell_type": "code",
   "execution_count": 52,
   "id": "92e97bae-f940-4d4a-b64d-4364ecdd4191",
   "metadata": {},
   "outputs": [
    {
     "name": "stdout",
     "output_type": "stream",
     "text": [
      "Loading cgMLST results from all.sistr-profiles.tsv\n",
      "\u001b[32m2021-08-08 15:20:25\u001b[0m \u001b[1;30mINFO:\u001b[0m Stage 1/2 (Insert): Processed 0% (0/59) samples\n",
      "\u001b[32m2021-08-08 15:20:25\u001b[0m \u001b[1;30mINFO:\u001b[0m Stage 1/2 (Insert): Processed 8% (5/59) samples\n",
      "\u001b[32m2021-08-08 15:20:25\u001b[0m \u001b[1;30mINFO:\u001b[0m Stage 1/2 (Insert): Processed 17% (10/59) samples\n",
      "\u001b[32m2021-08-08 15:20:25\u001b[0m \u001b[1;30mINFO:\u001b[0m Stage 1/2 (Insert): Processed 25% (15/59) samples\n",
      "\u001b[32m2021-08-08 15:20:25\u001b[0m \u001b[1;30mINFO:\u001b[0m Stage 1/2 (Insert): Processed 34% (20/59) samples\n",
      "\u001b[32m2021-08-08 15:20:25\u001b[0m \u001b[1;30mINFO:\u001b[0m Stage 1/2 (Insert): Processed 42% (25/59) samples\n",
      "\u001b[32m2021-08-08 15:20:25\u001b[0m \u001b[1;30mINFO:\u001b[0m Stage 1/2 (Insert): Processed 51% (30/59) samples\n",
      "\u001b[32m2021-08-08 15:20:25\u001b[0m \u001b[1;30mINFO:\u001b[0m Stage 1/2 (Insert): Processed 59% (35/59) samples\n",
      "\u001b[32m2021-08-08 15:20:25\u001b[0m \u001b[1;30mINFO:\u001b[0m Stage 1/2 (Insert): Processed 68% (40/59) samples\n",
      "\u001b[32m2021-08-08 15:20:25\u001b[0m \u001b[1;30mINFO:\u001b[0m Stage 1/2 (Insert): Processed 76% (45/59) samples\n",
      "\u001b[32m2021-08-08 15:20:25\u001b[0m \u001b[1;30mINFO:\u001b[0m Stage 1/2 (Insert): Processed 85% (50/59) samples\n",
      "\u001b[32m2021-08-08 15:20:25\u001b[0m \u001b[1;30mINFO:\u001b[0m Stage 1/2 (Insert): Processed 93% (55/59) samples\n",
      "\u001b[32m2021-08-08 15:20:25\u001b[0m \u001b[1;30mINFO:\u001b[0m Stage 1/2 (Insert): Processed 100% (59/59) samples\n",
      "\u001b[32m2021-08-08 15:20:25\u001b[0m \u001b[1;30mINFO:\u001b[0m Finished processing 59 samples\n",
      "\u001b[32m2021-08-08 15:20:25\u001b[0m \u001b[1;30mINFO:\u001b[0m Reading features from 59 samples\n",
      "\u001b[32m2021-08-08 15:20:25\u001b[0m \u001b[1;30mINFO:\u001b[0m Aggregating 19470 features found in 59 samples\n",
      "\u001b[32m2021-08-08 15:20:25\u001b[0m \u001b[1;30mINFO:\u001b[0m A total of 347 unique features across 59 samples will be updated. Searching for existing features in the database.\n",
      "\u001b[32m2021-08-08 15:20:25\u001b[0m \u001b[1;30mINFO:\u001b[0m Found 0/347 features in database which already exist. These features will be updated to map to the new samples.\n",
      "\u001b[32m2021-08-08 15:20:25\u001b[0m \u001b[1;30mINFO:\u001b[0m Updating 0/347 existing features in database\n",
      "\u001b[32m2021-08-08 15:20:25\u001b[0m \u001b[1;30mINFO:\u001b[0m Saving 347/347 new features in database\n",
      "\u001b[32m2021-08-08 15:20:25\u001b[0m \u001b[1;30mINFO:\u001b[0m Finished indexing features from 59 samples\n"
     ]
    }
   ],
   "source": [
    "!gdi --project-dir salmonella-project load mlst-sistr all.sistr-profiles.tsv"
   ]
  },
  {
   "cell_type": "markdown",
   "id": "fe05132b-a128-43b1-b20f-9219c6bd35ea",
   "metadata": {},
   "source": [
    "# 4. Zip up index"
   ]
  },
  {
   "cell_type": "code",
   "execution_count": 53,
   "id": "240134e5-e24d-400e-bbe3-2e87e504ccff",
   "metadata": {},
   "outputs": [],
   "source": [
    "!zip -r salmonella-project.zip salmonella-project 1> /dev/null"
   ]
  }
 ],
 "metadata": {
  "kernelspec": {
   "display_name": "Python 3 (ipykernel)",
   "language": "python",
   "name": "python3"
  },
  "language_info": {
   "codemirror_mode": {
    "name": "ipython",
    "version": 3
   },
   "file_extension": ".py",
   "mimetype": "text/x-python",
   "name": "python",
   "nbconvert_exporter": "python",
   "pygments_lexer": "ipython3",
   "version": "3.8.10"
  }
 },
 "nbformat": 4,
 "nbformat_minor": 5
}
